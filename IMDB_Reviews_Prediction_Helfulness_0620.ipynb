{
  "metadata": {
    "kernelspec": {
      "display_name": "Python 3",
      "name": "python3"
    },
    "language_info": {
      "pygments_lexer": "ipython3",
      "nbconvert_exporter": "python",
      "version": "3.6.4",
      "file_extension": ".py",
      "codemirror_mode": {
        "name": "ipython",
        "version": 3
      },
      "name": "python",
      "mimetype": "text/x-python"
    },
    "kaggle": {
      "accelerator": "none",
      "dataSources": [
        {
          "sourceId": 1836923,
          "sourceType": "datasetVersion",
          "datasetId": 1092024
        }
      ],
      "dockerImageVersionId": 30060,
      "isInternetEnabled": false,
      "language": "python",
      "sourceType": "notebook",
      "isGpuEnabled": false
    },
    "colab": {
      "provenance": [],
      "machine_shape": "hm",
      "gpuType": "L4",
      "toc_visible": true
    },
    "accelerator": "GPU"
  },
  "nbformat_minor": 0,
  "nbformat": 4,
  "cells": [
    {
      "source": [
        "\n",
        "# IMPORTANT: RUN THIS CELL IN ORDER TO IMPORT YOUR KAGGLE DATA SOURCES\n",
        "# TO THE CORRECT LOCATION (/kaggle/input) IN YOUR NOTEBOOK,\n",
        "# THEN FEEL FREE TO DELETE THIS CELL.\n",
        "# NOTE: THIS NOTEBOOK ENVIRONMENT DIFFERS FROM KAGGLE'S PYTHON\n",
        "# ENVIRONMENT SO THERE MAY BE MISSING LIBRARIES USED BY YOUR\n",
        "# NOTEBOOK.\n",
        "\n",
        "import os\n",
        "import sys\n",
        "from tempfile import NamedTemporaryFile\n",
        "from urllib.request import urlopen\n",
        "from urllib.parse import unquote, urlparse\n",
        "from urllib.error import HTTPError\n",
        "from zipfile import ZipFile\n",
        "import tarfile\n",
        "import shutil\n",
        "\n",
        "CHUNK_SIZE = 40960\n",
        "DATA_SOURCE_MAPPING = 'imdb-review-dataset:https%3A%2F%2Fstorage.googleapis.com%2Fkaggle-data-sets%2F1092024%2F1836923%2Fbundle%2Farchive.zip%3FX-Goog-Algorithm%3DGOOG4-RSA-SHA256%26X-Goog-Credential%3Dgcp-kaggle-com%2540kaggle-161607.iam.gserviceaccount.com%252F20240617%252Fauto%252Fstorage%252Fgoog4_request%26X-Goog-Date%3D20240617T232952Z%26X-Goog-Expires%3D259200%26X-Goog-SignedHeaders%3Dhost%26X-Goog-Signature%3Db836d8c4f6d1a8bbfa25139e88ea5b2f9f987bd3d66a28f77aed857033a789df0877c2ba57876981047822d7dce60d9a077e86041ff9959e1b170a5194a3c36a34cf6571dca68f07425e0d108613b20d32620f61b1599e75d99e60e60bafbdd9e0c2f6e145188d1b1287410e92eab72071b966051eae0e756fed0984647fe0df13972d2c742d1e25b6e77c897c2130eae4404dbd6cc8c17ee4447d8bb76e256e8b14bd68c4abc14bef73e82456b70dcabc08c31afa47292e2d4fb6f3abe8cf2077c3cda28715ed49008ab1417c3e413321e3859e8867b4c289b5ac759442b0667019a808ef16989d621ecba7f154a739ad33f6c936f784370a4a4db81af19cd9'\n",
        "\n",
        "KAGGLE_INPUT_PATH='/kaggle/input'\n",
        "KAGGLE_WORKING_PATH='/kaggle/working'\n",
        "KAGGLE_SYMLINK='kaggle'\n",
        "\n",
        "!umount /kaggle/input/ 2> /dev/null\n",
        "shutil.rmtree('/kaggle/input', ignore_errors=True)\n",
        "os.makedirs(KAGGLE_INPUT_PATH, 0o777, exist_ok=True)\n",
        "os.makedirs(KAGGLE_WORKING_PATH, 0o777, exist_ok=True)\n",
        "\n",
        "try:\n",
        "  os.symlink(KAGGLE_INPUT_PATH, os.path.join(\"..\", 'input'), target_is_directory=True)\n",
        "except FileExistsError:\n",
        "  pass\n",
        "try:\n",
        "  os.symlink(KAGGLE_WORKING_PATH, os.path.join(\"..\", 'working'), target_is_directory=True)\n",
        "except FileExistsError:\n",
        "  pass\n",
        "\n",
        "for data_source_mapping in DATA_SOURCE_MAPPING.split(','):\n",
        "    directory, download_url_encoded = data_source_mapping.split(':')\n",
        "    download_url = unquote(download_url_encoded)\n",
        "    filename = urlparse(download_url).path\n",
        "    destination_path = os.path.join(KAGGLE_INPUT_PATH, directory)\n",
        "    try:\n",
        "        with urlopen(download_url) as fileres, NamedTemporaryFile() as tfile:\n",
        "            total_length = fileres.headers['content-length']\n",
        "            print(f'Downloading {directory}, {total_length} bytes compressed')\n",
        "            dl = 0\n",
        "            data = fileres.read(CHUNK_SIZE)\n",
        "            while len(data) > 0:\n",
        "                dl += len(data)\n",
        "                tfile.write(data)\n",
        "                done = int(50 * dl / int(total_length))\n",
        "                sys.stdout.write(f\"\\r[{'=' * done}{' ' * (50-done)}] {dl} bytes downloaded\")\n",
        "                sys.stdout.flush()\n",
        "                data = fileres.read(CHUNK_SIZE)\n",
        "            if filename.endswith('.zip'):\n",
        "              with ZipFile(tfile) as zfile:\n",
        "                zfile.extractall(destination_path)\n",
        "            else:\n",
        "              with tarfile.open(tfile.name) as tarfile:\n",
        "                tarfile.extractall(destination_path)\n",
        "            print(f'\\nDownloaded and uncompressed: {directory}')\n",
        "    except HTTPError as e:\n",
        "        print(f'Failed to load (likely expired) {download_url} to path {destination_path}')\n",
        "        continue\n",
        "    except OSError as e:\n",
        "        print(f'Failed to load {download_url} to path {destination_path}')\n",
        "        continue\n",
        "\n",
        "print('Data source import complete.')\n"
      ],
      "metadata": {
        "id": "supMW4DuiSD9",
        "colab": {
          "base_uri": "https://localhost:8080/"
        },
        "outputId": "47b4c9c4-252b-42b8-8ad5-5f2e88060b9b"
      },
      "cell_type": "code",
      "outputs": [
        {
          "output_type": "stream",
          "name": "stdout",
          "text": [
            "Downloading imdb-review-dataset, 2888741649 bytes compressed\n",
            "[==================================================] 2888741649 bytes downloaded\n",
            "Downloaded and uncompressed: imdb-review-dataset\n",
            "Data source import complete.\n"
          ]
        }
      ],
      "execution_count": null
    },
    {
      "cell_type": "markdown",
      "source": [
        "# Read Source Data"
      ],
      "metadata": {
        "id": "ok4klgoyiSEC"
      }
    },
    {
      "cell_type": "code",
      "source": [
        "# Import dependencies\n",
        "import json # reading in source file\n",
        "import re # regular expressions\n",
        "import time\n",
        "import pandas as pd\n",
        "# TODO Investigate \"SettingWithCopyWarning\" and refactor df assignments using .loc\n",
        "pd.options.mode.chained_assignment = None"
      ],
      "metadata": {
        "trusted": true,
        "id": "pdhqY9nYiSED"
      },
      "execution_count": null,
      "outputs": []
    },
    {
      "cell_type": "code",
      "source": [
        "# Load data into dataframe\n",
        "dataDir = \"/kaggle/input/imdb-review-dataset/\"\n",
        "files_to_load = [\"part-01.json\", \"part-02.json\", \"part-03.json\", \"part-04.json\", \"part-05.json\", \"part-06.json\"]\n",
        "reviews_json = list()\n",
        "\n",
        "startTime = time.time()\n",
        "for current_file in files_to_load:\n",
        "    print(f\"Starting load of {current_file}...\")\n",
        "    with open(f\"{dataDir}/{current_file}\", mode='r') as file:\n",
        "        new_reviews = json.load(file)\n",
        "        for review in new_reviews:\n",
        "            reviews_json.append(review)\n",
        "    print(f\"Finished load of {current_file} at {time.time() - startTime:.2f} total seconds elapsed\")\n",
        "print(f\"Loading complete after {time.time() - startTime:.2f} seconds, {len(reviews_json):,} items in reviews_json\")\n",
        "\n",
        "reviews_total_count = len(reviews_json)\n",
        "print(f\"Total reviews in the working data: {reviews_total_count:,}\")\n",
        "\n",
        "# Convert list of dicts to pandas dataframe\n",
        "reviews_df_raw = pd.DataFrame(reviews_json)"
      ],
      "metadata": {
        "trusted": true,
        "id": "FoGYn-2jiSED",
        "colab": {
          "base_uri": "https://localhost:8080/"
        },
        "outputId": "2a5580a4-a2fb-487c-cb81-6578de99cc15"
      },
      "execution_count": null,
      "outputs": [
        {
          "output_type": "stream",
          "name": "stdout",
          "text": [
            "Starting load of part-01.json...\n",
            "Finished load of part-01.json at 9.18 total seconds elapsed\n",
            "Starting load of part-02.json...\n",
            "Finished load of part-02.json at 19.33 total seconds elapsed\n",
            "Starting load of part-03.json...\n",
            "Finished load of part-03.json at 30.67 total seconds elapsed\n",
            "Starting load of part-04.json...\n",
            "Finished load of part-04.json at 40.71 total seconds elapsed\n",
            "Starting load of part-05.json...\n",
            "Finished load of part-05.json at 52.73 total seconds elapsed\n",
            "Starting load of part-06.json...\n",
            "Finished load of part-06.json at 59.89 total seconds elapsed\n",
            "Loading complete after 59.89 seconds, 5,571,499 items in reviews_json\n",
            "Total reviews in the working data: 5,571,499\n"
          ]
        }
      ]
    },
    {
      "cell_type": "code",
      "source": [
        "## LIMITED RESOURCES MODE: COMMENT OUT ABOVE BLOCK AND UNCOMMENT BELOW BEFORE RUNNING NOTEBOOK\n",
        "#part_one_filepath = 'DataFolder/part-01.json' # Replace with your filepath\n",
        "#with open(part_one_filepath, mode='r') as file:\n",
        "#    reviews_json = json.load(file)\n",
        "#\n",
        "## Remove the [...] piece below to test with the full ~1mil records in part-01.json\n",
        "#reviews_df_raw = pd.DataFrame(reviews_json[0:100000]) # Use 100,000 records, about 10% of first chunk"
      ],
      "metadata": {
        "trusted": true,
        "id": "jvOAjReiiSEE"
      },
      "execution_count": null,
      "outputs": []
    },
    {
      "cell_type": "markdown",
      "source": [
        "# 1.EDA"
      ],
      "metadata": {
        "id": "GQGQFEx1qTRG"
      }
    },
    {
      "cell_type": "markdown",
      "source": [
        "## 1.1Trim Columns, Set Data Types"
      ],
      "metadata": {
        "id": "nhud83EHiSEF"
      }
    },
    {
      "cell_type": "markdown",
      "source": [
        "###Missing value"
      ],
      "metadata": {
        "id": "-bdTxdr2rtQ6"
      }
    },
    {
      "cell_type": "code",
      "source": [
        "# Peek at the data before get started\n",
        "reviews_df_raw.head(10)"
      ],
      "metadata": {
        "trusted": true,
        "id": "WoMumug4iSEF",
        "colab": {
          "base_uri": "https://localhost:8080/",
          "height": 363
        },
        "outputId": "e3b2160a-f8d1-4476-df1a-1a3e1f5fb0be"
      },
      "execution_count": null,
      "outputs": [
        {
          "output_type": "execute_result",
          "data": {
            "text/plain": [
              "   review_id           reviewer                          movie rating  \\\n",
              "0  rw5704482      raeldor-96879            After Life (2019– )      9   \n",
              "1  rw5704483            dosleeb  The Valhalla Murders (2019– )      6   \n",
              "2  rw5704484    brightconscious           Special OPS (2020– )      7   \n",
              "3  rw5704485         gasconyway              #BlackAF (2020– )      8   \n",
              "4  rw5704487       mmason-15867             The Droving (2020)      2   \n",
              "5  rw5704488  schroederagustavo           All About Eve (1950)     10   \n",
              "6  rw5704489            welhof1           Runaway Train (1985)      7   \n",
              "7  rw5704490            Evastar          Iron Fist (2017–2018)      9   \n",
              "8  rw5704491             tioeta      The Half of It (I) (2020)      4   \n",
              "9  rw5704492      stephenrifkin            This Is Us (2016– )      2   \n",
              "\n",
              "                                      review_summary review_date  spoiler_tag  \\\n",
              "0                               Very Strong Season 2  3 May 2020            0   \n",
              "1                              Icelandic detectives?  3 May 2020            0   \n",
              "2                                    Nothing special  3 May 2020            0   \n",
              "3                                           Good but  3 May 2020            0   \n",
              "4                                   An honest review  3 May 2020            0   \n",
              "5                                            Amazing  3 May 2020            0   \n",
              "6                          Impressive action scenes!  3 May 2020            0   \n",
              "7                 Another great Netflix Marvel show!  3 May 2020            0   \n",
              "8  Needed the other half of the movie to cover up...  3 May 2020            0   \n",
              "9  All the Pearsons are high maintenance and self...  3 May 2020            0   \n",
              "\n",
              "                                       review_detail   helpful  \n",
              "0  I enjoyed the first season, but I must say I t...    [1, 1]  \n",
              "1  I know Iceland is a small country and police d...    [2, 2]  \n",
              "2  Except K K , no other actor looks comfortable ...    [0, 0]  \n",
              "3  I'm guessing that as a 62 year old white woman...    [5, 9]  \n",
              "4  Here's the truth. There's not much to this mov...  [26, 41]  \n",
              "5  Having seen this film for the first time today...    [0, 1]  \n",
              "6  The movie had some very impressive scenes. Esp...    [0, 1]  \n",
              "7  I loved it from the first episode! And I could...    [7, 9]  \n",
              "8  I see that Netflix has a teenage/kids audience...  [16, 26]  \n",
              "9  This is the show for people for whom nothing e...    [1, 5]  "
            ],
            "text/html": [
              "\n",
              "  <div id=\"df-84a18235-987c-41af-8fed-2eb06081e901\" class=\"colab-df-container\">\n",
              "    <div>\n",
              "<style scoped>\n",
              "    .dataframe tbody tr th:only-of-type {\n",
              "        vertical-align: middle;\n",
              "    }\n",
              "\n",
              "    .dataframe tbody tr th {\n",
              "        vertical-align: top;\n",
              "    }\n",
              "\n",
              "    .dataframe thead th {\n",
              "        text-align: right;\n",
              "    }\n",
              "</style>\n",
              "<table border=\"1\" class=\"dataframe\">\n",
              "  <thead>\n",
              "    <tr style=\"text-align: right;\">\n",
              "      <th></th>\n",
              "      <th>review_id</th>\n",
              "      <th>reviewer</th>\n",
              "      <th>movie</th>\n",
              "      <th>rating</th>\n",
              "      <th>review_summary</th>\n",
              "      <th>review_date</th>\n",
              "      <th>spoiler_tag</th>\n",
              "      <th>review_detail</th>\n",
              "      <th>helpful</th>\n",
              "    </tr>\n",
              "  </thead>\n",
              "  <tbody>\n",
              "    <tr>\n",
              "      <th>0</th>\n",
              "      <td>rw5704482</td>\n",
              "      <td>raeldor-96879</td>\n",
              "      <td>After Life (2019– )</td>\n",
              "      <td>9</td>\n",
              "      <td>Very Strong Season 2</td>\n",
              "      <td>3 May 2020</td>\n",
              "      <td>0</td>\n",
              "      <td>I enjoyed the first season, but I must say I t...</td>\n",
              "      <td>[1, 1]</td>\n",
              "    </tr>\n",
              "    <tr>\n",
              "      <th>1</th>\n",
              "      <td>rw5704483</td>\n",
              "      <td>dosleeb</td>\n",
              "      <td>The Valhalla Murders (2019– )</td>\n",
              "      <td>6</td>\n",
              "      <td>Icelandic detectives?</td>\n",
              "      <td>3 May 2020</td>\n",
              "      <td>0</td>\n",
              "      <td>I know Iceland is a small country and police d...</td>\n",
              "      <td>[2, 2]</td>\n",
              "    </tr>\n",
              "    <tr>\n",
              "      <th>2</th>\n",
              "      <td>rw5704484</td>\n",
              "      <td>brightconscious</td>\n",
              "      <td>Special OPS (2020– )</td>\n",
              "      <td>7</td>\n",
              "      <td>Nothing special</td>\n",
              "      <td>3 May 2020</td>\n",
              "      <td>0</td>\n",
              "      <td>Except K K , no other actor looks comfortable ...</td>\n",
              "      <td>[0, 0]</td>\n",
              "    </tr>\n",
              "    <tr>\n",
              "      <th>3</th>\n",
              "      <td>rw5704485</td>\n",
              "      <td>gasconyway</td>\n",
              "      <td>#BlackAF (2020– )</td>\n",
              "      <td>8</td>\n",
              "      <td>Good but</td>\n",
              "      <td>3 May 2020</td>\n",
              "      <td>0</td>\n",
              "      <td>I'm guessing that as a 62 year old white woman...</td>\n",
              "      <td>[5, 9]</td>\n",
              "    </tr>\n",
              "    <tr>\n",
              "      <th>4</th>\n",
              "      <td>rw5704487</td>\n",
              "      <td>mmason-15867</td>\n",
              "      <td>The Droving (2020)</td>\n",
              "      <td>2</td>\n",
              "      <td>An honest review</td>\n",
              "      <td>3 May 2020</td>\n",
              "      <td>0</td>\n",
              "      <td>Here's the truth. There's not much to this mov...</td>\n",
              "      <td>[26, 41]</td>\n",
              "    </tr>\n",
              "    <tr>\n",
              "      <th>5</th>\n",
              "      <td>rw5704488</td>\n",
              "      <td>schroederagustavo</td>\n",
              "      <td>All About Eve (1950)</td>\n",
              "      <td>10</td>\n",
              "      <td>Amazing</td>\n",
              "      <td>3 May 2020</td>\n",
              "      <td>0</td>\n",
              "      <td>Having seen this film for the first time today...</td>\n",
              "      <td>[0, 1]</td>\n",
              "    </tr>\n",
              "    <tr>\n",
              "      <th>6</th>\n",
              "      <td>rw5704489</td>\n",
              "      <td>welhof1</td>\n",
              "      <td>Runaway Train (1985)</td>\n",
              "      <td>7</td>\n",
              "      <td>Impressive action scenes!</td>\n",
              "      <td>3 May 2020</td>\n",
              "      <td>0</td>\n",
              "      <td>The movie had some very impressive scenes. Esp...</td>\n",
              "      <td>[0, 1]</td>\n",
              "    </tr>\n",
              "    <tr>\n",
              "      <th>7</th>\n",
              "      <td>rw5704490</td>\n",
              "      <td>Evastar</td>\n",
              "      <td>Iron Fist (2017–2018)</td>\n",
              "      <td>9</td>\n",
              "      <td>Another great Netflix Marvel show!</td>\n",
              "      <td>3 May 2020</td>\n",
              "      <td>0</td>\n",
              "      <td>I loved it from the first episode! And I could...</td>\n",
              "      <td>[7, 9]</td>\n",
              "    </tr>\n",
              "    <tr>\n",
              "      <th>8</th>\n",
              "      <td>rw5704491</td>\n",
              "      <td>tioeta</td>\n",
              "      <td>The Half of It (I) (2020)</td>\n",
              "      <td>4</td>\n",
              "      <td>Needed the other half of the movie to cover up...</td>\n",
              "      <td>3 May 2020</td>\n",
              "      <td>0</td>\n",
              "      <td>I see that Netflix has a teenage/kids audience...</td>\n",
              "      <td>[16, 26]</td>\n",
              "    </tr>\n",
              "    <tr>\n",
              "      <th>9</th>\n",
              "      <td>rw5704492</td>\n",
              "      <td>stephenrifkin</td>\n",
              "      <td>This Is Us (2016– )</td>\n",
              "      <td>2</td>\n",
              "      <td>All the Pearsons are high maintenance and self...</td>\n",
              "      <td>3 May 2020</td>\n",
              "      <td>0</td>\n",
              "      <td>This is the show for people for whom nothing e...</td>\n",
              "      <td>[1, 5]</td>\n",
              "    </tr>\n",
              "  </tbody>\n",
              "</table>\n",
              "</div>\n",
              "    <div class=\"colab-df-buttons\">\n",
              "\n",
              "  <div class=\"colab-df-container\">\n",
              "    <button class=\"colab-df-convert\" onclick=\"convertToInteractive('df-84a18235-987c-41af-8fed-2eb06081e901')\"\n",
              "            title=\"Convert this dataframe to an interactive table.\"\n",
              "            style=\"display:none;\">\n",
              "\n",
              "  <svg xmlns=\"http://www.w3.org/2000/svg\" height=\"24px\" viewBox=\"0 -960 960 960\">\n",
              "    <path d=\"M120-120v-720h720v720H120Zm60-500h600v-160H180v160Zm220 220h160v-160H400v160Zm0 220h160v-160H400v160ZM180-400h160v-160H180v160Zm440 0h160v-160H620v160ZM180-180h160v-160H180v160Zm440 0h160v-160H620v160Z\"/>\n",
              "  </svg>\n",
              "    </button>\n",
              "\n",
              "  <style>\n",
              "    .colab-df-container {\n",
              "      display:flex;\n",
              "      gap: 12px;\n",
              "    }\n",
              "\n",
              "    .colab-df-convert {\n",
              "      background-color: #E8F0FE;\n",
              "      border: none;\n",
              "      border-radius: 50%;\n",
              "      cursor: pointer;\n",
              "      display: none;\n",
              "      fill: #1967D2;\n",
              "      height: 32px;\n",
              "      padding: 0 0 0 0;\n",
              "      width: 32px;\n",
              "    }\n",
              "\n",
              "    .colab-df-convert:hover {\n",
              "      background-color: #E2EBFA;\n",
              "      box-shadow: 0px 1px 2px rgba(60, 64, 67, 0.3), 0px 1px 3px 1px rgba(60, 64, 67, 0.15);\n",
              "      fill: #174EA6;\n",
              "    }\n",
              "\n",
              "    .colab-df-buttons div {\n",
              "      margin-bottom: 4px;\n",
              "    }\n",
              "\n",
              "    [theme=dark] .colab-df-convert {\n",
              "      background-color: #3B4455;\n",
              "      fill: #D2E3FC;\n",
              "    }\n",
              "\n",
              "    [theme=dark] .colab-df-convert:hover {\n",
              "      background-color: #434B5C;\n",
              "      box-shadow: 0px 1px 3px 1px rgba(0, 0, 0, 0.15);\n",
              "      filter: drop-shadow(0px 1px 2px rgba(0, 0, 0, 0.3));\n",
              "      fill: #FFFFFF;\n",
              "    }\n",
              "  </style>\n",
              "\n",
              "    <script>\n",
              "      const buttonEl =\n",
              "        document.querySelector('#df-84a18235-987c-41af-8fed-2eb06081e901 button.colab-df-convert');\n",
              "      buttonEl.style.display =\n",
              "        google.colab.kernel.accessAllowed ? 'block' : 'none';\n",
              "\n",
              "      async function convertToInteractive(key) {\n",
              "        const element = document.querySelector('#df-84a18235-987c-41af-8fed-2eb06081e901');\n",
              "        const dataTable =\n",
              "          await google.colab.kernel.invokeFunction('convertToInteractive',\n",
              "                                                    [key], {});\n",
              "        if (!dataTable) return;\n",
              "\n",
              "        const docLinkHtml = 'Like what you see? Visit the ' +\n",
              "          '<a target=\"_blank\" href=https://colab.research.google.com/notebooks/data_table.ipynb>data table notebook</a>'\n",
              "          + ' to learn more about interactive tables.';\n",
              "        element.innerHTML = '';\n",
              "        dataTable['output_type'] = 'display_data';\n",
              "        await google.colab.output.renderOutput(dataTable, element);\n",
              "        const docLink = document.createElement('div');\n",
              "        docLink.innerHTML = docLinkHtml;\n",
              "        element.appendChild(docLink);\n",
              "      }\n",
              "    </script>\n",
              "  </div>\n",
              "\n",
              "\n",
              "<div id=\"df-98d658b7-17b5-4632-bd89-aa12aae8620c\">\n",
              "  <button class=\"colab-df-quickchart\" onclick=\"quickchart('df-98d658b7-17b5-4632-bd89-aa12aae8620c')\"\n",
              "            title=\"Suggest charts\"\n",
              "            style=\"display:none;\">\n",
              "\n",
              "<svg xmlns=\"http://www.w3.org/2000/svg\" height=\"24px\"viewBox=\"0 0 24 24\"\n",
              "     width=\"24px\">\n",
              "    <g>\n",
              "        <path d=\"M19 3H5c-1.1 0-2 .9-2 2v14c0 1.1.9 2 2 2h14c1.1 0 2-.9 2-2V5c0-1.1-.9-2-2-2zM9 17H7v-7h2v7zm4 0h-2V7h2v10zm4 0h-2v-4h2v4z\"/>\n",
              "    </g>\n",
              "</svg>\n",
              "  </button>\n",
              "\n",
              "<style>\n",
              "  .colab-df-quickchart {\n",
              "      --bg-color: #E8F0FE;\n",
              "      --fill-color: #1967D2;\n",
              "      --hover-bg-color: #E2EBFA;\n",
              "      --hover-fill-color: #174EA6;\n",
              "      --disabled-fill-color: #AAA;\n",
              "      --disabled-bg-color: #DDD;\n",
              "  }\n",
              "\n",
              "  [theme=dark] .colab-df-quickchart {\n",
              "      --bg-color: #3B4455;\n",
              "      --fill-color: #D2E3FC;\n",
              "      --hover-bg-color: #434B5C;\n",
              "      --hover-fill-color: #FFFFFF;\n",
              "      --disabled-bg-color: #3B4455;\n",
              "      --disabled-fill-color: #666;\n",
              "  }\n",
              "\n",
              "  .colab-df-quickchart {\n",
              "    background-color: var(--bg-color);\n",
              "    border: none;\n",
              "    border-radius: 50%;\n",
              "    cursor: pointer;\n",
              "    display: none;\n",
              "    fill: var(--fill-color);\n",
              "    height: 32px;\n",
              "    padding: 0;\n",
              "    width: 32px;\n",
              "  }\n",
              "\n",
              "  .colab-df-quickchart:hover {\n",
              "    background-color: var(--hover-bg-color);\n",
              "    box-shadow: 0 1px 2px rgba(60, 64, 67, 0.3), 0 1px 3px 1px rgba(60, 64, 67, 0.15);\n",
              "    fill: var(--button-hover-fill-color);\n",
              "  }\n",
              "\n",
              "  .colab-df-quickchart-complete:disabled,\n",
              "  .colab-df-quickchart-complete:disabled:hover {\n",
              "    background-color: var(--disabled-bg-color);\n",
              "    fill: var(--disabled-fill-color);\n",
              "    box-shadow: none;\n",
              "  }\n",
              "\n",
              "  .colab-df-spinner {\n",
              "    border: 2px solid var(--fill-color);\n",
              "    border-color: transparent;\n",
              "    border-bottom-color: var(--fill-color);\n",
              "    animation:\n",
              "      spin 1s steps(1) infinite;\n",
              "  }\n",
              "\n",
              "  @keyframes spin {\n",
              "    0% {\n",
              "      border-color: transparent;\n",
              "      border-bottom-color: var(--fill-color);\n",
              "      border-left-color: var(--fill-color);\n",
              "    }\n",
              "    20% {\n",
              "      border-color: transparent;\n",
              "      border-left-color: var(--fill-color);\n",
              "      border-top-color: var(--fill-color);\n",
              "    }\n",
              "    30% {\n",
              "      border-color: transparent;\n",
              "      border-left-color: var(--fill-color);\n",
              "      border-top-color: var(--fill-color);\n",
              "      border-right-color: var(--fill-color);\n",
              "    }\n",
              "    40% {\n",
              "      border-color: transparent;\n",
              "      border-right-color: var(--fill-color);\n",
              "      border-top-color: var(--fill-color);\n",
              "    }\n",
              "    60% {\n",
              "      border-color: transparent;\n",
              "      border-right-color: var(--fill-color);\n",
              "    }\n",
              "    80% {\n",
              "      border-color: transparent;\n",
              "      border-right-color: var(--fill-color);\n",
              "      border-bottom-color: var(--fill-color);\n",
              "    }\n",
              "    90% {\n",
              "      border-color: transparent;\n",
              "      border-bottom-color: var(--fill-color);\n",
              "    }\n",
              "  }\n",
              "</style>\n",
              "\n",
              "  <script>\n",
              "    async function quickchart(key) {\n",
              "      const quickchartButtonEl =\n",
              "        document.querySelector('#' + key + ' button');\n",
              "      quickchartButtonEl.disabled = true;  // To prevent multiple clicks.\n",
              "      quickchartButtonEl.classList.add('colab-df-spinner');\n",
              "      try {\n",
              "        const charts = await google.colab.kernel.invokeFunction(\n",
              "            'suggestCharts', [key], {});\n",
              "      } catch (error) {\n",
              "        console.error('Error during call to suggestCharts:', error);\n",
              "      }\n",
              "      quickchartButtonEl.classList.remove('colab-df-spinner');\n",
              "      quickchartButtonEl.classList.add('colab-df-quickchart-complete');\n",
              "    }\n",
              "    (() => {\n",
              "      let quickchartButtonEl =\n",
              "        document.querySelector('#df-98d658b7-17b5-4632-bd89-aa12aae8620c button');\n",
              "      quickchartButtonEl.style.display =\n",
              "        google.colab.kernel.accessAllowed ? 'block' : 'none';\n",
              "    })();\n",
              "  </script>\n",
              "</div>\n",
              "\n",
              "    </div>\n",
              "  </div>\n"
            ],
            "application/vnd.google.colaboratory.intrinsic+json": {
              "type": "dataframe",
              "variable_name": "reviews_df_raw"
            }
          },
          "metadata": {},
          "execution_count": 6
        }
      ]
    },
    {
      "cell_type": "code",
      "source": [
        "# create a copy\n",
        "reviews_df = reviews_df_raw.copy()"
      ],
      "metadata": {
        "id": "qip9Etc2oFiT"
      },
      "execution_count": null,
      "outputs": []
    },
    {
      "cell_type": "code",
      "source": [
        "# total number of rows\n",
        "total_rows = reviews_df.shape[0]\n",
        "print(f\"Total rows in working data: {total_rows:,}\")"
      ],
      "metadata": {
        "colab": {
          "base_uri": "https://localhost:8080/"
        },
        "id": "h4GXXYdUj84h",
        "outputId": "df4defe3-7929-43c2-ed5b-a1b3bb05d95c"
      },
      "execution_count": null,
      "outputs": [
        {
          "output_type": "stream",
          "name": "stdout",
          "text": [
            "Total rows in working data: 5,571,499\n"
          ]
        }
      ]
    },
    {
      "cell_type": "code",
      "source": [
        "# Check for na's\n",
        "reviews_df.isna().sum()"
      ],
      "metadata": {
        "trusted": true,
        "id": "ek6PqlyriSEG",
        "colab": {
          "base_uri": "https://localhost:8080/"
        },
        "outputId": "42826bd9-69c4-4df5-80c7-a866207638dd"
      },
      "execution_count": null,
      "outputs": [
        {
          "output_type": "execute_result",
          "data": {
            "text/plain": [
              "review_id              0\n",
              "reviewer               0\n",
              "movie                  0\n",
              "rating            662849\n",
              "review_summary         0\n",
              "review_date            0\n",
              "spoiler_tag            0\n",
              "review_detail          0\n",
              "helpful                0\n",
              "dtype: int64"
            ]
          },
          "metadata": {},
          "execution_count": 9
        }
      ]
    },
    {
      "cell_type": "code",
      "source": [
        "missing_values_count = reviews_df.isna().sum()\n",
        "\n",
        "# Missing value percentage\n",
        "missing_percentage = (missing_values_count / total_rows) * 100\n",
        "\n",
        "print(\"Missing Value Percentage:\")\n",
        "print(missing_percentage)"
      ],
      "metadata": {
        "colab": {
          "base_uri": "https://localhost:8080/"
        },
        "id": "2Po-yhMTkKoY",
        "outputId": "748bc2c3-0173-47da-875f-3d87a2a7369c"
      },
      "execution_count": null,
      "outputs": [
        {
          "output_type": "stream",
          "name": "stdout",
          "text": [
            "Missing Value Percentage:\n",
            "review_id          0.000000\n",
            "reviewer           0.000000\n",
            "movie              0.000000\n",
            "rating            11.897139\n",
            "review_summary     0.000000\n",
            "review_date        0.000000\n",
            "spoiler_tag        0.000000\n",
            "review_detail      0.000000\n",
            "helpful            0.000000\n",
            "dtype: float64\n"
          ]
        }
      ]
    },
    {
      "cell_type": "code",
      "source": [
        "# Remove na's from rating, the only col with na's\n",
        "raw_records_count = len(reviews_df[\"movie\"])\n",
        "\n",
        "reviews_df_trim = reviews_df[reviews_df[\"rating\"].notna()]\n",
        "trim_records_count = len(reviews_df_trim[\"movie\"])\n",
        "\n",
        "pct_with_rating = trim_records_count / raw_records_count * 100\n",
        "\n",
        "print(f\"After removing records with \\'na\\' rating {trim_records_count:,} remain out of original {raw_records_count:,} ({pct_with_rating:.2f}%)\")"
      ],
      "metadata": {
        "trusted": true,
        "id": "YDBLw4esiSEH",
        "colab": {
          "base_uri": "https://localhost:8080/"
        },
        "outputId": "d1a79b75-30ef-48c3-eb50-c2cc82641d64"
      },
      "execution_count": null,
      "outputs": [
        {
          "output_type": "stream",
          "name": "stdout",
          "text": [
            "After removing records with 'na' rating 4,908,650 remain out of original 5,571,499 (88.10%)\n"
          ]
        }
      ]
    },
    {
      "cell_type": "code",
      "source": [
        "# Confirm removing na's was successful\n",
        "if reviews_df_trim.isna().sum().sum() == 0:\n",
        "    print(\"No remaining na's in working data.\")\n",
        "else:\n",
        "    raise SystemExit(f\"\\'na\\' values still present: \\n{reviews_df_trim.isna().sum()}\")"
      ],
      "metadata": {
        "trusted": true,
        "id": "24cGuWX_iSEH",
        "colab": {
          "base_uri": "https://localhost:8080/"
        },
        "outputId": "5eaa7aef-9493-46f6-e81c-49cf2751e19a"
      },
      "execution_count": null,
      "outputs": [
        {
          "output_type": "stream",
          "name": "stdout",
          "text": [
            "No remaining na's in working data.\n"
          ]
        }
      ]
    },
    {
      "cell_type": "markdown",
      "source": [
        "###Data types"
      ],
      "metadata": {
        "id": "8XSYxLowr0qO"
      }
    },
    {
      "cell_type": "code",
      "source": [
        "# Check types of remaining columns so we know what to fix\n",
        "# \"object\" in python is ok for text (movie, review_summary, and review_detail)\n",
        "# Others we can correct as part of our initial cleaning\n",
        "reviews_df_trim.dtypes"
      ],
      "metadata": {
        "trusted": true,
        "id": "W3R_dVP1iSEH",
        "colab": {
          "base_uri": "https://localhost:8080/"
        },
        "outputId": "0e9ad575-b7b3-4288-f76c-e549251abf4e"
      },
      "execution_count": null,
      "outputs": [
        {
          "output_type": "execute_result",
          "data": {
            "text/plain": [
              "review_id         object\n",
              "reviewer          object\n",
              "movie             object\n",
              "rating            object\n",
              "review_summary    object\n",
              "review_date       object\n",
              "spoiler_tag        int64\n",
              "review_detail     object\n",
              "helpful           object\n",
              "dtype: object"
            ]
          },
          "metadata": {},
          "execution_count": 13
        }
      ]
    },
    {
      "cell_type": "code",
      "source": [
        "# Cast ratings as int (safe now that NaNs have been removed)\n",
        "reviews_df_trim[\"rating\"] = reviews_df_trim[\"rating\"].astype(int)\n",
        "\n",
        "print(\"ratings summary stats\")\n",
        "print(\"Avg: \", reviews_df_trim[\"rating\"].mean())\n",
        "print(\"Max: \", reviews_df_trim[\"rating\"].max())\n",
        "print(\"Min: \", reviews_df_trim[\"rating\"].min())\n",
        "print(\"Med: \", reviews_df_trim[\"rating\"].median())"
      ],
      "metadata": {
        "trusted": true,
        "id": "ech38z1viSEH",
        "colab": {
          "base_uri": "https://localhost:8080/"
        },
        "outputId": "1a621397-f2cf-4022-9f12-5b01f6417352"
      },
      "execution_count": null,
      "outputs": [
        {
          "output_type": "stream",
          "name": "stdout",
          "text": [
            "ratings summary stats\n",
            "Avg:  6.743157079848838\n",
            "Max:  10\n",
            "Min:  1\n",
            "Med:  8.0\n"
          ]
        }
      ]
    },
    {
      "cell_type": "code",
      "source": [
        "# Cast spoiler_tag as boolean\n",
        "reviews_df_trim[\"spoiler_tag\"] = reviews_df_trim[\"spoiler_tag\"] == 1\n",
        "spoiler_value_counts = reviews_df_trim[\"spoiler_tag\"].value_counts()\n",
        "current_records_count = len(reviews_df_trim[\"spoiler_tag\"])\n",
        "spoiler_count = spoiler_value_counts[1]\n",
        "spoiler_pct = spoiler_count / current_records_count * 100\n",
        "print(f\"Out of {current_records_count:,} reviews {spoiler_count:,} are spoilers ({spoiler_pct:.2f}%)\\n\")\n",
        "print(spoiler_value_counts)"
      ],
      "metadata": {
        "trusted": true,
        "id": "RLJ1QUEQiSEI",
        "colab": {
          "base_uri": "https://localhost:8080/"
        },
        "outputId": "bd6b8ca4-3a47-4da9-e05d-ccc6bc41b6a4"
      },
      "execution_count": null,
      "outputs": [
        {
          "output_type": "stream",
          "name": "stdout",
          "text": [
            "Out of 4,908,650 reviews 1,087,419 are spoilers (22.15%)\n",
            "\n",
            "spoiler_tag\n",
            "False    3821231\n",
            "True     1087419\n",
            "Name: count, dtype: int64\n"
          ]
        }
      ]
    },
    {
      "cell_type": "code",
      "source": [
        "# Check types once more to confirm recent changes\n",
        "print(reviews_df_trim.dtypes)\n",
        "\n",
        "# Peek at data to check our progress\n",
        "reviews_df_trim.head()"
      ],
      "metadata": {
        "trusted": true,
        "id": "BQ-cxyquiSEN",
        "colab": {
          "base_uri": "https://localhost:8080/",
          "height": 380
        },
        "outputId": "5641fb59-df7e-484a-df8d-baa426634fb3"
      },
      "execution_count": null,
      "outputs": [
        {
          "output_type": "stream",
          "name": "stdout",
          "text": [
            "review_id         object\n",
            "reviewer          object\n",
            "movie             object\n",
            "rating             int64\n",
            "review_summary    object\n",
            "review_date       object\n",
            "spoiler_tag         bool\n",
            "review_detail     object\n",
            "helpful           object\n",
            "dtype: object\n"
          ]
        },
        {
          "output_type": "execute_result",
          "data": {
            "text/plain": [
              "   review_id         reviewer                          movie  rating  \\\n",
              "0  rw5704482    raeldor-96879            After Life (2019– )       9   \n",
              "1  rw5704483          dosleeb  The Valhalla Murders (2019– )       6   \n",
              "2  rw5704484  brightconscious           Special OPS (2020– )       7   \n",
              "3  rw5704485       gasconyway              #BlackAF (2020– )       8   \n",
              "4  rw5704487     mmason-15867             The Droving (2020)       2   \n",
              "\n",
              "          review_summary review_date  spoiler_tag  \\\n",
              "0   Very Strong Season 2  3 May 2020        False   \n",
              "1  Icelandic detectives?  3 May 2020        False   \n",
              "2        Nothing special  3 May 2020        False   \n",
              "3               Good but  3 May 2020        False   \n",
              "4       An honest review  3 May 2020        False   \n",
              "\n",
              "                                       review_detail   helpful  \n",
              "0  I enjoyed the first season, but I must say I t...    [1, 1]  \n",
              "1  I know Iceland is a small country and police d...    [2, 2]  \n",
              "2  Except K K , no other actor looks comfortable ...    [0, 0]  \n",
              "3  I'm guessing that as a 62 year old white woman...    [5, 9]  \n",
              "4  Here's the truth. There's not much to this mov...  [26, 41]  "
            ],
            "text/html": [
              "\n",
              "  <div id=\"df-a1797a88-e345-4f02-9f28-88def1897be7\" class=\"colab-df-container\">\n",
              "    <div>\n",
              "<style scoped>\n",
              "    .dataframe tbody tr th:only-of-type {\n",
              "        vertical-align: middle;\n",
              "    }\n",
              "\n",
              "    .dataframe tbody tr th {\n",
              "        vertical-align: top;\n",
              "    }\n",
              "\n",
              "    .dataframe thead th {\n",
              "        text-align: right;\n",
              "    }\n",
              "</style>\n",
              "<table border=\"1\" class=\"dataframe\">\n",
              "  <thead>\n",
              "    <tr style=\"text-align: right;\">\n",
              "      <th></th>\n",
              "      <th>review_id</th>\n",
              "      <th>reviewer</th>\n",
              "      <th>movie</th>\n",
              "      <th>rating</th>\n",
              "      <th>review_summary</th>\n",
              "      <th>review_date</th>\n",
              "      <th>spoiler_tag</th>\n",
              "      <th>review_detail</th>\n",
              "      <th>helpful</th>\n",
              "    </tr>\n",
              "  </thead>\n",
              "  <tbody>\n",
              "    <tr>\n",
              "      <th>0</th>\n",
              "      <td>rw5704482</td>\n",
              "      <td>raeldor-96879</td>\n",
              "      <td>After Life (2019– )</td>\n",
              "      <td>9</td>\n",
              "      <td>Very Strong Season 2</td>\n",
              "      <td>3 May 2020</td>\n",
              "      <td>False</td>\n",
              "      <td>I enjoyed the first season, but I must say I t...</td>\n",
              "      <td>[1, 1]</td>\n",
              "    </tr>\n",
              "    <tr>\n",
              "      <th>1</th>\n",
              "      <td>rw5704483</td>\n",
              "      <td>dosleeb</td>\n",
              "      <td>The Valhalla Murders (2019– )</td>\n",
              "      <td>6</td>\n",
              "      <td>Icelandic detectives?</td>\n",
              "      <td>3 May 2020</td>\n",
              "      <td>False</td>\n",
              "      <td>I know Iceland is a small country and police d...</td>\n",
              "      <td>[2, 2]</td>\n",
              "    </tr>\n",
              "    <tr>\n",
              "      <th>2</th>\n",
              "      <td>rw5704484</td>\n",
              "      <td>brightconscious</td>\n",
              "      <td>Special OPS (2020– )</td>\n",
              "      <td>7</td>\n",
              "      <td>Nothing special</td>\n",
              "      <td>3 May 2020</td>\n",
              "      <td>False</td>\n",
              "      <td>Except K K , no other actor looks comfortable ...</td>\n",
              "      <td>[0, 0]</td>\n",
              "    </tr>\n",
              "    <tr>\n",
              "      <th>3</th>\n",
              "      <td>rw5704485</td>\n",
              "      <td>gasconyway</td>\n",
              "      <td>#BlackAF (2020– )</td>\n",
              "      <td>8</td>\n",
              "      <td>Good but</td>\n",
              "      <td>3 May 2020</td>\n",
              "      <td>False</td>\n",
              "      <td>I'm guessing that as a 62 year old white woman...</td>\n",
              "      <td>[5, 9]</td>\n",
              "    </tr>\n",
              "    <tr>\n",
              "      <th>4</th>\n",
              "      <td>rw5704487</td>\n",
              "      <td>mmason-15867</td>\n",
              "      <td>The Droving (2020)</td>\n",
              "      <td>2</td>\n",
              "      <td>An honest review</td>\n",
              "      <td>3 May 2020</td>\n",
              "      <td>False</td>\n",
              "      <td>Here's the truth. There's not much to this mov...</td>\n",
              "      <td>[26, 41]</td>\n",
              "    </tr>\n",
              "  </tbody>\n",
              "</table>\n",
              "</div>\n",
              "    <div class=\"colab-df-buttons\">\n",
              "\n",
              "  <div class=\"colab-df-container\">\n",
              "    <button class=\"colab-df-convert\" onclick=\"convertToInteractive('df-a1797a88-e345-4f02-9f28-88def1897be7')\"\n",
              "            title=\"Convert this dataframe to an interactive table.\"\n",
              "            style=\"display:none;\">\n",
              "\n",
              "  <svg xmlns=\"http://www.w3.org/2000/svg\" height=\"24px\" viewBox=\"0 -960 960 960\">\n",
              "    <path d=\"M120-120v-720h720v720H120Zm60-500h600v-160H180v160Zm220 220h160v-160H400v160Zm0 220h160v-160H400v160ZM180-400h160v-160H180v160Zm440 0h160v-160H620v160ZM180-180h160v-160H180v160Zm440 0h160v-160H620v160Z\"/>\n",
              "  </svg>\n",
              "    </button>\n",
              "\n",
              "  <style>\n",
              "    .colab-df-container {\n",
              "      display:flex;\n",
              "      gap: 12px;\n",
              "    }\n",
              "\n",
              "    .colab-df-convert {\n",
              "      background-color: #E8F0FE;\n",
              "      border: none;\n",
              "      border-radius: 50%;\n",
              "      cursor: pointer;\n",
              "      display: none;\n",
              "      fill: #1967D2;\n",
              "      height: 32px;\n",
              "      padding: 0 0 0 0;\n",
              "      width: 32px;\n",
              "    }\n",
              "\n",
              "    .colab-df-convert:hover {\n",
              "      background-color: #E2EBFA;\n",
              "      box-shadow: 0px 1px 2px rgba(60, 64, 67, 0.3), 0px 1px 3px 1px rgba(60, 64, 67, 0.15);\n",
              "      fill: #174EA6;\n",
              "    }\n",
              "\n",
              "    .colab-df-buttons div {\n",
              "      margin-bottom: 4px;\n",
              "    }\n",
              "\n",
              "    [theme=dark] .colab-df-convert {\n",
              "      background-color: #3B4455;\n",
              "      fill: #D2E3FC;\n",
              "    }\n",
              "\n",
              "    [theme=dark] .colab-df-convert:hover {\n",
              "      background-color: #434B5C;\n",
              "      box-shadow: 0px 1px 3px 1px rgba(0, 0, 0, 0.15);\n",
              "      filter: drop-shadow(0px 1px 2px rgba(0, 0, 0, 0.3));\n",
              "      fill: #FFFFFF;\n",
              "    }\n",
              "  </style>\n",
              "\n",
              "    <script>\n",
              "      const buttonEl =\n",
              "        document.querySelector('#df-a1797a88-e345-4f02-9f28-88def1897be7 button.colab-df-convert');\n",
              "      buttonEl.style.display =\n",
              "        google.colab.kernel.accessAllowed ? 'block' : 'none';\n",
              "\n",
              "      async function convertToInteractive(key) {\n",
              "        const element = document.querySelector('#df-a1797a88-e345-4f02-9f28-88def1897be7');\n",
              "        const dataTable =\n",
              "          await google.colab.kernel.invokeFunction('convertToInteractive',\n",
              "                                                    [key], {});\n",
              "        if (!dataTable) return;\n",
              "\n",
              "        const docLinkHtml = 'Like what you see? Visit the ' +\n",
              "          '<a target=\"_blank\" href=https://colab.research.google.com/notebooks/data_table.ipynb>data table notebook</a>'\n",
              "          + ' to learn more about interactive tables.';\n",
              "        element.innerHTML = '';\n",
              "        dataTable['output_type'] = 'display_data';\n",
              "        await google.colab.output.renderOutput(dataTable, element);\n",
              "        const docLink = document.createElement('div');\n",
              "        docLink.innerHTML = docLinkHtml;\n",
              "        element.appendChild(docLink);\n",
              "      }\n",
              "    </script>\n",
              "  </div>\n",
              "\n",
              "\n",
              "<div id=\"df-9c04cc4a-7ca6-4b1e-9811-1e5dbfb09b6e\">\n",
              "  <button class=\"colab-df-quickchart\" onclick=\"quickchart('df-9c04cc4a-7ca6-4b1e-9811-1e5dbfb09b6e')\"\n",
              "            title=\"Suggest charts\"\n",
              "            style=\"display:none;\">\n",
              "\n",
              "<svg xmlns=\"http://www.w3.org/2000/svg\" height=\"24px\"viewBox=\"0 0 24 24\"\n",
              "     width=\"24px\">\n",
              "    <g>\n",
              "        <path d=\"M19 3H5c-1.1 0-2 .9-2 2v14c0 1.1.9 2 2 2h14c1.1 0 2-.9 2-2V5c0-1.1-.9-2-2-2zM9 17H7v-7h2v7zm4 0h-2V7h2v10zm4 0h-2v-4h2v4z\"/>\n",
              "    </g>\n",
              "</svg>\n",
              "  </button>\n",
              "\n",
              "<style>\n",
              "  .colab-df-quickchart {\n",
              "      --bg-color: #E8F0FE;\n",
              "      --fill-color: #1967D2;\n",
              "      --hover-bg-color: #E2EBFA;\n",
              "      --hover-fill-color: #174EA6;\n",
              "      --disabled-fill-color: #AAA;\n",
              "      --disabled-bg-color: #DDD;\n",
              "  }\n",
              "\n",
              "  [theme=dark] .colab-df-quickchart {\n",
              "      --bg-color: #3B4455;\n",
              "      --fill-color: #D2E3FC;\n",
              "      --hover-bg-color: #434B5C;\n",
              "      --hover-fill-color: #FFFFFF;\n",
              "      --disabled-bg-color: #3B4455;\n",
              "      --disabled-fill-color: #666;\n",
              "  }\n",
              "\n",
              "  .colab-df-quickchart {\n",
              "    background-color: var(--bg-color);\n",
              "    border: none;\n",
              "    border-radius: 50%;\n",
              "    cursor: pointer;\n",
              "    display: none;\n",
              "    fill: var(--fill-color);\n",
              "    height: 32px;\n",
              "    padding: 0;\n",
              "    width: 32px;\n",
              "  }\n",
              "\n",
              "  .colab-df-quickchart:hover {\n",
              "    background-color: var(--hover-bg-color);\n",
              "    box-shadow: 0 1px 2px rgba(60, 64, 67, 0.3), 0 1px 3px 1px rgba(60, 64, 67, 0.15);\n",
              "    fill: var(--button-hover-fill-color);\n",
              "  }\n",
              "\n",
              "  .colab-df-quickchart-complete:disabled,\n",
              "  .colab-df-quickchart-complete:disabled:hover {\n",
              "    background-color: var(--disabled-bg-color);\n",
              "    fill: var(--disabled-fill-color);\n",
              "    box-shadow: none;\n",
              "  }\n",
              "\n",
              "  .colab-df-spinner {\n",
              "    border: 2px solid var(--fill-color);\n",
              "    border-color: transparent;\n",
              "    border-bottom-color: var(--fill-color);\n",
              "    animation:\n",
              "      spin 1s steps(1) infinite;\n",
              "  }\n",
              "\n",
              "  @keyframes spin {\n",
              "    0% {\n",
              "      border-color: transparent;\n",
              "      border-bottom-color: var(--fill-color);\n",
              "      border-left-color: var(--fill-color);\n",
              "    }\n",
              "    20% {\n",
              "      border-color: transparent;\n",
              "      border-left-color: var(--fill-color);\n",
              "      border-top-color: var(--fill-color);\n",
              "    }\n",
              "    30% {\n",
              "      border-color: transparent;\n",
              "      border-left-color: var(--fill-color);\n",
              "      border-top-color: var(--fill-color);\n",
              "      border-right-color: var(--fill-color);\n",
              "    }\n",
              "    40% {\n",
              "      border-color: transparent;\n",
              "      border-right-color: var(--fill-color);\n",
              "      border-top-color: var(--fill-color);\n",
              "    }\n",
              "    60% {\n",
              "      border-color: transparent;\n",
              "      border-right-color: var(--fill-color);\n",
              "    }\n",
              "    80% {\n",
              "      border-color: transparent;\n",
              "      border-right-color: var(--fill-color);\n",
              "      border-bottom-color: var(--fill-color);\n",
              "    }\n",
              "    90% {\n",
              "      border-color: transparent;\n",
              "      border-bottom-color: var(--fill-color);\n",
              "    }\n",
              "  }\n",
              "</style>\n",
              "\n",
              "  <script>\n",
              "    async function quickchart(key) {\n",
              "      const quickchartButtonEl =\n",
              "        document.querySelector('#' + key + ' button');\n",
              "      quickchartButtonEl.disabled = true;  // To prevent multiple clicks.\n",
              "      quickchartButtonEl.classList.add('colab-df-spinner');\n",
              "      try {\n",
              "        const charts = await google.colab.kernel.invokeFunction(\n",
              "            'suggestCharts', [key], {});\n",
              "      } catch (error) {\n",
              "        console.error('Error during call to suggestCharts:', error);\n",
              "      }\n",
              "      quickchartButtonEl.classList.remove('colab-df-spinner');\n",
              "      quickchartButtonEl.classList.add('colab-df-quickchart-complete');\n",
              "    }\n",
              "    (() => {\n",
              "      let quickchartButtonEl =\n",
              "        document.querySelector('#df-9c04cc4a-7ca6-4b1e-9811-1e5dbfb09b6e button');\n",
              "      quickchartButtonEl.style.display =\n",
              "        google.colab.kernel.accessAllowed ? 'block' : 'none';\n",
              "    })();\n",
              "  </script>\n",
              "</div>\n",
              "\n",
              "    </div>\n",
              "  </div>\n"
            ],
            "application/vnd.google.colaboratory.intrinsic+json": {
              "type": "dataframe",
              "variable_name": "reviews_df_trim"
            }
          },
          "metadata": {},
          "execution_count": 16
        }
      ]
    },
    {
      "cell_type": "markdown",
      "source": [
        "## 1.2 Delete TV shows\n",
        "\n",
        "Most common pattern: \"Title (2000)\" or \"Title (2000- )\" or \"Title (2000-2001)\"\n",
        "\n",
        "Also common pattern is \"Title (2000) Season #, Episode #\"\n",
        "\n",
        "There are weird ones like 'The West: The People (1500-1806) (1996) Season 1, Episode 1'\n",
        "\n",
        "Another: 'Red Riding: The Year of Our Lord 1980 (2009 TV Movie)'\n",
        "\n",
        "Another: 'The Adventures of Moby Dick (1996 Video)'\n",
        "\n",
        "\n",
        "This is also a good opportunity to remove TV shows from the dataset. TV shows should be cut out, but TV Movies and Video should be kept.\n",
        "Any dashes in the year parsing indicate it's a show, and should not be carried forward in the analysis."
      ],
      "metadata": {
        "id": "7-vioikNiSEO"
      }
    },
    {
      "cell_type": "code",
      "source": [
        "# Separate Year using regular expressions\n",
        "yearPattern = r'(?:\\()(\\d{4})(?!\\-)?(?:\\d{4})?(?:\\sTV\\sMovie)?(?:\\sVideo)?(?:\\s?\\)$)(?!\\sSeason\\s\\d+\\,?\\sEpisode\\s\\d+$)'"
      ],
      "metadata": {
        "trusted": true,
        "id": "-E6lo4SQiSEO"
      },
      "execution_count": null,
      "outputs": []
    },
    {
      "cell_type": "code",
      "source": [
        "# Use regex to pull years from movie column\n",
        "yearExtract = reviews_df_trim[\"movie\"].str.extract(yearPattern)\n",
        "yearExtract.isna().sum()"
      ],
      "metadata": {
        "trusted": true,
        "id": "3r7fBft_iSEO",
        "colab": {
          "base_uri": "https://localhost:8080/"
        },
        "outputId": "bd982902-b7cd-4a37-c0c8-838ad27c5277"
      },
      "execution_count": null,
      "outputs": [
        {
          "output_type": "execute_result",
          "data": {
            "text/plain": [
              "0    901647\n",
              "dtype: int64"
            ]
          },
          "metadata": {},
          "execution_count": 18
        }
      ]
    },
    {
      "cell_type": "code",
      "source": [
        "# Check records where not even one year was pulled through regex, these should all be shows\n",
        "# Need specify [0] here because regex returns a list (in this case a list of length 1)\n",
        "# Use list() on returned series to see full text of the column\n",
        "list(reviews_df_trim[reviews_df_trim[\"movie\"].str.extract(yearPattern)[0].isna()][\"movie\"])[0:15]"
      ],
      "metadata": {
        "trusted": true,
        "id": "3YTsyEX_iSEO",
        "colab": {
          "base_uri": "https://localhost:8080/"
        },
        "outputId": "817a6bf8-f20f-4423-a3f5-e9c69d83da2f"
      },
      "execution_count": null,
      "outputs": [
        {
          "output_type": "execute_result",
          "data": {
            "text/plain": [
              "['After Life (2019– )',\n",
              " 'The Valhalla Murders (2019– )',\n",
              " 'Special OPS (2020– )',\n",
              " '#BlackAF (2020– )',\n",
              " 'Iron Fist (2017–2018)',\n",
              " 'This Is Us (2016– )',\n",
              " 'Matchmaker Mysteries: A Fatal Romance (2020) Season 1, Episode 2',\n",
              " 'Brooklyn Nine-Nine (2013– )',\n",
              " 'After Life (2019– )',\n",
              " 'The Raikar Case (2020– )',\n",
              " 'Vida (2018–2020)',\n",
              " 'Bloodline: Part 13 (2015) Season 1, Episode 13',\n",
              " 'Jia you er nü (2005– )',\n",
              " 'After Life (2019– )',\n",
              " 'Four More Shots Please (2019– )']"
            ]
          },
          "metadata": {},
          "execution_count": 22
        }
      ]
    },
    {
      "cell_type": "code",
      "source": [
        "# used regex to pull the year from every record that matches the formatting\n",
        "# create a dataframe excluding all TV show reviews, by only taking records that match the regex\n",
        "movie_reviews_df = reviews_df_trim[reviews_df_trim[\"movie\"].str.extract(yearPattern)[0].notna()]\n",
        "\n",
        "before_regex_count = len(reviews_df_trim[\"movie\"])\n",
        "after_regex_count = len(movie_reviews_df[\"movie\"])\n",
        "pct_not_movie = after_regex_count / before_regex_count * 100\n",
        "\n",
        "print(f\"After removing TV Series, {after_regex_count:,} reviews remain out of {before_regex_count:,} ({pct_not_movie:.2f}%).\")"
      ],
      "metadata": {
        "trusted": true,
        "id": "oUmBWQ7JiSEO",
        "colab": {
          "base_uri": "https://localhost:8080/"
        },
        "outputId": "1e5679cb-5cf6-409a-8da3-59911eb713a5"
      },
      "execution_count": null,
      "outputs": [
        {
          "output_type": "stream",
          "name": "stdout",
          "text": [
            "After removing TV Series, 4,007,003 reviews remain out of 4,908,650 (81.63%).\n"
          ]
        }
      ]
    },
    {
      "cell_type": "code",
      "source": [
        "# Create year column to hold parsed year info\n",
        "movie_reviews_df[\"year\"] = movie_reviews_df[\"movie\"].str.extract(yearPattern)[0]"
      ],
      "metadata": {
        "trusted": true,
        "id": "MqONu9wPiSEO"
      },
      "execution_count": null,
      "outputs": []
    },
    {
      "cell_type": "code",
      "source": [
        "# Pull name from movies column\n",
        "namePattern = r'^(.+)(?:\\s\\()'"
      ],
      "metadata": {
        "trusted": true,
        "id": "0gek2S2-iSEP"
      },
      "execution_count": null,
      "outputs": []
    },
    {
      "cell_type": "code",
      "source": [
        "# This pattern is simpler, quickly check the regex is matching correctly\n",
        "nameExtract = movie_reviews_df[\"movie\"].str.extract(namePattern)\n",
        "nameExtract[0:10]"
      ],
      "metadata": {
        "trusted": true,
        "id": "TYZocP6ciSEP",
        "colab": {
          "base_uri": "https://localhost:8080/",
          "height": 363
        },
        "outputId": "c086bf9c-2d75-4fd7-8c28-4790315e1855"
      },
      "execution_count": null,
      "outputs": [
        {
          "output_type": "execute_result",
          "data": {
            "text/plain": [
              "                          0\n",
              "4               The Droving\n",
              "5             All About Eve\n",
              "6             Runaway Train\n",
              "8        The Half of It (I)\n",
              "10              Closure (I)\n",
              "11              Unstoppable\n",
              "13       Beastie Boys Story\n",
              "14  Ruben Brandt, Collector\n",
              "15        Some Kind of Hate\n",
              "16                Cube Zero"
            ],
            "text/html": [
              "\n",
              "  <div id=\"df-ab8b5a4a-4da9-44eb-aa17-f11d5e0424c4\" class=\"colab-df-container\">\n",
              "    <div>\n",
              "<style scoped>\n",
              "    .dataframe tbody tr th:only-of-type {\n",
              "        vertical-align: middle;\n",
              "    }\n",
              "\n",
              "    .dataframe tbody tr th {\n",
              "        vertical-align: top;\n",
              "    }\n",
              "\n",
              "    .dataframe thead th {\n",
              "        text-align: right;\n",
              "    }\n",
              "</style>\n",
              "<table border=\"1\" class=\"dataframe\">\n",
              "  <thead>\n",
              "    <tr style=\"text-align: right;\">\n",
              "      <th></th>\n",
              "      <th>0</th>\n",
              "    </tr>\n",
              "  </thead>\n",
              "  <tbody>\n",
              "    <tr>\n",
              "      <th>4</th>\n",
              "      <td>The Droving</td>\n",
              "    </tr>\n",
              "    <tr>\n",
              "      <th>5</th>\n",
              "      <td>All About Eve</td>\n",
              "    </tr>\n",
              "    <tr>\n",
              "      <th>6</th>\n",
              "      <td>Runaway Train</td>\n",
              "    </tr>\n",
              "    <tr>\n",
              "      <th>8</th>\n",
              "      <td>The Half of It (I)</td>\n",
              "    </tr>\n",
              "    <tr>\n",
              "      <th>10</th>\n",
              "      <td>Closure (I)</td>\n",
              "    </tr>\n",
              "    <tr>\n",
              "      <th>11</th>\n",
              "      <td>Unstoppable</td>\n",
              "    </tr>\n",
              "    <tr>\n",
              "      <th>13</th>\n",
              "      <td>Beastie Boys Story</td>\n",
              "    </tr>\n",
              "    <tr>\n",
              "      <th>14</th>\n",
              "      <td>Ruben Brandt, Collector</td>\n",
              "    </tr>\n",
              "    <tr>\n",
              "      <th>15</th>\n",
              "      <td>Some Kind of Hate</td>\n",
              "    </tr>\n",
              "    <tr>\n",
              "      <th>16</th>\n",
              "      <td>Cube Zero</td>\n",
              "    </tr>\n",
              "  </tbody>\n",
              "</table>\n",
              "</div>\n",
              "    <div class=\"colab-df-buttons\">\n",
              "\n",
              "  <div class=\"colab-df-container\">\n",
              "    <button class=\"colab-df-convert\" onclick=\"convertToInteractive('df-ab8b5a4a-4da9-44eb-aa17-f11d5e0424c4')\"\n",
              "            title=\"Convert this dataframe to an interactive table.\"\n",
              "            style=\"display:none;\">\n",
              "\n",
              "  <svg xmlns=\"http://www.w3.org/2000/svg\" height=\"24px\" viewBox=\"0 -960 960 960\">\n",
              "    <path d=\"M120-120v-720h720v720H120Zm60-500h600v-160H180v160Zm220 220h160v-160H400v160Zm0 220h160v-160H400v160ZM180-400h160v-160H180v160Zm440 0h160v-160H620v160ZM180-180h160v-160H180v160Zm440 0h160v-160H620v160Z\"/>\n",
              "  </svg>\n",
              "    </button>\n",
              "\n",
              "  <style>\n",
              "    .colab-df-container {\n",
              "      display:flex;\n",
              "      gap: 12px;\n",
              "    }\n",
              "\n",
              "    .colab-df-convert {\n",
              "      background-color: #E8F0FE;\n",
              "      border: none;\n",
              "      border-radius: 50%;\n",
              "      cursor: pointer;\n",
              "      display: none;\n",
              "      fill: #1967D2;\n",
              "      height: 32px;\n",
              "      padding: 0 0 0 0;\n",
              "      width: 32px;\n",
              "    }\n",
              "\n",
              "    .colab-df-convert:hover {\n",
              "      background-color: #E2EBFA;\n",
              "      box-shadow: 0px 1px 2px rgba(60, 64, 67, 0.3), 0px 1px 3px 1px rgba(60, 64, 67, 0.15);\n",
              "      fill: #174EA6;\n",
              "    }\n",
              "\n",
              "    .colab-df-buttons div {\n",
              "      margin-bottom: 4px;\n",
              "    }\n",
              "\n",
              "    [theme=dark] .colab-df-convert {\n",
              "      background-color: #3B4455;\n",
              "      fill: #D2E3FC;\n",
              "    }\n",
              "\n",
              "    [theme=dark] .colab-df-convert:hover {\n",
              "      background-color: #434B5C;\n",
              "      box-shadow: 0px 1px 3px 1px rgba(0, 0, 0, 0.15);\n",
              "      filter: drop-shadow(0px 1px 2px rgba(0, 0, 0, 0.3));\n",
              "      fill: #FFFFFF;\n",
              "    }\n",
              "  </style>\n",
              "\n",
              "    <script>\n",
              "      const buttonEl =\n",
              "        document.querySelector('#df-ab8b5a4a-4da9-44eb-aa17-f11d5e0424c4 button.colab-df-convert');\n",
              "      buttonEl.style.display =\n",
              "        google.colab.kernel.accessAllowed ? 'block' : 'none';\n",
              "\n",
              "      async function convertToInteractive(key) {\n",
              "        const element = document.querySelector('#df-ab8b5a4a-4da9-44eb-aa17-f11d5e0424c4');\n",
              "        const dataTable =\n",
              "          await google.colab.kernel.invokeFunction('convertToInteractive',\n",
              "                                                    [key], {});\n",
              "        if (!dataTable) return;\n",
              "\n",
              "        const docLinkHtml = 'Like what you see? Visit the ' +\n",
              "          '<a target=\"_blank\" href=https://colab.research.google.com/notebooks/data_table.ipynb>data table notebook</a>'\n",
              "          + ' to learn more about interactive tables.';\n",
              "        element.innerHTML = '';\n",
              "        dataTable['output_type'] = 'display_data';\n",
              "        await google.colab.output.renderOutput(dataTable, element);\n",
              "        const docLink = document.createElement('div');\n",
              "        docLink.innerHTML = docLinkHtml;\n",
              "        element.appendChild(docLink);\n",
              "      }\n",
              "    </script>\n",
              "  </div>\n",
              "\n",
              "\n",
              "<div id=\"df-29e700a5-d323-4f4c-bab6-0b5ac87eaaff\">\n",
              "  <button class=\"colab-df-quickchart\" onclick=\"quickchart('df-29e700a5-d323-4f4c-bab6-0b5ac87eaaff')\"\n",
              "            title=\"Suggest charts\"\n",
              "            style=\"display:none;\">\n",
              "\n",
              "<svg xmlns=\"http://www.w3.org/2000/svg\" height=\"24px\"viewBox=\"0 0 24 24\"\n",
              "     width=\"24px\">\n",
              "    <g>\n",
              "        <path d=\"M19 3H5c-1.1 0-2 .9-2 2v14c0 1.1.9 2 2 2h14c1.1 0 2-.9 2-2V5c0-1.1-.9-2-2-2zM9 17H7v-7h2v7zm4 0h-2V7h2v10zm4 0h-2v-4h2v4z\"/>\n",
              "    </g>\n",
              "</svg>\n",
              "  </button>\n",
              "\n",
              "<style>\n",
              "  .colab-df-quickchart {\n",
              "      --bg-color: #E8F0FE;\n",
              "      --fill-color: #1967D2;\n",
              "      --hover-bg-color: #E2EBFA;\n",
              "      --hover-fill-color: #174EA6;\n",
              "      --disabled-fill-color: #AAA;\n",
              "      --disabled-bg-color: #DDD;\n",
              "  }\n",
              "\n",
              "  [theme=dark] .colab-df-quickchart {\n",
              "      --bg-color: #3B4455;\n",
              "      --fill-color: #D2E3FC;\n",
              "      --hover-bg-color: #434B5C;\n",
              "      --hover-fill-color: #FFFFFF;\n",
              "      --disabled-bg-color: #3B4455;\n",
              "      --disabled-fill-color: #666;\n",
              "  }\n",
              "\n",
              "  .colab-df-quickchart {\n",
              "    background-color: var(--bg-color);\n",
              "    border: none;\n",
              "    border-radius: 50%;\n",
              "    cursor: pointer;\n",
              "    display: none;\n",
              "    fill: var(--fill-color);\n",
              "    height: 32px;\n",
              "    padding: 0;\n",
              "    width: 32px;\n",
              "  }\n",
              "\n",
              "  .colab-df-quickchart:hover {\n",
              "    background-color: var(--hover-bg-color);\n",
              "    box-shadow: 0 1px 2px rgba(60, 64, 67, 0.3), 0 1px 3px 1px rgba(60, 64, 67, 0.15);\n",
              "    fill: var(--button-hover-fill-color);\n",
              "  }\n",
              "\n",
              "  .colab-df-quickchart-complete:disabled,\n",
              "  .colab-df-quickchart-complete:disabled:hover {\n",
              "    background-color: var(--disabled-bg-color);\n",
              "    fill: var(--disabled-fill-color);\n",
              "    box-shadow: none;\n",
              "  }\n",
              "\n",
              "  .colab-df-spinner {\n",
              "    border: 2px solid var(--fill-color);\n",
              "    border-color: transparent;\n",
              "    border-bottom-color: var(--fill-color);\n",
              "    animation:\n",
              "      spin 1s steps(1) infinite;\n",
              "  }\n",
              "\n",
              "  @keyframes spin {\n",
              "    0% {\n",
              "      border-color: transparent;\n",
              "      border-bottom-color: var(--fill-color);\n",
              "      border-left-color: var(--fill-color);\n",
              "    }\n",
              "    20% {\n",
              "      border-color: transparent;\n",
              "      border-left-color: var(--fill-color);\n",
              "      border-top-color: var(--fill-color);\n",
              "    }\n",
              "    30% {\n",
              "      border-color: transparent;\n",
              "      border-left-color: var(--fill-color);\n",
              "      border-top-color: var(--fill-color);\n",
              "      border-right-color: var(--fill-color);\n",
              "    }\n",
              "    40% {\n",
              "      border-color: transparent;\n",
              "      border-right-color: var(--fill-color);\n",
              "      border-top-color: var(--fill-color);\n",
              "    }\n",
              "    60% {\n",
              "      border-color: transparent;\n",
              "      border-right-color: var(--fill-color);\n",
              "    }\n",
              "    80% {\n",
              "      border-color: transparent;\n",
              "      border-right-color: var(--fill-color);\n",
              "      border-bottom-color: var(--fill-color);\n",
              "    }\n",
              "    90% {\n",
              "      border-color: transparent;\n",
              "      border-bottom-color: var(--fill-color);\n",
              "    }\n",
              "  }\n",
              "</style>\n",
              "\n",
              "  <script>\n",
              "    async function quickchart(key) {\n",
              "      const quickchartButtonEl =\n",
              "        document.querySelector('#' + key + ' button');\n",
              "      quickchartButtonEl.disabled = true;  // To prevent multiple clicks.\n",
              "      quickchartButtonEl.classList.add('colab-df-spinner');\n",
              "      try {\n",
              "        const charts = await google.colab.kernel.invokeFunction(\n",
              "            'suggestCharts', [key], {});\n",
              "      } catch (error) {\n",
              "        console.error('Error during call to suggestCharts:', error);\n",
              "      }\n",
              "      quickchartButtonEl.classList.remove('colab-df-spinner');\n",
              "      quickchartButtonEl.classList.add('colab-df-quickchart-complete');\n",
              "    }\n",
              "    (() => {\n",
              "      let quickchartButtonEl =\n",
              "        document.querySelector('#df-29e700a5-d323-4f4c-bab6-0b5ac87eaaff button');\n",
              "      quickchartButtonEl.style.display =\n",
              "        google.colab.kernel.accessAllowed ? 'block' : 'none';\n",
              "    })();\n",
              "  </script>\n",
              "</div>\n",
              "\n",
              "    </div>\n",
              "  </div>\n"
            ],
            "application/vnd.google.colaboratory.intrinsic+json": {
              "type": "dataframe",
              "summary": "{\n  \"name\": \"nameExtract[0:10]\",\n  \"rows\": 10,\n  \"fields\": [\n    {\n      \"column\": 0,\n      \"properties\": {\n        \"dtype\": \"string\",\n        \"num_unique_values\": 10,\n        \"samples\": [\n          \"Some Kind of Hate\",\n          \"All About Eve\",\n          \"Unstoppable\"\n        ],\n        \"semantic_type\": \"\",\n        \"description\": \"\"\n      }\n    }\n  ]\n}"
            }
          },
          "metadata": {},
          "execution_count": 22
        }
      ]
    },
    {
      "cell_type": "code",
      "source": [
        "# Create column to hold parsed Title info\n",
        "movie_reviews_df[\"title\"] = movie_reviews_df[\"movie\"].str.extract(namePattern)\n",
        "movie_reviews_df.head()"
      ],
      "metadata": {
        "trusted": true,
        "id": "eMukkK6WiSEP",
        "colab": {
          "base_uri": "https://localhost:8080/",
          "height": 206
        },
        "outputId": "3094343c-83e1-421c-ff4d-804ca46c489a"
      },
      "execution_count": null,
      "outputs": [
        {
          "output_type": "execute_result",
          "data": {
            "text/plain": [
              "    review_id           reviewer                      movie  rating  \\\n",
              "4   rw5704487       mmason-15867         The Droving (2020)       2   \n",
              "5   rw5704488  schroederagustavo       All About Eve (1950)      10   \n",
              "6   rw5704489            welhof1       Runaway Train (1985)       7   \n",
              "8   rw5704491             tioeta  The Half of It (I) (2020)       4   \n",
              "10  rw5704494   andrewtschroeder         Closure (I) (2018)       9   \n",
              "\n",
              "                                       review_summary review_date  \\\n",
              "4                                    An honest review  3 May 2020   \n",
              "5                                             Amazing  3 May 2020   \n",
              "6                           Impressive action scenes!  3 May 2020   \n",
              "8   Needed the other half of the movie to cover up...  3 May 2020   \n",
              "10                                 Fun and intriguing  3 May 2020   \n",
              "\n",
              "    spoiler_tag                                      review_detail   helpful  \\\n",
              "4         False  Here's the truth. There's not much to this mov...  [26, 41]   \n",
              "5         False  Having seen this film for the first time today...    [0, 1]   \n",
              "6         False  The movie had some very impressive scenes. Esp...    [0, 1]   \n",
              "8         False  I see that Netflix has a teenage/kids audience...  [16, 26]   \n",
              "10        False  This is a fun and intriguing mystery. The acti...    [2, 2]   \n",
              "\n",
              "    year               title  \n",
              "4   2020         The Droving  \n",
              "5   1950       All About Eve  \n",
              "6   1985       Runaway Train  \n",
              "8   2020  The Half of It (I)  \n",
              "10  2018         Closure (I)  "
            ],
            "text/html": [
              "\n",
              "  <div id=\"df-aab28f99-693b-499f-b225-d42c78d96d68\" class=\"colab-df-container\">\n",
              "    <div>\n",
              "<style scoped>\n",
              "    .dataframe tbody tr th:only-of-type {\n",
              "        vertical-align: middle;\n",
              "    }\n",
              "\n",
              "    .dataframe tbody tr th {\n",
              "        vertical-align: top;\n",
              "    }\n",
              "\n",
              "    .dataframe thead th {\n",
              "        text-align: right;\n",
              "    }\n",
              "</style>\n",
              "<table border=\"1\" class=\"dataframe\">\n",
              "  <thead>\n",
              "    <tr style=\"text-align: right;\">\n",
              "      <th></th>\n",
              "      <th>review_id</th>\n",
              "      <th>reviewer</th>\n",
              "      <th>movie</th>\n",
              "      <th>rating</th>\n",
              "      <th>review_summary</th>\n",
              "      <th>review_date</th>\n",
              "      <th>spoiler_tag</th>\n",
              "      <th>review_detail</th>\n",
              "      <th>helpful</th>\n",
              "      <th>year</th>\n",
              "      <th>title</th>\n",
              "    </tr>\n",
              "  </thead>\n",
              "  <tbody>\n",
              "    <tr>\n",
              "      <th>4</th>\n",
              "      <td>rw5704487</td>\n",
              "      <td>mmason-15867</td>\n",
              "      <td>The Droving (2020)</td>\n",
              "      <td>2</td>\n",
              "      <td>An honest review</td>\n",
              "      <td>3 May 2020</td>\n",
              "      <td>False</td>\n",
              "      <td>Here's the truth. There's not much to this mov...</td>\n",
              "      <td>[26, 41]</td>\n",
              "      <td>2020</td>\n",
              "      <td>The Droving</td>\n",
              "    </tr>\n",
              "    <tr>\n",
              "      <th>5</th>\n",
              "      <td>rw5704488</td>\n",
              "      <td>schroederagustavo</td>\n",
              "      <td>All About Eve (1950)</td>\n",
              "      <td>10</td>\n",
              "      <td>Amazing</td>\n",
              "      <td>3 May 2020</td>\n",
              "      <td>False</td>\n",
              "      <td>Having seen this film for the first time today...</td>\n",
              "      <td>[0, 1]</td>\n",
              "      <td>1950</td>\n",
              "      <td>All About Eve</td>\n",
              "    </tr>\n",
              "    <tr>\n",
              "      <th>6</th>\n",
              "      <td>rw5704489</td>\n",
              "      <td>welhof1</td>\n",
              "      <td>Runaway Train (1985)</td>\n",
              "      <td>7</td>\n",
              "      <td>Impressive action scenes!</td>\n",
              "      <td>3 May 2020</td>\n",
              "      <td>False</td>\n",
              "      <td>The movie had some very impressive scenes. Esp...</td>\n",
              "      <td>[0, 1]</td>\n",
              "      <td>1985</td>\n",
              "      <td>Runaway Train</td>\n",
              "    </tr>\n",
              "    <tr>\n",
              "      <th>8</th>\n",
              "      <td>rw5704491</td>\n",
              "      <td>tioeta</td>\n",
              "      <td>The Half of It (I) (2020)</td>\n",
              "      <td>4</td>\n",
              "      <td>Needed the other half of the movie to cover up...</td>\n",
              "      <td>3 May 2020</td>\n",
              "      <td>False</td>\n",
              "      <td>I see that Netflix has a teenage/kids audience...</td>\n",
              "      <td>[16, 26]</td>\n",
              "      <td>2020</td>\n",
              "      <td>The Half of It (I)</td>\n",
              "    </tr>\n",
              "    <tr>\n",
              "      <th>10</th>\n",
              "      <td>rw5704494</td>\n",
              "      <td>andrewtschroeder</td>\n",
              "      <td>Closure (I) (2018)</td>\n",
              "      <td>9</td>\n",
              "      <td>Fun and intriguing</td>\n",
              "      <td>3 May 2020</td>\n",
              "      <td>False</td>\n",
              "      <td>This is a fun and intriguing mystery. The acti...</td>\n",
              "      <td>[2, 2]</td>\n",
              "      <td>2018</td>\n",
              "      <td>Closure (I)</td>\n",
              "    </tr>\n",
              "  </tbody>\n",
              "</table>\n",
              "</div>\n",
              "    <div class=\"colab-df-buttons\">\n",
              "\n",
              "  <div class=\"colab-df-container\">\n",
              "    <button class=\"colab-df-convert\" onclick=\"convertToInteractive('df-aab28f99-693b-499f-b225-d42c78d96d68')\"\n",
              "            title=\"Convert this dataframe to an interactive table.\"\n",
              "            style=\"display:none;\">\n",
              "\n",
              "  <svg xmlns=\"http://www.w3.org/2000/svg\" height=\"24px\" viewBox=\"0 -960 960 960\">\n",
              "    <path d=\"M120-120v-720h720v720H120Zm60-500h600v-160H180v160Zm220 220h160v-160H400v160Zm0 220h160v-160H400v160ZM180-400h160v-160H180v160Zm440 0h160v-160H620v160ZM180-180h160v-160H180v160Zm440 0h160v-160H620v160Z\"/>\n",
              "  </svg>\n",
              "    </button>\n",
              "\n",
              "  <style>\n",
              "    .colab-df-container {\n",
              "      display:flex;\n",
              "      gap: 12px;\n",
              "    }\n",
              "\n",
              "    .colab-df-convert {\n",
              "      background-color: #E8F0FE;\n",
              "      border: none;\n",
              "      border-radius: 50%;\n",
              "      cursor: pointer;\n",
              "      display: none;\n",
              "      fill: #1967D2;\n",
              "      height: 32px;\n",
              "      padding: 0 0 0 0;\n",
              "      width: 32px;\n",
              "    }\n",
              "\n",
              "    .colab-df-convert:hover {\n",
              "      background-color: #E2EBFA;\n",
              "      box-shadow: 0px 1px 2px rgba(60, 64, 67, 0.3), 0px 1px 3px 1px rgba(60, 64, 67, 0.15);\n",
              "      fill: #174EA6;\n",
              "    }\n",
              "\n",
              "    .colab-df-buttons div {\n",
              "      margin-bottom: 4px;\n",
              "    }\n",
              "\n",
              "    [theme=dark] .colab-df-convert {\n",
              "      background-color: #3B4455;\n",
              "      fill: #D2E3FC;\n",
              "    }\n",
              "\n",
              "    [theme=dark] .colab-df-convert:hover {\n",
              "      background-color: #434B5C;\n",
              "      box-shadow: 0px 1px 3px 1px rgba(0, 0, 0, 0.15);\n",
              "      filter: drop-shadow(0px 1px 2px rgba(0, 0, 0, 0.3));\n",
              "      fill: #FFFFFF;\n",
              "    }\n",
              "  </style>\n",
              "\n",
              "    <script>\n",
              "      const buttonEl =\n",
              "        document.querySelector('#df-aab28f99-693b-499f-b225-d42c78d96d68 button.colab-df-convert');\n",
              "      buttonEl.style.display =\n",
              "        google.colab.kernel.accessAllowed ? 'block' : 'none';\n",
              "\n",
              "      async function convertToInteractive(key) {\n",
              "        const element = document.querySelector('#df-aab28f99-693b-499f-b225-d42c78d96d68');\n",
              "        const dataTable =\n",
              "          await google.colab.kernel.invokeFunction('convertToInteractive',\n",
              "                                                    [key], {});\n",
              "        if (!dataTable) return;\n",
              "\n",
              "        const docLinkHtml = 'Like what you see? Visit the ' +\n",
              "          '<a target=\"_blank\" href=https://colab.research.google.com/notebooks/data_table.ipynb>data table notebook</a>'\n",
              "          + ' to learn more about interactive tables.';\n",
              "        element.innerHTML = '';\n",
              "        dataTable['output_type'] = 'display_data';\n",
              "        await google.colab.output.renderOutput(dataTable, element);\n",
              "        const docLink = document.createElement('div');\n",
              "        docLink.innerHTML = docLinkHtml;\n",
              "        element.appendChild(docLink);\n",
              "      }\n",
              "    </script>\n",
              "  </div>\n",
              "\n",
              "\n",
              "<div id=\"df-5171d0f4-69e5-4e9c-8ae2-c58b9efaf9fb\">\n",
              "  <button class=\"colab-df-quickchart\" onclick=\"quickchart('df-5171d0f4-69e5-4e9c-8ae2-c58b9efaf9fb')\"\n",
              "            title=\"Suggest charts\"\n",
              "            style=\"display:none;\">\n",
              "\n",
              "<svg xmlns=\"http://www.w3.org/2000/svg\" height=\"24px\"viewBox=\"0 0 24 24\"\n",
              "     width=\"24px\">\n",
              "    <g>\n",
              "        <path d=\"M19 3H5c-1.1 0-2 .9-2 2v14c0 1.1.9 2 2 2h14c1.1 0 2-.9 2-2V5c0-1.1-.9-2-2-2zM9 17H7v-7h2v7zm4 0h-2V7h2v10zm4 0h-2v-4h2v4z\"/>\n",
              "    </g>\n",
              "</svg>\n",
              "  </button>\n",
              "\n",
              "<style>\n",
              "  .colab-df-quickchart {\n",
              "      --bg-color: #E8F0FE;\n",
              "      --fill-color: #1967D2;\n",
              "      --hover-bg-color: #E2EBFA;\n",
              "      --hover-fill-color: #174EA6;\n",
              "      --disabled-fill-color: #AAA;\n",
              "      --disabled-bg-color: #DDD;\n",
              "  }\n",
              "\n",
              "  [theme=dark] .colab-df-quickchart {\n",
              "      --bg-color: #3B4455;\n",
              "      --fill-color: #D2E3FC;\n",
              "      --hover-bg-color: #434B5C;\n",
              "      --hover-fill-color: #FFFFFF;\n",
              "      --disabled-bg-color: #3B4455;\n",
              "      --disabled-fill-color: #666;\n",
              "  }\n",
              "\n",
              "  .colab-df-quickchart {\n",
              "    background-color: var(--bg-color);\n",
              "    border: none;\n",
              "    border-radius: 50%;\n",
              "    cursor: pointer;\n",
              "    display: none;\n",
              "    fill: var(--fill-color);\n",
              "    height: 32px;\n",
              "    padding: 0;\n",
              "    width: 32px;\n",
              "  }\n",
              "\n",
              "  .colab-df-quickchart:hover {\n",
              "    background-color: var(--hover-bg-color);\n",
              "    box-shadow: 0 1px 2px rgba(60, 64, 67, 0.3), 0 1px 3px 1px rgba(60, 64, 67, 0.15);\n",
              "    fill: var(--button-hover-fill-color);\n",
              "  }\n",
              "\n",
              "  .colab-df-quickchart-complete:disabled,\n",
              "  .colab-df-quickchart-complete:disabled:hover {\n",
              "    background-color: var(--disabled-bg-color);\n",
              "    fill: var(--disabled-fill-color);\n",
              "    box-shadow: none;\n",
              "  }\n",
              "\n",
              "  .colab-df-spinner {\n",
              "    border: 2px solid var(--fill-color);\n",
              "    border-color: transparent;\n",
              "    border-bottom-color: var(--fill-color);\n",
              "    animation:\n",
              "      spin 1s steps(1) infinite;\n",
              "  }\n",
              "\n",
              "  @keyframes spin {\n",
              "    0% {\n",
              "      border-color: transparent;\n",
              "      border-bottom-color: var(--fill-color);\n",
              "      border-left-color: var(--fill-color);\n",
              "    }\n",
              "    20% {\n",
              "      border-color: transparent;\n",
              "      border-left-color: var(--fill-color);\n",
              "      border-top-color: var(--fill-color);\n",
              "    }\n",
              "    30% {\n",
              "      border-color: transparent;\n",
              "      border-left-color: var(--fill-color);\n",
              "      border-top-color: var(--fill-color);\n",
              "      border-right-color: var(--fill-color);\n",
              "    }\n",
              "    40% {\n",
              "      border-color: transparent;\n",
              "      border-right-color: var(--fill-color);\n",
              "      border-top-color: var(--fill-color);\n",
              "    }\n",
              "    60% {\n",
              "      border-color: transparent;\n",
              "      border-right-color: var(--fill-color);\n",
              "    }\n",
              "    80% {\n",
              "      border-color: transparent;\n",
              "      border-right-color: var(--fill-color);\n",
              "      border-bottom-color: var(--fill-color);\n",
              "    }\n",
              "    90% {\n",
              "      border-color: transparent;\n",
              "      border-bottom-color: var(--fill-color);\n",
              "    }\n",
              "  }\n",
              "</style>\n",
              "\n",
              "  <script>\n",
              "    async function quickchart(key) {\n",
              "      const quickchartButtonEl =\n",
              "        document.querySelector('#' + key + ' button');\n",
              "      quickchartButtonEl.disabled = true;  // To prevent multiple clicks.\n",
              "      quickchartButtonEl.classList.add('colab-df-spinner');\n",
              "      try {\n",
              "        const charts = await google.colab.kernel.invokeFunction(\n",
              "            'suggestCharts', [key], {});\n",
              "      } catch (error) {\n",
              "        console.error('Error during call to suggestCharts:', error);\n",
              "      }\n",
              "      quickchartButtonEl.classList.remove('colab-df-spinner');\n",
              "      quickchartButtonEl.classList.add('colab-df-quickchart-complete');\n",
              "    }\n",
              "    (() => {\n",
              "      let quickchartButtonEl =\n",
              "        document.querySelector('#df-5171d0f4-69e5-4e9c-8ae2-c58b9efaf9fb button');\n",
              "      quickchartButtonEl.style.display =\n",
              "        google.colab.kernel.accessAllowed ? 'block' : 'none';\n",
              "    })();\n",
              "  </script>\n",
              "</div>\n",
              "\n",
              "    </div>\n",
              "  </div>\n"
            ],
            "application/vnd.google.colaboratory.intrinsic+json": {
              "type": "dataframe",
              "variable_name": "movie_reviews_df"
            }
          },
          "metadata": {},
          "execution_count": 23
        }
      ]
    },
    {
      "cell_type": "code",
      "source": [
        "bad_titles_count = len(movie_reviews_df[movie_reviews_df[\"title\"].isna()])\n",
        "before_titles_cleaning_count = len(movie_reviews_df[\"title\"])\n",
        "if (bad_titles_count > 0):\n",
        "    print(f\"Bad titles detected: {bad_titles_count:,}\")\n",
        "    print(f\"Before dropping title na's: {before_titles_cleaning_count:,}\")\n",
        "    print(\"Dropping records with irregularly formatted names: \")\n",
        "    print(movie_reviews_df[movie_reviews_df[\"title\"].isna()][\"movie\"].value_counts()) # List to display all\n",
        "    movie_reviews_df.drop(movie_reviews_df[movie_reviews_df[\"title\"].isna()].index, inplace = True)\n",
        "else:\n",
        "    print(\"No na values detected in title column.\")\n",
        "\n",
        "after_titles_cleaning_count = len(movie_reviews_df[\"title\"])\n",
        "print(f\"After cleaning steps: {after_titles_cleaning_count:,} reviews remaining out of initial {reviews_total_count:,}\")\n",
        "clean_reviews_df = movie_reviews_df"
      ],
      "metadata": {
        "trusted": true,
        "id": "wTz5VVE7iSEP",
        "colab": {
          "base_uri": "https://localhost:8080/"
        },
        "outputId": "4db73798-8f90-4c7c-b057-bbd3f5dc34fc"
      },
      "execution_count": null,
      "outputs": [
        {
          "output_type": "stream",
          "name": "stdout",
          "text": [
            "Bad titles detected: 1\n",
            "Before dropping title na's: 4,007,003\n",
            "Dropping records with irregularly formatted names: \n",
            "movie\n",
            "(1969)    1\n",
            "Name: count, dtype: int64\n",
            "After cleaning steps: 4,007,002 reviews remaining out of initial 5,571,499\n"
          ]
        }
      ]
    },
    {
      "cell_type": "markdown",
      "source": [
        "## 1.3 Data Observation"
      ],
      "metadata": {
        "id": "bHX3cueoiSEP"
      }
    },
    {
      "cell_type": "markdown",
      "source": [
        "### Rating"
      ],
      "metadata": {
        "id": "z6Vn7EB_rCfB"
      }
    },
    {
      "cell_type": "code",
      "source": [
        "# Does the spread of ratings pass a sanity check?\n",
        "clean_reviews_df['rating'].plot(kind='hist')\n",
        "clean_reviews_df['rating'].describe()[1:]"
      ],
      "metadata": {
        "trusted": true,
        "id": "GZiJUD-WiSEP",
        "colab": {
          "base_uri": "https://localhost:8080/",
          "height": 569
        },
        "outputId": "da86e0dc-4b97-42e6-d90f-a9ba810da621"
      },
      "execution_count": null,
      "outputs": [
        {
          "output_type": "execute_result",
          "data": {
            "text/plain": [
              "mean     6.654420\n",
              "std      2.952341\n",
              "min      1.000000\n",
              "25%      5.000000\n",
              "50%      7.000000\n",
              "75%      9.000000\n",
              "max     10.000000\n",
              "Name: rating, dtype: float64"
            ]
          },
          "metadata": {},
          "execution_count": 24
        },
        {
          "output_type": "display_data",
          "data": {
            "text/plain": [
              "<Figure size 640x480 with 1 Axes>"
            ],
            "image/png": "[encoded data removed]"
          },
          "metadata": {}
        }
      ]
    },
    {
      "cell_type": "markdown",
      "source": [
        "### Year"
      ],
      "metadata": {
        "id": "7ne3UM_WrKzF"
      }
    },
    {
      "cell_type": "code",
      "source": [
        "# Which release years have the most review activity?\n",
        "clean_reviews_df.groupby(['year']).count()['movie'].sort_values(ascending=False).head()"
      ],
      "metadata": {
        "trusted": true,
        "id": "wNdWjHx7iSEP",
        "colab": {
          "base_uri": "https://localhost:8080/"
        },
        "outputId": "7563588d-8038-402e-f575-f34d476cd8eb"
      },
      "execution_count": null,
      "outputs": [
        {
          "output_type": "execute_result",
          "data": {
            "text/plain": [
              "year\n",
              "2019    315173\n",
              "2018    260435\n",
              "2020    215842\n",
              "2017    175184\n",
              "2016    137296\n",
              "Name: movie, dtype: int64"
            ]
          },
          "metadata": {},
          "execution_count": 25
        }
      ]
    },
    {
      "cell_type": "code",
      "source": [
        "# Overall stats of years with reviews in working data\n",
        "clean_reviews_df['year'] = clean_reviews_df['year'].astype(str).astype(int)\n",
        "clean_reviews_df['year'].describe()[1:] # \"count\", the first index, is excluded to keep the format nice"
      ],
      "metadata": {
        "trusted": true,
        "id": "_cBvANqhiSEP",
        "colab": {
          "base_uri": "https://localhost:8080/"
        },
        "outputId": "a3ea9d6b-d20d-4584-e8a5-b448f67d8043"
      },
      "execution_count": null,
      "outputs": [
        {
          "output_type": "execute_result",
          "data": {
            "text/plain": [
              "mean    2000.846045\n",
              "std       21.281040\n",
              "min     1874.000000\n",
              "25%     1996.000000\n",
              "50%     2007.000000\n",
              "75%     2016.000000\n",
              "max     2022.000000\n",
              "Name: year, dtype: float64"
            ]
          },
          "metadata": {},
          "execution_count": 26
        }
      ]
    },
    {
      "cell_type": "code",
      "source": [
        "# Verify oldest movie... chances are whoever is commenting on ancient film would mention how old it is\n",
        "oldest_movie_review = clean_reviews_df.loc[clean_reviews_df[\"year\"] == clean_reviews_df['year'].describe()[\"min\"]]\n",
        "print(list(oldest_movie_review[\"movie\"])[0])# List() is an easy way to display a long string inside a series\n",
        "list(oldest_movie_review[\"review_detail\"])[0] # Use the [0] index in case there are multiple for the oldest movie"
      ],
      "metadata": {
        "trusted": true,
        "id": "OgqSD5S6iSEQ",
        "colab": {
          "base_uri": "https://localhost:8080/",
          "height": 122
        },
        "outputId": "38c0305f-9b6d-48e0-f498-25bdf3d29c10"
      },
      "execution_count": null,
      "outputs": [
        {
          "output_type": "stream",
          "name": "stdout",
          "text": [
            "Passage de Venus (1874)\n"
          ]
        },
        {
          "output_type": "execute_result",
          "data": {
            "text/plain": [
              "'OR IS IT?It is true that this is the very first sequential photographic series put to motion ever produced, there is an elephant in the room that needs to be addressed. The tragedy is that this is not actually the heavenly body of Venus passing before the great burning day ball in the sky. It is in fact, the world\\'s first screen test, as these are only models, placeholders made to test the plates which would be used for the real deal. Regrettably, the actual footage of the Venusian transit may be lost forever. According to Wikipedia, \"A 2005 study of the surviving material concluded that all the extant plates made with the photographic revolver are practice plates shot with a model and that none of the many plates successfully exposed during the eclipse seem to have survived.\"Yet we must interpret it as it is: A film. Indeed, it is fitting that man\\'s first foray into something so invariably groundbreaking in influence, cultural impact and importance to art as film is indeed, baby steps, waddling up towards the stars. Or at least, the pretend ones spinning above the nascent medium\\'s crib in its nursery. If we play along with this vision, we cannot help but be in awe of man\\'s great scope for this technology\\'s use, to chart astrological and scientific phenomena, to revolutionize the preservation of once in a lifetime events, and indeed attain near-apotheosis in achieving the ability to preserve, simulate and replay life itself as long as the powers and mediums employed would hold. It is staggering in and of itself that this alone survived into the age where it could be immortalized nearly forever, to inspire every generation with proof that even in simulacra, man has always been driven to achievement by gazing upon the wonders within the stars.'"
            ],
            "application/vnd.google.colaboratory.intrinsic+json": {
              "type": "string"
            }
          },
          "metadata": {},
          "execution_count": 27
        }
      ]
    },
    {
      "cell_type": "code",
      "source": [
        "# Verify newest movie... nothing releasing in 2022 should have a review, but maybe it's tied to something still shooting\n",
        "newest_movie_review = clean_reviews_df.loc[clean_reviews_df[\"year\"] == clean_reviews_df['year'].describe()[\"max\"]]\n",
        "print(list(newest_movie_review[\"movie\"])[0])\n",
        "list(newest_movie_review[\"review_detail\"])[0]"
      ],
      "metadata": {
        "trusted": true,
        "id": "dq1qYQgsiSEQ",
        "colab": {
          "base_uri": "https://localhost:8080/",
          "height": 52
        },
        "outputId": "53c61b06-edfe-4926-dfb4-bc42bfcc9919"
      },
      "execution_count": null,
      "outputs": [
        {
          "output_type": "stream",
          "name": "stdout",
          "text": [
            "Iblis (2022)\n"
          ]
        },
        {
          "output_type": "execute_result",
          "data": {
            "text/plain": [
              "'A for this movie title. We\\'re shooting in dhaka in a empty place or empty plot this why we named this movie as \"Empty House\"'"
            ],
            "application/vnd.google.colaboratory.intrinsic+json": {
              "type": "string"
            }
          },
          "metadata": {},
          "execution_count": 28
        }
      ]
    },
    {
      "cell_type": "markdown",
      "source": [
        "###Helpful ratio distribution"
      ],
      "metadata": {
        "id": "3uzQeDF5rVJn"
      }
    },
    {
      "cell_type": "code",
      "source": [
        "print(clean_reviews_df['helpful'].head())\n"
      ],
      "metadata": {
        "colab": {
          "base_uri": "https://localhost:8080/"
        },
        "outputId": "1a5b3859-f405-4dd7-b9a5-78b7436062c3",
        "id": "-qC4pAAWwR-F"
      },
      "execution_count": null,
      "outputs": [
        {
          "output_type": "stream",
          "name": "stdout",
          "text": [
            "4     [26, 41]\n",
            "5       [0, 1]\n",
            "6       [0, 1]\n",
            "8     [16, 26]\n",
            "10      [2, 2]\n",
            "Name: helpful, dtype: object\n"
          ]
        }
      ]
    },
    {
      "cell_type": "code",
      "source": [
        "import pandas as pd\n",
        "import matplotlib.pyplot as plt\n",
        "import seaborn as sns\n",
        "\n",
        "# 假设 clean_reviews_df 是你的 DataFrame，并包含 'helpful' 列\n",
        "# 示例数据: clean_reviews_df['helpful'] = [['26', '41'], ['0', '1'], ['16', '26']]\n",
        "\n",
        "# 提取有用票和总票数\n",
        "clean_reviews_df['helpful_votes'] = clean_reviews_df['helpful'].apply(lambda x: int(x[0].replace(',', '')))\n",
        "clean_reviews_df['total_votes'] = clean_reviews_df['helpful'].apply(lambda x: int(x[1].replace(',', '')))\n",
        "\n",
        "# 计算有用票比率\n",
        "clean_reviews_df['helpful_ratio'] = clean_reviews_df['helpful_votes'] / clean_reviews_df['total_votes']\n",
        "\n",
        "# 绘制有用票比率的直方图\n",
        "plt.figure(figsize=(10, 6))\n",
        "sns.histplot(clean_reviews_df['helpful_ratio'], bins=50, kde=True, color='blue')\n",
        "plt.title('Helpful Ratio Distribution')\n",
        "plt.xlabel('Helpful Ratio')\n",
        "plt.ylabel('Frequency')\n",
        "plt.grid(True)\n",
        "plt.show()\n"
      ],
      "metadata": {
        "colab": {
          "base_uri": "https://localhost:8080/",
          "height": 564
        },
        "id": "AHv_8iHVzvBI",
        "outputId": "692ac74b-e9b4-48e9-d287-b3301448b33e"
      },
      "execution_count": null,
      "outputs": [
        {
          "output_type": "display_data",
          "data": {
            "text/plain": [
              "<Figure size 1000x600 with 1 Axes>"
            ],
            "image/png": "[encoded data removed]"
          },
          "metadata": {}
        }
      ]
    },
    {
      "cell_type": "markdown",
      "source": [
        "###Review length distribution"
      ],
      "metadata": {
        "id": "sllgGy1Wratn"
      }
    },
    {
      "cell_type": "code",
      "source": [
        "import pandas as pd\n",
        "import matplotlib.pyplot as plt\n",
        "import seaborn as sns\n",
        "\n",
        "# 假设 clean_reviews_df 是你的 DataFrame，并且已经包含 'review_detail' 列\n",
        "# 示例数据: clean_reviews_df['review_detail'] = [\"This is a great movie!\", \"Not bad, but could be better.\", \"Worst movie ever!\"]\n",
        "\n",
        "# 计算评论的字符长度\n",
        "clean_reviews_df['review_length'] = clean_reviews_df['review_detail'].apply(len)\n",
        "\n",
        "# 绘制评论长度的直方图\n",
        "plt.figure(figsize=(10, 6))\n",
        "sns.histplot(clean_reviews_df['review_length'], bins=50, kde=True, color='purple')\n",
        "plt.title('Review Length Distribution')\n",
        "plt.xlabel('Review Length')\n",
        "plt.ylabel('Frequency')\n",
        "plt.grid(True)\n",
        "plt.show()\n"
      ],
      "metadata": {
        "colab": {
          "base_uri": "https://localhost:8080/",
          "height": 564
        },
        "id": "PPhfVRpPq5n1",
        "outputId": "31b527cc-330e-4b9b-b8d3-563d53bde880"
      },
      "execution_count": null,
      "outputs": [
        {
          "output_type": "display_data",
          "data": {
            "text/plain": [
              "<Figure size 1000x600 with 1 Axes>"
            ],
            "image/png": "[encoded data removed]"
          },
          "metadata": {}
        }
      ]
    },
    {
      "cell_type": "markdown",
      "source": [
        "###Is the data balanced?"
      ],
      "metadata": {
        "id": "yzXRuGdDsI-g"
      }
    },
    {
      "cell_type": "code",
      "source": [
        "# 创建二元标签\n",
        "clean_reviews_df['Is_Helpful'] = (clean_reviews_df['helpful_ratio'] > 0.6).astype(int)\n",
        "\n",
        "# 查看有用和不有用的评论分布\n",
        "helpfulness_counts = clean_reviews_df['Is_Helpful'].value_counts()\n",
        "helpfulness_percentage = clean_reviews_df['Is_Helpful'].value_counts(normalize=True) * 100\n",
        "\n",
        "# 打印结果\n",
        "print(\"Helpfulness Counts:\\n\", helpfulness_counts)\n",
        "print(\"\\nHelpfulness Percentage:\\n\", helpfulness_percentage)\n",
        "\n",
        "# 可视化数据平衡情况\n",
        "plt.figure(figsize=(8, 4))\n",
        "sns.barplot(x=helpfulness_counts.index, y=helpfulness_counts.values, palette='viridis')\n",
        "plt.title('Distribution of Helpfulness')\n",
        "plt.xlabel('Helpfulness (0 = Not Helpful, 1 = Helpful)')\n",
        "plt.ylabel('Number of Reviews')\n",
        "plt.xticks([0, 1], ['Not Helpful', 'Helpful'])\n",
        "plt.grid(True)\n",
        "plt.show()\n"
      ],
      "metadata": {
        "colab": {
          "base_uri": "https://localhost:8080/",
          "height": 688
        },
        "id": "xrEJqj9esrmZ",
        "outputId": "3418c442-ca82-4f59-f37b-ebeb549fe639"
      },
      "execution_count": null,
      "outputs": [
        {
          "output_type": "stream",
          "name": "stdout",
          "text": [
            "Helpfulness Counts:\n",
            " Is_Helpful\n",
            "0    2841239\n",
            "1    1165763\n",
            "Name: count, dtype: int64\n",
            "\n",
            "Helpfulness Percentage:\n",
            " Is_Helpful\n",
            "0    70.906853\n",
            "1    29.093147\n",
            "Name: proportion, dtype: float64\n"
          ]
        },
        {
          "output_type": "stream",
          "name": "stderr",
          "text": [
            "<ipython-input-29-fea370991527>:14: FutureWarning: \n",
            "\n",
            "Passing `palette` without assigning `hue` is deprecated and will be removed in v0.14.0. Assign the `x` variable to `hue` and set `legend=False` for the same effect.\n",
            "\n",
            "  sns.barplot(x=helpfulness_counts.index, y=helpfulness_counts.values, palette='viridis')\n"
          ]
        },
        {
          "output_type": "display_data",
          "data": {
            "text/plain": [
              "<Figure size 800x400 with 1 Axes>"
            ],
            "image/png": "[encoded data removed]"
          },
          "metadata": {}
        }
      ]
    },
    {
      "cell_type": "markdown",
      "source": [
        "###correlation\n"
      ],
      "metadata": {
        "id": "BYmuIafp257b"
      }
    },
    {
      "cell_type": "code",
      "source": [
        "# 先创建一个列表包括所有数值型数据列，显式排除任何非数值型列\n",
        "numeric_columns = ['rating', 'year', 'helpful_votes', 'total_votes', 'helpful_ratio', 'review_length', 'Is_Helpful', 'spoiler_tag']\n",
        "\n",
        "# 计算这些数值型列的相关性矩阵\n",
        "correlation_matrix = clean_reviews_df[numeric_columns].corr()\n",
        "\n",
        "# 绘制热力图\n",
        "plt.figure(figsize=(12, 8))\n",
        "sns.heatmap(correlation_matrix, annot=True, fmt=\".2f\", cmap=\"coolwarm\")\n",
        "plt.title('Correlation matrix of selected numeric features')\n",
        "plt.show()\n"
      ],
      "metadata": {
        "colab": {
          "base_uri": "https://localhost:8080/",
          "height": 699
        },
        "id": "0a_O8s8Fsr5Q",
        "outputId": "23d68bf2-aa5a-43da-c346-96d27f50161d"
      },
      "execution_count": null,
      "outputs": [
        {
          "output_type": "display_data",
          "data": {
            "text/plain": [
              "<Figure size 1200x800 with 2 Axes>"
            ],
            "image/png": "[encoded data removed]"
          },
          "metadata": {}
        }
      ]
    },
    {
      "cell_type": "markdown",
      "source": [
        "# 2.Data Processing"
      ],
      "metadata": {
        "id": "jHJIksdBFjX4"
      }
    },
    {
      "cell_type": "markdown",
      "source": [
        "## 2.1 Missing value check"
      ],
      "metadata": {
        "id": "b-SRu0TQFm_J"
      }
    },
    {
      "cell_type": "code",
      "source": [
        "import numpy as np\n",
        "# 处理 total_votes 为 0 的情况，避免除以零错误\n",
        "clean_reviews_df['helpful_ratio'] = np.where(clean_reviews_df['total_votes'] == 0, 0,\n",
        "                                             clean_reviews_df['helpful_votes'] / clean_reviews_df['total_votes'])\n",
        "\n",
        "# 再次检查有用票比率的缺失值\n",
        "missing_helpful_ratio = clean_reviews_df['helpful_ratio'].isnull().sum()\n",
        "print(\"Missing 'helpful_ratio' after adjustments:\", missing_helpful_ratio)"
      ],
      "metadata": {
        "colab": {
          "base_uri": "https://localhost:8080/"
        },
        "id": "ds9ZGmWMEpFB",
        "outputId": "db736d57-637a-4dc0-e6a1-54c522fbf3fb"
      },
      "execution_count": null,
      "outputs": [
        {
          "output_type": "stream",
          "name": "stdout",
          "text": [
            "Missing 'helpful_ratio' after adjustments: 0\n"
          ]
        }
      ]
    },
    {
      "cell_type": "code",
      "source": [
        "# 定义你需要检查的列\n",
        "columns_to_check = ['rating', 'review_summary', 'review_detail', 'helpful', 'helpful_votes', 'total_votes', 'helpful_ratio', 'review_length', 'Is_Helpful']\n",
        "\n",
        "# 计算并打印这些列的缺失值数量\n",
        "missing_values = clean_reviews_df[columns_to_check].isnull().sum()\n",
        "print(missing_values)\n"
      ],
      "metadata": {
        "colab": {
          "base_uri": "https://localhost:8080/"
        },
        "id": "jZ2QsgjtFZve",
        "outputId": "3ab769d1-ccdf-4c2a-c528-c0cb777cc25e"
      },
      "execution_count": null,
      "outputs": [
        {
          "output_type": "stream",
          "name": "stdout",
          "text": [
            "rating            0\n",
            "review_summary    0\n",
            "review_detail     0\n",
            "helpful           0\n",
            "helpful_votes     0\n",
            "total_votes       0\n",
            "helpful_ratio     0\n",
            "review_length     0\n",
            "Is_Helpful        0\n",
            "dtype: int64\n"
          ]
        }
      ]
    },
    {
      "cell_type": "markdown",
      "source": [
        "## 2.2 Remove Duplicate Reviews"
      ],
      "metadata": {
        "id": "LDizp4eoF-0H"
      }
    },
    {
      "cell_type": "code",
      "source": [
        "df = clean_reviews_df.drop_duplicates(subset=['review_id'])\n",
        "print(\"After removing duplicates:\", df.shape[0])"
      ],
      "metadata": {
        "colab": {
          "base_uri": "https://localhost:8080/"
        },
        "id": "P0cocRu9BQit",
        "outputId": "1ea4550d-3083-4043-f544-f5ae64f409b6"
      },
      "execution_count": null,
      "outputs": [
        {
          "output_type": "stream",
          "name": "stdout",
          "text": [
            "After removing duplicates: 3996265\n"
          ]
        }
      ]
    },
    {
      "cell_type": "markdown",
      "source": [
        "## 2.2 Remove Reviews with Blank Text"
      ],
      "metadata": {
        "id": "AqPEXy8JGgH9"
      }
    },
    {
      "cell_type": "code",
      "source": [
        "df = df[df['review_detail'].notna()]  # Remove NaN values in 'review_detail'\n",
        "df = df[df['review_detail'].str.strip() != '']  # Remove empty strings\n",
        "print(\"After removing blank reviews:\", df.shape[0])\n"
      ],
      "metadata": {
        "colab": {
          "base_uri": "https://localhost:8080/"
        },
        "id": "abelNyAxBQ2v",
        "outputId": "99af0084-5313-46ce-8855-9393d480511f"
      },
      "execution_count": null,
      "outputs": [
        {
          "output_type": "stream",
          "name": "stdout",
          "text": [
            "After removing blank reviews: 3996264\n"
          ]
        }
      ]
    },
    {
      "cell_type": "markdown",
      "source": [
        "## 2.3 Filter Reviews Based on Total Votes"
      ],
      "metadata": {
        "id": "DDIULQS1G-kp"
      }
    },
    {
      "cell_type": "code",
      "source": [
        "\n",
        "df = df[df['total_votes'] >= 10]\n",
        "print(\"After filtering reviews with at least 10 votes:\", df.shape[0])"
      ],
      "metadata": {
        "colab": {
          "base_uri": "https://localhost:8080/"
        },
        "id": "wKyTs6QSG8u0",
        "outputId": "cfd33b21-8d4b-4b18-fe01-1799c451558c"
      },
      "execution_count": null,
      "outputs": [
        {
          "output_type": "stream",
          "name": "stdout",
          "text": [
            "After filtering reviews with at least 10 votes: 1076875\n"
          ]
        }
      ]
    },
    {
      "cell_type": "markdown",
      "source": [
        "## 2.4 Check Data Balance"
      ],
      "metadata": {
        "id": "oxLwtFJ3IC0F"
      }
    },
    {
      "cell_type": "code",
      "source": [
        "import matplotlib.pyplot as plt\n",
        "import seaborn as sns\n",
        "\n",
        "\n",
        "# 创建二元标签\n",
        "df['Is_Helpful'] = (df['helpful_ratio'] > 0.6).astype(int)\n",
        "\n",
        "# 查看有用和不有用的评论分布\n",
        "helpfulness_counts = df['Is_Helpful'].value_counts()\n",
        "helpfulness_percentage = df['Is_Helpful'].value_counts(normalize=True) * 100\n",
        "\n",
        "# 打印结果\n",
        "print(\"Helpfulness Counts:\\n\", helpfulness_counts)\n",
        "print(\"\\nHelpfulness Percentage:\\n\", helpfulness_percentage)\n",
        "\n",
        "# 可视化数据平衡情况\n",
        "plt.figure(figsize=(8, 4))\n",
        "sns.barplot(x=helpfulness_counts.index, y=helpfulness_counts.values, palette='viridis')\n",
        "plt.title('Distribution of Helpfulness after Filtering')\n",
        "plt.xlabel('Helpfulness (0 = Not Helpful, 1 = Helpful)')\n",
        "plt.ylabel('Number of Reviews')\n",
        "plt.xticks([0, 1], ['Not Helpful', 'Helpful'])\n",
        "plt.grid(True)\n",
        "plt.show()"
      ],
      "metadata": {
        "colab": {
          "base_uri": "https://localhost:8080/",
          "height": 688
        },
        "id": "152D6QIAHXX9",
        "outputId": "46559b6e-7729-47da-a477-f7e930f290ff"
      },
      "execution_count": null,
      "outputs": [
        {
          "output_type": "stream",
          "name": "stdout",
          "text": [
            "Helpfulness Counts:\n",
            " Is_Helpful\n",
            "0    695833\n",
            "1    381042\n",
            "Name: count, dtype: int64\n",
            "\n",
            "Helpfulness Percentage:\n",
            " Is_Helpful\n",
            "0    64.615949\n",
            "1    35.384051\n",
            "Name: proportion, dtype: float64\n"
          ]
        },
        {
          "output_type": "stream",
          "name": "stderr",
          "text": [
            "<ipython-input-36-e62dcfc853f5>:18: FutureWarning: \n",
            "\n",
            "Passing `palette` without assigning `hue` is deprecated and will be removed in v0.14.0. Assign the `x` variable to `hue` and set `legend=False` for the same effect.\n",
            "\n",
            "  sns.barplot(x=helpfulness_counts.index, y=helpfulness_counts.values, palette='viridis')\n"
          ]
        },
        {
          "output_type": "display_data",
          "data": {
            "text/plain": [
              "<Figure size 800x400 with 1 Axes>"
            ],
            "image/png": "[encoded data removed]"
          },
          "metadata": {}
        }
      ]
    },
    {
      "cell_type": "markdown",
      "source": [
        "## 2.5 Stratified Sampling"
      ],
      "metadata": {
        "id": "vXBYQqH2_c4e"
      }
    },
    {
      "cell_type": "code",
      "source": [
        "import pandas as pd\n",
        "from sklearn.model_selection import train_test_split\n",
        "\n",
        "\n",
        "# 分层抽取5%的数据作为样本\n",
        "df_sample, _ = train_test_split(df, test_size=0.95, stratify=df['Is_Helpful'], random_state=42)\n",
        "\n",
        "# 检查抽取后的样本分布\n",
        "sample_counts = df_sample['Is_Helpful'].value_counts()\n",
        "sample_percentage = df_sample['Is_Helpful'].value_counts(normalize=True) * 100\n",
        "\n",
        "print(\"Sample Counts:\\n\", sample_counts)\n",
        "print(\"\\nSample Percentage:\\n\", sample_percentage)\n",
        "\n",
        "# 可视化样本数据平衡情况\n",
        "import matplotlib.pyplot as plt\n",
        "import seaborn as sns\n",
        "\n",
        "plt.figure(figsize=(8, 4))\n",
        "sns.barplot(x=sample_counts.index, y=sample_counts.values, palette='viridis')\n",
        "plt.title('Distribution of Helpfulness in Sampled Data')\n",
        "plt.xlabel('Helpfulness (0 = Not Helpful, 1 = Helpful)')\n",
        "plt.ylabel('Number of Reviews')\n",
        "plt.xticks([0, 1], ['Not Helpful', 'Helpful'])\n",
        "plt.grid(True)\n",
        "plt.show()"
      ],
      "metadata": {
        "colab": {
          "base_uri": "https://localhost:8080/",
          "height": 688
        },
        "id": "BCO5FsRX_lds",
        "outputId": "11fba45a-cb2e-4023-ca0c-8535cdf8f413"
      },
      "execution_count": null,
      "outputs": [
        {
          "output_type": "stream",
          "name": "stdout",
          "text": [
            "Sample Counts:\n",
            " Is_Helpful\n",
            "0    34791\n",
            "1    19052\n",
            "Name: count, dtype: int64\n",
            "\n",
            "Sample Percentage:\n",
            " Is_Helpful\n",
            "0    64.615642\n",
            "1    35.384358\n",
            "Name: proportion, dtype: float64\n"
          ]
        },
        {
          "output_type": "stream",
          "name": "stderr",
          "text": [
            "<ipython-input-37-f28573ec76df>:20: FutureWarning: \n",
            "\n",
            "Passing `palette` without assigning `hue` is deprecated and will be removed in v0.14.0. Assign the `x` variable to `hue` and set `legend=False` for the same effect.\n",
            "\n",
            "  sns.barplot(x=sample_counts.index, y=sample_counts.values, palette='viridis')\n"
          ]
        },
        {
          "output_type": "display_data",
          "data": {
            "text/plain": [
              "<Figure size 800x400 with 1 Axes>"
            ],
            "image/png": "[encoded data removed]"
          },
          "metadata": {}
        }
      ]
    },
    {
      "cell_type": "markdown",
      "source": [
        "## 2.6 Balancing Data with Undersampling"
      ],
      "metadata": {
        "id": "KBTdmUz9Jlj6"
      }
    },
    {
      "cell_type": "code",
      "source": [
        "import pandas as pd\n",
        "from imblearn.under_sampling import RandomUnderSampler\n",
        "import matplotlib.pyplot as plt\n",
        "import seaborn as sns\n",
        "\n",
        "# 初始化欠采样器\n",
        "rus = RandomUnderSampler(random_state=42)\n",
        "\n",
        "# 应用欠采样\n",
        "X_res, y_res = rus.fit_resample(df_sample.drop('Is_Helpful', axis=1), df_sample['Is_Helpful'])\n",
        "\n",
        "# 将采样后的特征和目标变量组合回DataFrame\n",
        "resampled_df = pd.DataFrame(X_res, columns=df_sample.drop('Is_Helpful', axis=1).columns)\n",
        "resampled_df['Is_Helpful'] = y_res\n",
        "\n",
        "# 计算采样后的数据分布\n",
        "sample_counts = resampled_df['Is_Helpful'].value_counts()\n",
        "sample_percentage = resampled_df['Is_Helpful'].value_counts(normalize=True) * 100\n",
        "\n",
        "# 打印结果\n",
        "print(\"Sample Counts:\\n\", sample_counts)\n",
        "print(\"\\nSample Percentage:\\n\", sample_percentage)\n",
        "\n",
        "# 可视化数据平衡情况\n",
        "plt.figure(figsize=(8, 4))\n",
        "sns.barplot(x=sample_counts.index, y=sample_counts.values, palette='viridis')\n",
        "plt.title('Distribution of Helpfulness After Resampling')\n",
        "plt.xlabel('Helpfulness (0 = Not Helpful, 1 = Helpful)')\n",
        "plt.ylabel('Number of Reviews')\n",
        "plt.xticks([0, 1], ['Not Helpful', 'Helpful'])\n",
        "plt.grid(True)\n",
        "plt.show()\n"
      ],
      "metadata": {
        "colab": {
          "base_uri": "https://localhost:8080/",
          "height": 688
        },
        "id": "hwBdkzAQMZfd",
        "outputId": "3c6cdd83-01c3-48e9-8b30-c971552f5f6d"
      },
      "execution_count": null,
      "outputs": [
        {
          "output_type": "stream",
          "name": "stdout",
          "text": [
            "Sample Counts:\n",
            " Is_Helpful\n",
            "0    19052\n",
            "1    19052\n",
            "Name: count, dtype: int64\n",
            "\n",
            "Sample Percentage:\n",
            " Is_Helpful\n",
            "0    50.0\n",
            "1    50.0\n",
            "Name: proportion, dtype: float64\n"
          ]
        },
        {
          "output_type": "stream",
          "name": "stderr",
          "text": [
            "<ipython-input-38-d724fa471e28>:26: FutureWarning: \n",
            "\n",
            "Passing `palette` without assigning `hue` is deprecated and will be removed in v0.14.0. Assign the `x` variable to `hue` and set `legend=False` for the same effect.\n",
            "\n",
            "  sns.barplot(x=sample_counts.index, y=sample_counts.values, palette='viridis')\n"
          ]
        },
        {
          "output_type": "display_data",
          "data": {
            "text/plain": [
              "<Figure size 800x400 with 1 Axes>"
            ],
            "image/png": "[encoded data removed]"
          },
          "metadata": {}
        }
      ]
    },
    {
      "cell_type": "code",
      "source": [
        "# 应用欠采样后检查数据结构和类型\n",
        "resampled_df.info()\n"
      ],
      "metadata": {
        "colab": {
          "base_uri": "https://localhost:8080/"
        },
        "id": "EYpyBpO7dBnx",
        "outputId": "ee56be9a-7134-4650-bbfa-ddb1f7794004"
      },
      "execution_count": null,
      "outputs": [
        {
          "output_type": "stream",
          "name": "stdout",
          "text": [
            "<class 'pandas.core.frame.DataFrame'>\n",
            "RangeIndex: 38104 entries, 0 to 38103\n",
            "Data columns (total 16 columns):\n",
            " #   Column          Non-Null Count  Dtype  \n",
            "---  ------          --------------  -----  \n",
            " 0   review_id       38104 non-null  object \n",
            " 1   reviewer        38104 non-null  object \n",
            " 2   movie           38104 non-null  object \n",
            " 3   rating          38104 non-null  int64  \n",
            " 4   review_summary  38104 non-null  object \n",
            " 5   review_date     38104 non-null  object \n",
            " 6   spoiler_tag     38104 non-null  bool   \n",
            " 7   review_detail   38104 non-null  object \n",
            " 8   helpful         38104 non-null  object \n",
            " 9   year            38104 non-null  object \n",
            " 10  title           38104 non-null  object \n",
            " 11  review_length   38104 non-null  int64  \n",
            " 12  helpful_votes   38104 non-null  int64  \n",
            " 13  total_votes     38104 non-null  int64  \n",
            " 14  helpful_ratio   38104 non-null  float64\n",
            " 15  Is_Helpful      38104 non-null  int64  \n",
            "dtypes: bool(1), float64(1), int64(5), object(9)\n",
            "memory usage: 4.4+ MB\n"
          ]
        }
      ]
    },
    {
      "cell_type": "markdown",
      "source": [
        "## 2.7 Split dataset"
      ],
      "metadata": {
        "id": "MTBGbmQRNFdx"
      }
    },
    {
      "cell_type": "code",
      "source": [
        "# 分割训练集和剩余部分（验证集和测试集）\n",
        "X_train, X_temp, y_train, y_temp = train_test_split(\n",
        "    resampled_df.drop('Is_Helpful', axis=1), resampled_df['Is_Helpful'],\n",
        "    test_size=0.3, stratify=resampled_df['Is_Helpful'], random_state=42)\n",
        "\n",
        "# 分割验证集和测试集\n",
        "X_val, X_test, y_val, y_test = train_test_split(\n",
        "    X_temp, y_temp,\n",
        "    test_size=0.5, stratify=y_temp, random_state=42)\n"
      ],
      "metadata": {
        "id": "4e-hR85KMgkk"
      },
      "execution_count": null,
      "outputs": []
    },
    {
      "cell_type": "code",
      "source": [
        "#check columns\n",
        "\n",
        "print(X_train.columns)\n",
        "print(X_val.columns)\n",
        "print(X_test.columns)"
      ],
      "metadata": {
        "colab": {
          "base_uri": "https://localhost:8080/"
        },
        "id": "_DPDBqFrBwIX",
        "outputId": "f69d5505-778b-42d2-8b7a-15ff85fc5d5a"
      },
      "execution_count": null,
      "outputs": [
        {
          "output_type": "stream",
          "name": "stdout",
          "text": [
            "Index(['review_id', 'reviewer', 'movie', 'rating', 'review_summary',\n",
            "       'review_date', 'spoiler_tag', 'review_detail', 'helpful', 'year',\n",
            "       'title', 'review_length', 'helpful_votes', 'total_votes',\n",
            "       'helpful_ratio'],\n",
            "      dtype='object')\n",
            "Index(['review_id', 'reviewer', 'movie', 'rating', 'review_summary',\n",
            "       'review_date', 'spoiler_tag', 'review_detail', 'helpful', 'year',\n",
            "       'title', 'review_length', 'helpful_votes', 'total_votes',\n",
            "       'helpful_ratio'],\n",
            "      dtype='object')\n",
            "Index(['review_id', 'reviewer', 'movie', 'rating', 'review_summary',\n",
            "       'review_date', 'spoiler_tag', 'review_detail', 'helpful', 'year',\n",
            "       'title', 'review_length', 'helpful_votes', 'total_votes',\n",
            "       'helpful_ratio'],\n",
            "      dtype='object')\n"
          ]
        }
      ]
    },
    {
      "cell_type": "code",
      "source": [
        "# 打印训练集中各类的数量\n",
        "train_counts = y_train.value_counts()\n",
        "print(\"Training Set Counts:\\n\", train_counts)\n",
        "\n",
        "# 打印验证集中各类的数量\n",
        "val_counts = y_val.value_counts()\n",
        "print(\"\\nValidation Set Counts:\\n\", val_counts)\n",
        "\n",
        "# 打印测试集中各类的数量\n",
        "test_counts = y_test.value_counts()\n",
        "print(\"\\nTest Set Counts:\\n\", test_counts)"
      ],
      "metadata": {
        "colab": {
          "base_uri": "https://localhost:8080/"
        },
        "id": "QqMVm8jjaakS",
        "outputId": "71814c6e-af9e-45d4-fbc1-7c9200a2d38e"
      },
      "execution_count": null,
      "outputs": [
        {
          "output_type": "stream",
          "name": "stdout",
          "text": [
            "Training Set Counts:\n",
            " Is_Helpful\n",
            "1    13336\n",
            "0    13336\n",
            "Name: count, dtype: int64\n",
            "\n",
            "Validation Set Counts:\n",
            " Is_Helpful\n",
            "0    2858\n",
            "1    2858\n",
            "Name: count, dtype: int64\n",
            "\n",
            "Test Set Counts:\n",
            " Is_Helpful\n",
            "0    2858\n",
            "1    2858\n",
            "Name: count, dtype: int64\n"
          ]
        }
      ]
    },
    {
      "cell_type": "code",
      "source": [
        "print(X_train.info())\n",
        "print(X_val.info())\n",
        "print(X_test.info())\n"
      ],
      "metadata": {
        "colab": {
          "base_uri": "https://localhost:8080/"
        },
        "id": "9P5uSq9ufcDD",
        "outputId": "e608e297-71ae-437d-a3d1-37497b183f5e"
      },
      "execution_count": null,
      "outputs": [
        {
          "output_type": "stream",
          "name": "stdout",
          "text": [
            "<class 'pandas.core.frame.DataFrame'>\n",
            "Index: 26672 entries, 27712 to 5015\n",
            "Data columns (total 15 columns):\n",
            " #   Column          Non-Null Count  Dtype  \n",
            "---  ------          --------------  -----  \n",
            " 0   review_id       26672 non-null  object \n",
            " 1   reviewer        26672 non-null  object \n",
            " 2   movie           26672 non-null  object \n",
            " 3   rating          26672 non-null  int64  \n",
            " 4   review_summary  26672 non-null  object \n",
            " 5   review_date     26672 non-null  object \n",
            " 6   spoiler_tag     26672 non-null  bool   \n",
            " 7   review_detail   26672 non-null  object \n",
            " 8   helpful         26672 non-null  object \n",
            " 9   year            26672 non-null  object \n",
            " 10  title           26672 non-null  object \n",
            " 11  review_length   26672 non-null  int64  \n",
            " 12  helpful_votes   26672 non-null  int64  \n",
            " 13  total_votes     26672 non-null  int64  \n",
            " 14  helpful_ratio   26672 non-null  float64\n",
            "dtypes: bool(1), float64(1), int64(4), object(9)\n",
            "memory usage: 3.1+ MB\n",
            "None\n",
            "<class 'pandas.core.frame.DataFrame'>\n",
            "Index: 5716 entries, 853 to 3927\n",
            "Data columns (total 15 columns):\n",
            " #   Column          Non-Null Count  Dtype  \n",
            "---  ------          --------------  -----  \n",
            " 0   review_id       5716 non-null   object \n",
            " 1   reviewer        5716 non-null   object \n",
            " 2   movie           5716 non-null   object \n",
            " 3   rating          5716 non-null   int64  \n",
            " 4   review_summary  5716 non-null   object \n",
            " 5   review_date     5716 non-null   object \n",
            " 6   spoiler_tag     5716 non-null   bool   \n",
            " 7   review_detail   5716 non-null   object \n",
            " 8   helpful         5716 non-null   object \n",
            " 9   year            5716 non-null   object \n",
            " 10  title           5716 non-null   object \n",
            " 11  review_length   5716 non-null   int64  \n",
            " 12  helpful_votes   5716 non-null   int64  \n",
            " 13  total_votes     5716 non-null   int64  \n",
            " 14  helpful_ratio   5716 non-null   float64\n",
            "dtypes: bool(1), float64(1), int64(4), object(9)\n",
            "memory usage: 675.4+ KB\n",
            "None\n",
            "<class 'pandas.core.frame.DataFrame'>\n",
            "Index: 5716 entries, 3935 to 21004\n",
            "Data columns (total 15 columns):\n",
            " #   Column          Non-Null Count  Dtype  \n",
            "---  ------          --------------  -----  \n",
            " 0   review_id       5716 non-null   object \n",
            " 1   reviewer        5716 non-null   object \n",
            " 2   movie           5716 non-null   object \n",
            " 3   rating          5716 non-null   int64  \n",
            " 4   review_summary  5716 non-null   object \n",
            " 5   review_date     5716 non-null   object \n",
            " 6   spoiler_tag     5716 non-null   bool   \n",
            " 7   review_detail   5716 non-null   object \n",
            " 8   helpful         5716 non-null   object \n",
            " 9   year            5716 non-null   object \n",
            " 10  title           5716 non-null   object \n",
            " 11  review_length   5716 non-null   int64  \n",
            " 12  helpful_votes   5716 non-null   int64  \n",
            " 13  total_votes     5716 non-null   int64  \n",
            " 14  helpful_ratio   5716 non-null   float64\n",
            "dtypes: bool(1), float64(1), int64(4), object(9)\n",
            "memory usage: 675.4+ KB\n",
            "None\n"
          ]
        }
      ]
    },
    {
      "cell_type": "code",
      "source": [
        "print(\"X_train shape:\", X_train.shape)\n",
        "print(\"y_train shape:\", y_train.shape)\n"
      ],
      "metadata": {
        "colab": {
          "base_uri": "https://localhost:8080/"
        },
        "id": "nVSvy4wucMGZ",
        "outputId": "2a62c1e4-c42f-4ccc-ba0d-e2c408cddc07"
      },
      "execution_count": null,
      "outputs": [
        {
          "output_type": "stream",
          "name": "stdout",
          "text": [
            "X_train shape: (26672, 15)\n",
            "y_train shape: (26672,)\n"
          ]
        }
      ]
    },
    {
      "cell_type": "markdown",
      "source": [
        "# 3.Feature Set Extraction"
      ],
      "metadata": {
        "id": "mKCp8iw6KYv7"
      }
    },
    {
      "cell_type": "markdown",
      "source": [
        "## 3.1 Textual& Sentiment Feature Sets"
      ],
      "metadata": {
        "id": "CwXHUkqqKg0L"
      }
    },
    {
      "cell_type": "code",
      "source": [
        "#check columns\n",
        "\n",
        "print(X_train.columns)\n",
        "print(X_val.columns)\n",
        "print(X_test.columns)\n",
        "\n"
      ],
      "metadata": {
        "colab": {
          "base_uri": "https://localhost:8080/"
        },
        "id": "TFW5KuGHdJhY",
        "outputId": "a8a9ce3b-d0cd-45bb-b0a0-52c53a1b8e48"
      },
      "execution_count": null,
      "outputs": [
        {
          "output_type": "stream",
          "name": "stdout",
          "text": [
            "Index(['review_id', 'reviewer', 'movie', 'rating', 'review_summary',\n",
            "       'review_date', 'spoiler_tag', 'review_detail', 'helpful', 'year',\n",
            "       'title', 'review_length', 'helpful_votes', 'total_votes',\n",
            "       'helpful_ratio'],\n",
            "      dtype='object')\n",
            "Index(['review_id', 'reviewer', 'movie', 'rating', 'review_summary',\n",
            "       'review_date', 'spoiler_tag', 'review_detail', 'helpful', 'year',\n",
            "       'title', 'review_length', 'helpful_votes', 'total_votes',\n",
            "       'helpful_ratio'],\n",
            "      dtype='object')\n",
            "Index(['review_id', 'reviewer', 'movie', 'rating', 'review_summary',\n",
            "       'review_date', 'spoiler_tag', 'review_detail', 'helpful', 'year',\n",
            "       'title', 'review_length', 'helpful_votes', 'total_votes',\n",
            "       'helpful_ratio'],\n",
            "      dtype='object')\n"
          ]
        }
      ]
    },
    {
      "cell_type": "code",
      "source": [
        "import nltk\n",
        "nltk.download('punkt')"
      ],
      "metadata": {
        "colab": {
          "base_uri": "https://localhost:8080/"
        },
        "id": "iRY_wr2E-oGG",
        "outputId": "331eb91e-bc52-4b4a-df4d-223d5cdae93a"
      },
      "execution_count": null,
      "outputs": [
        {
          "output_type": "stream",
          "name": "stderr",
          "text": [
            "[nltk_data] Downloading package punkt to /root/nltk_data...\n",
            "[nltk_data]   Unzipping tokenizers/punkt.zip.\n"
          ]
        },
        {
          "output_type": "execute_result",
          "data": {
            "text/plain": [
              "True"
            ]
          },
          "metadata": {},
          "execution_count": 46
        }
      ]
    },
    {
      "cell_type": "code",
      "source": [
        "from google.colab import drive\n",
        "\n",
        "# 挂载 Google Drive 到 Colab Notebook\n",
        "drive.mount('/content/drive')\n",
        "\n",
        "def preview_file(file_path, lines=5):\n",
        "    # 确保文件路径是从挂载的 Google Drive 开始的完整路径\n",
        "    with open(file_path, 'r') as file:\n",
        "        for i, line in enumerate(file):\n",
        "            print(line.strip())\n",
        "            if i >= lines - 1:\n",
        "                break\n",
        "\n",
        "# 注意更新文件路径以匹配你在 Google Drive 中的文件位置\n",
        "preview_file('/content/drive/My Drive/Colab Notebooks/vader_lexicon.txt')"
      ],
      "metadata": {
        "colab": {
          "base_uri": "https://localhost:8080/"
        },
        "id": "BQMwLfv-_vLC",
        "outputId": "df87bcf9-7551-423f-b90a-54789dad521a"
      },
      "execution_count": null,
      "outputs": [
        {
          "output_type": "stream",
          "name": "stdout",
          "text": [
            "Mounted at /content/drive\n",
            "$:\t-1.5\t0.80623\t[-1, -1, -1, -1, -3, -1, -3, -1, -2, -1]\n",
            "%)\t-0.4\t1.0198\t[-1, 0, -1, 0, 0, -2, -1, 2, -1, 0]\n",
            "%-)\t-1.5\t1.43178\t[-2, 0, -2, -2, -1, 2, -2, -3, -2, -3]\n",
            "&-:\t-0.4\t1.42829\t[-3, -1, 0, 0, -1, -1, -1, 2, -1, 2]\n",
            "&:\t-0.7\t0.64031\t[0, -1, -1, -1, 1, -1, -1, -1, -1, -1]\n"
          ]
        }
      ]
    },
    {
      "cell_type": "code",
      "source": [
        "from google.colab import drive\n",
        "\n",
        "# 挂载 Google Drive 到 Colab Notebook\n",
        "drive.mount('/content/drive')\n",
        "\n",
        "def load_vader_lexicon(file_path):\n",
        "    lexicon = {}\n",
        "    with open(file_path, 'r') as file:\n",
        "        for line in file:\n",
        "            parts = line.strip().split('\\t')  # 使用制表符进行分割\n",
        "            if len(parts) >= 2:\n",
        "                word = parts[0]  # 词或表情符号\n",
        "                measure = parts[1]  # 情绪得分\n",
        "                lexicon[word] = float(measure)\n",
        "    return lexicon\n",
        "\n",
        "# 在调用函数时提供实际的文件路径\n",
        "# 确保你的文件路径是完整的，指向 Google Drive 中的正确位置\n",
        "vader_lexicon = load_vader_lexicon('/content/drive/My Drive/Colab Notebooks/vader_lexicon.txt')\n",
        "print(\"Loaded lexicon entries:\", len(vader_lexicon))"
      ],
      "metadata": {
        "colab": {
          "base_uri": "https://localhost:8080/"
        },
        "id": "_ygYJD-0AAMO",
        "outputId": "4631bd05-59bd-4299-e6c5-b2927015c77d"
      },
      "execution_count": null,
      "outputs": [
        {
          "output_type": "stream",
          "name": "stdout",
          "text": [
            "Drive already mounted at /content/drive; to attempt to forcibly remount, call drive.mount(\"/content/drive\", force_remount=True).\n",
            "Loaded lexicon entries: 7502\n"
          ]
        }
      ]
    },
    {
      "cell_type": "code",
      "source": [
        "# 打印词典中的前10个条目来查看\n",
        "for i, (key, value) in enumerate(vader_lexicon.items()):\n",
        "    print(key, value)\n",
        "    if i >= 9:\n",
        "        break"
      ],
      "metadata": {
        "colab": {
          "base_uri": "https://localhost:8080/"
        },
        "id": "tTZdMcPsAE0Q",
        "outputId": "85f10bf6-a6ef-492d-c27b-d6741f940c29"
      },
      "execution_count": null,
      "outputs": [
        {
          "output_type": "stream",
          "name": "stdout",
          "text": [
            "$: -1.5\n",
            "%) -0.4\n",
            "%-) -1.5\n",
            "&-: -0.4\n",
            "&: -0.7\n",
            "( '}{' ) 1.6\n",
            "(% -0.9\n",
            "('-: 2.2\n",
            "(': 2.3\n",
            "((-: 2.1\n"
          ]
        }
      ]
    },
    {
      "cell_type": "code",
      "source": [
        "import pandas as pd\n",
        "import numpy as np\n",
        "from nltk.tokenize import sent_tokenize, word_tokenize\n",
        "\n",
        "# 定义文本特征提取函数\n",
        "def extract_text_features(data):\n",
        "    data = data.copy()  # 避免修改原始DataFrame\n",
        "    data['Char_Len'] = data['review_detail'].apply(len)\n",
        "    data['nWord'] = data['review_detail'].apply(lambda x: len(word_tokenize(x)))\n",
        "    data['nSen'] = data['review_detail'].apply(lambda x: len(sent_tokenize(x)))\n",
        "    data['WPS'] = data.apply(lambda row: row['nWord'] / row['nSen'] if row['nSen'] > 0 else 0, axis=1)\n",
        "    data['Avg_W_Len'] = data['review_detail'].apply(lambda x: np.mean([len(word) for word in word_tokenize(x)]) if len(word_tokenize(x)) > 0 else 0)\n",
        "    return data[['Char_Len', 'nWord', 'nSen', 'WPS', 'Avg_W_Len']]\n",
        "\n",
        "# 情绪分析功能\n",
        "def calculate_sentiment(text, lexicon):\n",
        "    words = word_tokenize(text.lower())\n",
        "    scores = {word: lexicon.get(word, 0) for word in words}\n",
        "    compound = sum(scores.values())\n",
        "    pos = sum(1 for score in scores.values() if score > 0)\n",
        "    neg = sum(1 for score in scores.values() if score < 0)\n",
        "    neu = sum(1 for score in scores.values() if score == 0)\n",
        "    total = pos + neg + neu\n",
        "    return neg, pos, neu, compound\n",
        "\n",
        "# 提取情绪特征\n",
        "def extract_sentiment_features(data, lexicon):\n",
        "    sentiment_scores = data['review_detail'].apply(lambda x: pd.Series(calculate_sentiment(x, lexicon), index=['Neg', 'Pos', 'Neu', 'Compound']))\n",
        "    return sentiment_scores\n",
        "\n",
        "# 应用文本特征提取\n",
        "X_train_text_features = extract_text_features(X_train)\n",
        "X_val_text_features = extract_text_features(X_val)\n",
        "X_test_text_features = extract_text_features(X_test)\n",
        "\n",
        "# 应用情绪特征提取\n",
        "X_train_sentiment = extract_sentiment_features(X_train, vader_lexicon)\n",
        "X_val_sentiment = extract_sentiment_features(X_val, vader_lexicon)\n",
        "X_test_sentiment = extract_sentiment_features(X_test, vader_lexicon)\n",
        "\n",
        "# 合并文本特征和情绪特征\n",
        "X_train_final = pd.concat([X_train_text_features, X_train_sentiment], axis=1)\n",
        "X_val_final = pd.concat([X_val_text_features, X_val_sentiment], axis=1)\n",
        "X_test_final = pd.concat([X_test_text_features, X_test_sentiment], axis=1)\n",
        "\n"
      ],
      "metadata": {
        "id": "MTbkb1A2-EEy"
      },
      "execution_count": null,
      "outputs": []
    },
    {
      "cell_type": "code",
      "source": [
        "# 文本+spoiler tag\n",
        "X_train_text_spoiler = pd.concat([X_train_text_features, X_train[['spoiler_tag']]], axis=1)\n",
        "X_val_text_spoiler = pd.concat([X_val_text_features, X_val[['spoiler_tag']]], axis=1)\n",
        "X_test_text_spoiler = pd.concat([X_test_text_features, X_test[['spoiler_tag']]], axis=1)\n",
        "\n",
        "# 文本+情绪+spoiler tag\n",
        "X_train_three = pd.concat([X_train_text_features, X_train_sentiment, X_train[['spoiler_tag']]], axis=1)\n",
        "X_val_three = pd.concat([X_val_text_features, X_val_sentiment, X_val[['spoiler_tag']]], axis=1)\n",
        "X_test_three = pd.concat([X_test_text_features, X_test_sentiment, X_test[['spoiler_tag']]], axis=1)\n",
        "\n"
      ],
      "metadata": {
        "id": "s-5umac-lXqj"
      },
      "execution_count": null,
      "outputs": []
    },
    {
      "cell_type": "code",
      "source": [
        "# 查看训练集的前五行\n",
        "print(\"Training set preview:\")\n",
        "print(X_train_final.head())\n",
        "\n",
        "# 查看验证集的前五行\n",
        "print(\"\\nValidation set preview:\")\n",
        "print(X_val_final.head())\n",
        "\n",
        "# 查看测试集的前五行\n",
        "print(\"\\nTest set preview:\")\n",
        "print(X_test_final.head())\n"
      ],
      "metadata": {
        "colab": {
          "base_uri": "https://localhost:8080/"
        },
        "id": "Uy0gOhYmEYX4",
        "outputId": "cf951061-3064-4089-bd96-ceb4385f824c"
      },
      "execution_count": null,
      "outputs": [
        {
          "output_type": "stream",
          "name": "stdout",
          "text": [
            "Training set preview:\n",
            "       Char_Len  nWord  nSen   WPS  Avg_W_Len   Neg  Pos    Neu  Compound\n",
            "27712       115     23     2  11.5   4.304348   0.0  2.0   18.0       4.7\n",
            "17458       607    126     6  21.0   4.007937  12.0  5.0   67.0      -6.2\n",
            "30857      1980    386    10  38.6   4.266839   9.0  8.0  180.0      -0.5\n",
            "27610       661    129     6  21.5   4.193798   1.0  6.0   83.0       9.9\n",
            "35121       425     78     3  26.0   4.589744   3.0  4.0   56.0       3.1\n",
            "\n",
            "Validation set preview:\n",
            "       Char_Len  nWord  nSen        WPS  Avg_W_Len  Neg   Pos    Neu  Compound\n",
            "853        1242    248    10  24.800000   4.185484  4.0  23.0  118.0      45.1\n",
            "23405       435     75     4  18.750000   4.906667  1.0   3.0   57.0       5.1\n",
            "855        1679    298     7  42.571429   4.761745  8.0  11.0  158.0       5.6\n",
            "23716      1003    217    14  15.500000   3.843318  1.0   5.0  102.0       4.8\n",
            "32766       626    131     4  32.750000   3.961832  4.0   7.0   79.0       4.4\n",
            "\n",
            "Test set preview:\n",
            "       Char_Len  nWord  nSen        WPS  Avg_W_Len   Neg   Pos    Neu  \\\n",
            "3935       1401    290    22  13.181818   3.958621  12.0  13.0  143.0   \n",
            "6368        811    143     2  71.500000   4.461538   7.0   4.0   89.0   \n",
            "3983        769    168     8  21.000000   3.755952   5.0   6.0   88.0   \n",
            "1759        706    152     9  16.888889   3.822368   7.0   9.0   81.0   \n",
            "30701       618    127     6  21.166667   4.000000   2.0   8.0   75.0   \n",
            "\n",
            "       Compound  \n",
            "3935        5.1  \n",
            "6368       -5.9  \n",
            "3983        2.8  \n",
            "1759        3.4  \n",
            "30701      11.7  \n"
          ]
        }
      ]
    },
    {
      "cell_type": "markdown",
      "source": [
        "## 3.2 Sentiment Feature Set(弃用，忽略）\n",
        "\n",
        "\n",
        "\n"
      ],
      "metadata": {
        "id": "RFQ-3SYgKhHF"
      }
    },
    {
      "cell_type": "code",
      "source": [
        "from google.colab import drive\n",
        "\n",
        "# 挂载 Google Drive 到 Colab Notebook\n",
        "drive.mount('/content/drive')\n",
        "\n",
        "def load_vader_lexicon(file_path):\n",
        "    lexicon = {}\n",
        "    with open(file_path, 'r') as file:\n",
        "        for line in file:\n",
        "            parts = line.strip().split('\\t')  # 使用制表符进行分割\n",
        "            if len(parts) >= 2:\n",
        "                word = parts[0]  # 词或表情符号\n",
        "                measure = parts[1]  # 情绪得分\n",
        "                lexicon[word] = float(measure)\n",
        "    return lexicon\n",
        "\n",
        "# 在调用函数时提供实际的文件路径\n",
        "# 确保你的文件路径是完整的，指向 Google Drive 中的正确位置\n",
        "vader_lexicon = load_vader_lexicon('/content/drive/My Drive/Colab Notebooks/vader_lexicon.txt')\n",
        "print(\"Loaded lexicon entries:\", len(vader_lexicon))\n"
      ],
      "metadata": {
        "colab": {
          "base_uri": "https://localhost:8080/"
        },
        "outputId": "c4afbc50-fb20-474d-925a-282e79ac255d",
        "id": "PDTA7pN4QP19"
      },
      "execution_count": null,
      "outputs": [
        {
          "output_type": "stream",
          "name": "stdout",
          "text": [
            "Drive already mounted at /content/drive; to attempt to forcibly remount, call drive.mount(\"/content/drive\", force_remount=True).\n",
            "Loaded lexicon entries: 7502\n"
          ]
        }
      ]
    },
    {
      "cell_type": "code",
      "source": [
        "# 打印词典中的前10个条目来查看\n",
        "for i, (key, value) in enumerate(vader_lexicon.items()):\n",
        "    print(key, value)\n",
        "    if i >= 9:\n",
        "        break"
      ],
      "metadata": {
        "colab": {
          "base_uri": "https://localhost:8080/"
        },
        "outputId": "8cbd3ed3-3d17-4bb1-ffeb-08f9f3cfccb9",
        "id": "PX-VwLKaQTuT"
      },
      "execution_count": null,
      "outputs": [
        {
          "output_type": "stream",
          "name": "stdout",
          "text": [
            "$: -1.5\n",
            "%) -0.4\n",
            "%-) -1.5\n",
            "&-: -0.4\n",
            "&: -0.7\n",
            "( '}{' ) 1.6\n",
            "(% -0.9\n",
            "('-: 2.2\n",
            "(': 2.3\n",
            "((-: 2.1\n"
          ]
        }
      ]
    },
    {
      "cell_type": "code",
      "source": [
        "import pandas as pd\n",
        "from nltk.tokenize import word_tokenize\n",
        "import ast\n",
        "\n",
        "# 定义一个函数来计算文本的情感\n",
        "def calculate_sentiment(text, lexicon):\n",
        "    words = word_tokenize(text.lower())\n",
        "    scores = [lexicon.get(word, 0) for word in words]\n",
        "    compound = sum(scores)\n",
        "    pos = sum(1 for score in scores if score > 0)\n",
        "    neg = sum(1 for score in scores if score < 0)\n",
        "    neu = sum(1 for score in scores if score == 0)\n",
        "    total = pos + neg + neu\n",
        "    return neg, pos, neu, compound if total else (0, 0, 0, 0)\n",
        "\n",
        "# 加载情感词典\n",
        "vader_lexicon = load_vader_lexicon('/content/drive/My Drive/Colab Notebooks/vader_lexicon.txt')\n",
        "\n",
        "# 确保review_detail列是字符串类型\n",
        "X_train['review_detail'] = X_train['review_detail'].astype(str)\n",
        "\n",
        "# 应用函数计算情感得分\n",
        "X_train[['Neg', 'Pos', 'Neu', 'Compound']] = X_train['review_detail'].apply(\n",
        "    lambda x: pd.Series(calculate_sentiment(x, vader_lexicon))\n",
        ")\n",
        "\n",
        "# 预览添加的情感特征\n",
        "print(X_train[['Neg', 'Pos', 'Neu', 'Compound']].head())\n"
      ],
      "metadata": {
        "colab": {
          "base_uri": "https://localhost:8080/"
        },
        "outputId": "e22aa90f-dcf6-44df-b40a-8d5d490eedf1",
        "id": "Utdcp2JGQZoI"
      },
      "execution_count": null,
      "outputs": [
        {
          "output_type": "stream",
          "name": "stdout",
          "text": [
            "          Neg   Pos    Neu  Compound\n",
            "1193067   2.0   0.0   53.0      -5.1\n",
            "2251117  11.0  17.0  272.0      13.9\n",
            "913054    2.0   1.0   25.0      -1.7\n",
            "4138293  10.0  16.0  232.0      13.9\n",
            "2226269   1.0  10.0   67.0      19.7\n"
          ]
        }
      ]
    },
    {
      "cell_type": "code",
      "source": [
        "# 输出情感分析结果的描述性统计\n",
        "print(X_train[['Neg', 'Pos', 'Neu', 'Compound']].describe())"
      ],
      "metadata": {
        "colab": {
          "base_uri": "https://localhost:8080/"
        },
        "id": "8COO7MDcSTY1",
        "outputId": "1ec92610-cafc-4bd8-990b-81c8d2b5a1c7"
      },
      "execution_count": null,
      "outputs": [
        {
          "output_type": "stream",
          "name": "stdout",
          "text": [
            "                Neg           Pos           Neu      Compound\n",
            "count  37690.000000  37690.000000  37690.000000  37690.000000\n",
            "mean       7.778695     12.413133    231.321305      8.271902\n",
            "std        7.915865     10.759482    205.591087     16.790396\n",
            "min        0.000000      0.000000      1.000000   -133.700000\n",
            "25%        2.000000      5.000000    108.000000     -1.100000\n",
            "50%        6.000000     10.000000    167.000000      6.200000\n",
            "75%       10.000000     16.000000    290.000000     15.800000\n",
            "max      125.000000    141.000000   3574.000000    238.600000\n"
          ]
        }
      ]
    },
    {
      "cell_type": "markdown",
      "source": [
        "# 4.Model building"
      ],
      "metadata": {
        "id": "-IOHElXTSpGE"
      }
    },
    {
      "cell_type": "markdown",
      "source": [
        "## 4.1 Logistic Regression"
      ],
      "metadata": {
        "id": "E5OcsKiYSvh9"
      }
    },
    {
      "cell_type": "markdown",
      "source": [
        "### Textual Features"
      ],
      "metadata": {
        "id": "6AjmFWmUSvvk"
      }
    },
    {
      "cell_type": "code",
      "source": [
        "print(\"X_train shape:\", X_train.shape)\n",
        "print(\"y_train shape:\", y_train.shape)\n"
      ],
      "metadata": {
        "colab": {
          "base_uri": "https://localhost:8080/"
        },
        "id": "47yMHSLSbaUj",
        "outputId": "712cb4c2-f073-452f-e09c-e4d15b0f11d4"
      },
      "execution_count": null,
      "outputs": [
        {
          "output_type": "stream",
          "name": "stdout",
          "text": [
            "X_train shape: (26672, 15)\n",
            "y_train shape: (26672,)\n"
          ]
        }
      ]
    },
    {
      "cell_type": "code",
      "source": [
        "print(\"Shape of X_train_text_features:\", X_train_text_features.shape)\n",
        "print(\"Shape of y_train:\", y_train.shape)\n"
      ],
      "metadata": {
        "colab": {
          "base_uri": "https://localhost:8080/"
        },
        "id": "2ynsesNBuKJ-",
        "outputId": "347118da-d8c9-4df3-de90-b4d8189bdf9a"
      },
      "execution_count": null,
      "outputs": [
        {
          "output_type": "stream",
          "name": "stdout",
          "text": [
            "Shape of X_train_text_features: (26672, 5)\n",
            "Shape of y_train: (26672,)\n"
          ]
        }
      ]
    },
    {
      "cell_type": "code",
      "source": [
        "print(\"X_train_text_features shape:\", X_train_text_features.shape)\n",
        "print(\"y_train shape:\", y_train.shape)\n"
      ],
      "metadata": {
        "colab": {
          "base_uri": "https://localhost:8080/"
        },
        "id": "LdCcAVeeWPUq",
        "outputId": "dc6449e9-e202-45a8-9c7d-c4e962d76d58"
      },
      "execution_count": null,
      "outputs": [
        {
          "output_type": "stream",
          "name": "stdout",
          "text": [
            "X_train_text_features shape: (26672, 5)\n",
            "y_train shape: (26672,)\n"
          ]
        }
      ]
    },
    {
      "cell_type": "code",
      "source": [
        "print(\"NA values in X_train_text_features:\", X_train_text_features.isna().sum())\n"
      ],
      "metadata": {
        "colab": {
          "base_uri": "https://localhost:8080/"
        },
        "id": "hA_sTpoqWSPZ",
        "outputId": "daec2a78-ed43-4232-c869-db9e455760c6"
      },
      "execution_count": null,
      "outputs": [
        {
          "output_type": "stream",
          "name": "stdout",
          "text": [
            "NA values in X_train_text_features: Char_Len     0\n",
            "nWord        0\n",
            "nSen         0\n",
            "WPS          0\n",
            "Avg_W_Len    0\n",
            "dtype: int64\n"
          ]
        }
      ]
    },
    {
      "cell_type": "code",
      "source": [
        "from sklearn.linear_model import LogisticRegression\n",
        "from sklearn.metrics import classification_report, accuracy_score, precision_score, recall_score, f1_score, roc_auc_score\n",
        "\n",
        "# 初始化逻辑回归模型\n",
        "modelLR = LogisticRegression(max_iter=1000)\n",
        "\n",
        "# 使用训练集训练模型\n",
        "modelLR.fit(X_train_text_features, y_train)\n",
        "\n",
        "# 训练集上的预测\n",
        "y_train_pred = modelLR.predict(X_train_text_features)\n",
        "y_train_scores = modelLR.predict_proba(X_train_text_features)[:, 1]\n",
        "\n",
        "# 使用验证集预测\n",
        "y_val_pred = modelLR.predict(X_val_text_features)\n",
        "y_val_scores = modelLR.predict_proba(X_val_text_features)[:, 1]\n",
        "\n",
        "# 使用测试集预测\n",
        "y_test_pred = modelLR.predict(X_test_text_features)\n",
        "y_test_scores = modelLR.predict_proba(X_test_text_features)[:, 1]\n",
        "\n",
        "# 打印训练集、验证集和测试集的分类报告和性能指标\n",
        "print(\"Training Set Metrics:\")\n",
        "print(classification_report(y_train, y_train_pred))\n",
        "train_accuracy = accuracy_score(y_train, y_train_pred)\n",
        "train_precision = precision_score(y_train, y_train_pred)\n",
        "train_recall = recall_score(y_train, y_train_pred)\n",
        "train_f1 = f1_score(y_train, y_train_pred)\n",
        "train_auc = roc_auc_score(y_train, y_train_scores)\n",
        "print(f\"Accuracy: {train_accuracy}\")\n",
        "print(f\"Precision: {train_precision}\")\n",
        "print(f\"Recall: {train_recall}\")\n",
        "print(f\"F1 Score: {train_f1}\")\n",
        "print(f\"AUC: {train_auc}\")\n",
        "\n",
        "print(\"\\nValidation Set Metrics:\")\n",
        "print(classification_report(y_val, y_val_pred))\n",
        "val_accuracy = accuracy_score(y_val, y_val_pred)\n",
        "val_precision = precision_score(y_val, y_val_pred)\n",
        "val_recall = recall_score(y_val, y_val_pred)\n",
        "val_f1 = f1_score(y_val, y_val_pred)\n",
        "val_auc = roc_auc_score(y_val, y_val_scores)\n",
        "print(f\"Accuracy: {val_accuracy}\")\n",
        "print(f\"Precision: {val_precision}\")\n",
        "print(f\"Recall: {val_recall}\")\n",
        "print(f\"F1 Score: {val_f1}\")\n",
        "print(f\"AUC: {val_auc}\")\n",
        "\n",
        "print(\"\\nTest Set Metrics:\")\n",
        "print(classification_report(y_test, y_test_pred))\n",
        "test_accuracy = accuracy_score(y_test, y_test_pred)\n",
        "test_precision = precision_score(y_test, y_test_pred)\n",
        "test_recall = recall_score(y_test, y_test_pred)\n",
        "test_f1 = f1_score(y_test, y_test_pred)\n",
        "test_auc = roc_auc_score(y_test, y_test_scores)\n",
        "print(f\"Accuracy: {test_accuracy}\")\n",
        "print(f\"Precision: {test_precision}\")\n",
        "print(f\"Recall: {test_recall}\")\n",
        "print(f\"F1 Score: {test_f1}\")\n",
        "print(f\"AUC: {test_auc}\")\n"
      ],
      "metadata": {
        "colab": {
          "base_uri": "https://localhost:8080/"
        },
        "id": "zY6xIjAIXrGF",
        "outputId": "5554cd04-ad50-4f07-b38d-d55ba87a8177"
      },
      "execution_count": null,
      "outputs": [
        {
          "output_type": "stream",
          "name": "stdout",
          "text": [
            "Training Set Metrics:\n",
            "              precision    recall  f1-score   support\n",
            "\n",
            "           0       0.54      0.71      0.61     13336\n",
            "           1       0.58      0.41      0.48     13336\n",
            "\n",
            "    accuracy                           0.56     26672\n",
            "   macro avg       0.56      0.56      0.55     26672\n",
            "weighted avg       0.56      0.56      0.55     26672\n",
            "\n",
            "Accuracy: 0.5581883623275345\n",
            "Precision: 0.5824129141886151\n",
            "Recall: 0.4112177564487103\n",
            "F1 Score: 0.4820675105485232\n",
            "AUC: 0.5804983012095841\n",
            "\n",
            "Validation Set Metrics:\n",
            "              precision    recall  f1-score   support\n",
            "\n",
            "           0       0.55      0.72      0.62      2858\n",
            "           1       0.60      0.41      0.49      2858\n",
            "\n",
            "    accuracy                           0.57      5716\n",
            "   macro avg       0.57      0.57      0.56      5716\n",
            "weighted avg       0.57      0.57      0.56      5716\n",
            "\n",
            "Accuracy: 0.5661301609517145\n",
            "Precision: 0.5959390862944163\n",
            "Recall: 0.410776766969909\n",
            "F1 Score: 0.4863297431648716\n",
            "AUC: 0.5883664309384582\n",
            "\n",
            "Test Set Metrics:\n",
            "              precision    recall  f1-score   support\n",
            "\n",
            "           0       0.55      0.71      0.62      2858\n",
            "           1       0.59      0.42      0.49      2858\n",
            "\n",
            "    accuracy                           0.56      5716\n",
            "   macro avg       0.57      0.56      0.55      5716\n",
            "weighted avg       0.57      0.56      0.55      5716\n",
            "\n",
            "Accuracy: 0.5636808957312807\n",
            "Precision: 0.590547263681592\n",
            "Recall: 0.4153254023792862\n",
            "F1 Score: 0.4876746096959737\n",
            "AUC: 0.5928823172502413\n"
          ]
        }
      ]
    },
    {
      "cell_type": "markdown",
      "source": [
        "###  Add Spolier tag"
      ],
      "metadata": {
        "id": "Gj2PHn8LibY6"
      }
    },
    {
      "cell_type": "code",
      "source": [
        "from sklearn.linear_model import LogisticRegression\n",
        "from sklearn.metrics import classification_report, accuracy_score, precision_score, recall_score, f1_score, roc_auc_score\n",
        "\n",
        "# 初始化逻辑回归模型\n",
        "modelLR = LogisticRegression(max_iter=1000)\n",
        "\n",
        "# 使用训练集训练模型\n",
        "modelLR.fit(X_train_text_spoiler, y_train)\n",
        "\n",
        "# 训练集上的预测\n",
        "y_train_pred = modelLR.predict(X_train_text_spoiler)\n",
        "y_train_scores = modelLR.predict_proba(X_train_text_spoiler)[:, 1]\n",
        "\n",
        "# 使用验证集预测\n",
        "y_val_pred = modelLR.predict(X_val_text_spoiler)\n",
        "y_val_scores = modelLR.predict_proba(X_val_text_spoiler)[:, 1]\n",
        "\n",
        "# 使用测试集预测\n",
        "y_test_pred = modelLR.predict(X_test_text_spoiler)\n",
        "y_test_scores = modelLR.predict_proba(X_test_text_spoiler)[:, 1]\n",
        "\n",
        "# 打印训练集、验证集和测试集的分类报告和性能指标\n",
        "print(\"Training Set Metrics:\")\n",
        "print(classification_report(y_train, y_train_pred))\n",
        "train_accuracy = accuracy_score(y_train, y_train_pred)\n",
        "train_precision = precision_score(y_train, y_train_pred)\n",
        "train_recall = recall_score(y_train, y_train_pred)\n",
        "train_f1 = f1_score(y_train, y_train_pred)\n",
        "train_auc = roc_auc_score(y_train, y_train_scores)\n",
        "print(f\"Accuracy: {train_accuracy}\")\n",
        "print(f\"Precision: {train_precision}\")\n",
        "print(f\"Recall: {train_recall}\")\n",
        "print(f\"F1 Score: {train_f1}\")\n",
        "print(f\"AUC: {train_auc}\")\n",
        "\n",
        "print(\"\\nValidation Set Metrics:\")\n",
        "print(classification_report(y_val, y_val_pred))\n",
        "val_accuracy = accuracy_score(y_val, y_val_pred)\n",
        "val_precision = precision_score(y_val, y_val_pred)\n",
        "val_recall = recall_score(y_val, y_val_pred)\n",
        "val_f1 = f1_score(y_val, y_val_pred)\n",
        "val_auc = roc_auc_score(y_val, y_val_scores)\n",
        "print(f\"Accuracy: {val_accuracy}\")\n",
        "print(f\"Precision: {val_precision}\")\n",
        "print(f\"Recall: {val_recall}\")\n",
        "print(f\"F1 Score: {val_f1}\")\n",
        "print(f\"AUC: {val_auc}\")\n",
        "\n",
        "print(\"\\nTest Set Metrics:\")\n",
        "print(classification_report(y_test, y_test_pred))\n",
        "test_accuracy = accuracy_score(y_test, y_test_pred)\n",
        "test_precision = precision_score(y_test, y_test_pred)\n",
        "test_recall = recall_score(y_test, y_test_pred)\n",
        "test_f1 = f1_score(y_test, y_test_pred)\n",
        "test_auc = roc_auc_score(y_test, y_test_scores)\n",
        "print(f\"Accuracy: {test_accuracy}\")\n",
        "print(f\"Precision: {test_precision}\")\n",
        "print(f\"Recall: {test_recall}\")\n",
        "print(f\"F1 Score: {test_f1}\")\n",
        "print(f\"AUC: {test_auc}\")\n",
        "\n"
      ],
      "metadata": {
        "colab": {
          "base_uri": "https://localhost:8080/"
        },
        "id": "XBx2Z2RwjbXt",
        "outputId": "bb0bebcc-d087-42f5-b336-9b99364e3fbe"
      },
      "execution_count": null,
      "outputs": [
        {
          "output_type": "stream",
          "name": "stdout",
          "text": [
            "Training Set Metrics:\n",
            "              precision    recall  f1-score   support\n",
            "\n",
            "           0       0.56      0.64      0.60     13336\n",
            "           1       0.58      0.51      0.54     13336\n",
            "\n",
            "    accuracy                           0.57     26672\n",
            "   macro avg       0.57      0.57      0.57     26672\n",
            "weighted avg       0.57      0.57      0.57     26672\n",
            "\n",
            "Accuracy: 0.5728104379124175\n",
            "Precision: 0.5840838240387946\n",
            "Recall: 0.5057738452309538\n",
            "F1 Score: 0.5421154155280501\n",
            "AUC: 0.5934272035065092\n",
            "\n",
            "Validation Set Metrics:\n",
            "              precision    recall  f1-score   support\n",
            "\n",
            "           0       0.57      0.65      0.61      2858\n",
            "           1       0.59      0.50      0.54      2858\n",
            "\n",
            "    accuracy                           0.58      5716\n",
            "   macro avg       0.58      0.58      0.57      5716\n",
            "weighted avg       0.58      0.58      0.57      5716\n",
            "\n",
            "Accuracy: 0.5769769069279216\n",
            "Precision: 0.5900163666121113\n",
            "Recall: 0.5045486354093772\n",
            "F1 Score: 0.5439456808751415\n",
            "AUC: 0.6034018783168409\n",
            "\n",
            "Test Set Metrics:\n",
            "              precision    recall  f1-score   support\n",
            "\n",
            "           0       0.56      0.64      0.60      2858\n",
            "           1       0.58      0.51      0.54      2858\n",
            "\n",
            "    accuracy                           0.57      5716\n",
            "   macro avg       0.57      0.57      0.57      5716\n",
            "weighted avg       0.57      0.57      0.57      5716\n",
            "\n",
            "Accuracy: 0.5731280615815255\n",
            "Precision: 0.5837339743589743\n",
            "Recall: 0.5097970608817355\n",
            "F1 Score: 0.5442659693686962\n",
            "AUC: 0.5965110396901923\n"
          ]
        }
      ]
    },
    {
      "cell_type": "markdown",
      "source": [
        "### Add Sentiment Features"
      ],
      "metadata": {
        "id": "5MXGcWe4TYTb"
      }
    },
    {
      "cell_type": "code",
      "source": [
        "from sklearn.linear_model import LogisticRegression\n",
        "from sklearn.metrics import classification_report, accuracy_score, precision_score, recall_score, f1_score, roc_auc_score\n",
        "\n",
        "# 初始化逻辑回归模型\n",
        "modelLR = LogisticRegression(max_iter=1000)\n",
        "\n",
        "# 使用包含文本特征、情绪和spoiler标签的训练集训练模型\n",
        "modelLR.fit(X_train_three, y_train)\n",
        "\n",
        "# 训练集上的预测\n",
        "y_train_pred = modelLR.predict(X_train_three)\n",
        "y_train_scores = modelLR.predict_proba(X_train_three)[:, 1]\n",
        "\n",
        "# 使用验证集预测\n",
        "y_val_pred = modelLR.predict(X_val_three)\n",
        "y_val_scores = modelLR.predict_proba(X_val_three)[:, 1]\n",
        "\n",
        "# 使用测试集预测\n",
        "y_test_pred = modelLR.predict(X_test_three)\n",
        "y_test_scores = modelLR.predict_proba(X_test_three)[:, 1]\n",
        "\n",
        "# 打印训练集、验证集和测试集的分类报告和性能指标\n",
        "print(\"Training Set Metrics:\")\n",
        "print(classification_report(y_train, y_train_pred))\n",
        "train_accuracy = accuracy_score(y_train, y_train_pred)\n",
        "train_precision = precision_score(y_train, y_train_pred)\n",
        "train_recall = recall_score(y_train, y_train_pred)\n",
        "train_f1 = f1_score(y_train, y_train_pred)\n",
        "train_auc = roc_auc_score(y_train, y_train_scores)\n",
        "print(f\"Accuracy: {train_accuracy}\")\n",
        "print(f\"Precision: {train_precision}\")\n",
        "print(f\"Recall: {train_recall}\")\n",
        "print(f\"F1 Score: {train_f1}\")\n",
        "print(f\"AUC: {train_auc}\")\n",
        "\n",
        "print(\"\\nValidation Set Metrics:\")\n",
        "print(classification_report(y_val, y_val_pred))\n",
        "val_accuracy = accuracy_score(y_val, y_val_pred)\n",
        "val_precision = precision_score(y_val, y_val_pred)\n",
        "val_recall = recall_score(y_val, y_val_pred)\n",
        "val_f1 = f1_score(y_val, y_val_pred)\n",
        "val_auc = roc_auc_score(y_val, y_val_scores)\n",
        "print(f\"Accuracy: {val_accuracy}\")\n",
        "print(f\"Precision: {val_precision}\")\n",
        "print(f\"Recall: {val_recall}\")\n",
        "print(f\"F1 Score: {val_f1}\")\n",
        "print(f\"AUC: {val_auc}\")\n",
        "\n",
        "print(\"\\nTest Set Metrics:\")\n",
        "print(classification_report(y_test, y_test_pred))\n",
        "test_accuracy = accuracy_score(y_test, y_test_pred)\n",
        "test_precision = precision_score(y_test, y_test_pred)\n",
        "test_recall = recall_score(y_test, y_test_pred)\n",
        "test_f1 = f1_score(y_test, y_test_pred)\n",
        "test_auc = roc_auc_score(y_test, y_test_scores)\n",
        "print(f\"Accuracy: {test_accuracy}\")\n",
        "print(f\"Precision: {test_precision}\")\n",
        "print(f\"Recall: {test_recall}\")\n",
        "print(f\"F1 Score: {test_f1}\")\n",
        "print(f\"AUC: {test_auc}\")\n"
      ],
      "metadata": {
        "colab": {
          "base_uri": "https://localhost:8080/"
        },
        "id": "Dhn4ECm_bBRF",
        "outputId": "f7446fc9-77a2-41ca-8d4c-5206eab8e7d8"
      },
      "execution_count": null,
      "outputs": [
        {
          "output_type": "stream",
          "name": "stdout",
          "text": [
            "Training Set Metrics:\n",
            "              precision    recall  f1-score   support\n",
            "\n",
            "           0       0.59      0.63      0.61     13336\n",
            "           1       0.60      0.56      0.58     13336\n",
            "\n",
            "    accuracy                           0.59     26672\n",
            "   macro avg       0.59      0.59      0.59     26672\n",
            "weighted avg       0.59      0.59      0.59     26672\n",
            "\n",
            "Accuracy: 0.5933563287342531\n",
            "Precision: 0.6005329457364341\n",
            "Recall: 0.5576634673065387\n",
            "F1 Score: 0.5783048211508552\n",
            "AUC: 0.6198338110572247\n",
            "\n",
            "Validation Set Metrics:\n",
            "              precision    recall  f1-score   support\n",
            "\n",
            "           0       0.60      0.65      0.62      2858\n",
            "           1       0.62      0.56      0.59      2858\n",
            "\n",
            "    accuracy                           0.61      5716\n",
            "   macro avg       0.61      0.61      0.60      5716\n",
            "weighted avg       0.61      0.61      0.60      5716\n",
            "\n",
            "Accuracy: 0.605668299510147\n",
            "Precision: 0.61579754601227\n",
            "Recall: 0.5619314205738278\n",
            "F1 Score: 0.5876326381266007\n",
            "AUC: 0.6385845093218011\n",
            "\n",
            "Test Set Metrics:\n",
            "              precision    recall  f1-score   support\n",
            "\n",
            "           0       0.60      0.63      0.61      2858\n",
            "           1       0.61      0.57      0.59      2858\n",
            "\n",
            "    accuracy                           0.60      5716\n",
            "   macro avg       0.60      0.60      0.60      5716\n",
            "weighted avg       0.60      0.60      0.60      5716\n",
            "\n",
            "Accuracy: 0.6019944016794961\n",
            "Precision: 0.6090534979423868\n",
            "Recall: 0.56962911126662\n",
            "F1 Score: 0.5886819743265232\n",
            "AUC: 0.626485584765438\n"
          ]
        }
      ]
    },
    {
      "cell_type": "markdown",
      "source": [
        "## 4.2 SVM"
      ],
      "metadata": {
        "id": "1oVuAnonSv9e"
      }
    },
    {
      "cell_type": "markdown",
      "source": [
        "### Textual Features"
      ],
      "metadata": {
        "id": "XYUhIfHPTD9s"
      }
    },
    {
      "cell_type": "code",
      "source": [
        "from sklearn.svm import SVC\n",
        "from sklearn.metrics import classification_report, accuracy_score, precision_score, recall_score, f1_score, roc_auc_score\n",
        "\n",
        "# 初始化SVM模型\n",
        "modelSVM = SVC(kernel='linear', probability=True, max_iter=1000)\n",
        "\n",
        "# 使用训练集训练模型\n",
        "modelSVM.fit(X_train_text_features, y_train)\n",
        "\n",
        "# 训练集上的预测\n",
        "y_train_pred = modelSVM.predict(X_train_text_features)\n",
        "y_train_scores = modelSVM.predict_proba(X_train_text_features)[:, 1]\n",
        "\n",
        "# 使用验证集预测\n",
        "y_val_pred = modelSVM.predict(X_val_text_features)\n",
        "y_val_scores = modelSVM.predict_proba(X_val_text_features)[:, 1]\n",
        "\n",
        "# 使用测试集预测\n",
        "y_test_pred = modelSVM.predict(X_test_text_features)\n",
        "y_test_scores = modelSVM.predict_proba(X_test_text_features)[:, 1]\n",
        "\n",
        "# 打印训练集、验证集和测试集的分类报告和性能指标\n",
        "print(\"Training Set Metrics:\")\n",
        "print(classification_report(y_train, y_train_pred))\n",
        "train_accuracy = accuracy_score(y_train, y_train_pred)\n",
        "train_precision = precision_score(y_train, y_train_pred)\n",
        "train_recall = recall_score(y_train, y_train_pred)\n",
        "train_f1 = f1_score(y_train, y_train_pred)\n",
        "train_auc = roc_auc_score(y_train, y_train_scores)\n",
        "print(f\"Accuracy: {train_accuracy}\")\n",
        "print(f\"Precision: {train_precision}\")\n",
        "print(f\"Recall: {train_recall}\")\n",
        "print(f\"F1 Score: {train_f1}\")\n",
        "print(f\"AUC: {train_auc}\")\n",
        "\n",
        "print(\"\\nValidation Set Metrics:\")\n",
        "print(classification_report(y_val, y_val_pred))\n",
        "val_accuracy = accuracy_score(y_val, y_val_pred)\n",
        "val_precision = precision_score(y_val, y_val_pred)\n",
        "val_recall = recall_score(y_val, y_val_pred)\n",
        "val_f1 = f1_score(y_val, y_val_pred)\n",
        "val_auc = roc_auc_score(y_val, y_val_scores)\n",
        "print(f\"Accuracy: {val_accuracy}\")\n",
        "print(f\"Precision: {val_precision}\")\n",
        "print(f\"Recall: {val_recall}\")\n",
        "print(f\"F1 Score: {val_f1}\")\n",
        "print(f\"AUC: {val_auc}\")\n",
        "\n",
        "print(\"\\nTest Set Metrics:\")\n",
        "print(classification_report(y_test, y_test_pred))\n",
        "test_accuracy = accuracy_score(y_test, y_test_pred)\n",
        "test_precision = precision_score(y_test, y_test_pred)\n",
        "test_recall = recall_score(y_test, y_test_pred)\n",
        "test_f1 = f1_score(y_test, y_test_pred)\n",
        "test_auc = roc_auc_score(y_test, y_test_scores)\n",
        "print(f\"Accuracy: {test_accuracy}\")\n",
        "print(f\"Precision: {test_precision}\")\n",
        "print(f\"Recall: {test_recall}\")\n",
        "print(f\"F1 Score: {test_f1}\")\n",
        "print(f\"AUC: {test_auc}\")\n"
      ],
      "metadata": {
        "colab": {
          "base_uri": "https://localhost:8080/"
        },
        "id": "rPtCSNAtrApf",
        "outputId": "6cd58e42-10fe-43e8-8b48-626d47280bd9"
      },
      "execution_count": null,
      "outputs": [
        {
          "output_type": "stream",
          "name": "stderr",
          "text": [
            "/usr/local/lib/python3.10/dist-packages/sklearn/svm/_base.py:299: ConvergenceWarning: Solver terminated early (max_iter=1000).  Consider pre-processing your data with StandardScaler or MinMaxScaler.\n",
            "  warnings.warn(\n"
          ]
        },
        {
          "output_type": "stream",
          "name": "stdout",
          "text": [
            "Training Set Metrics:\n",
            "              precision    recall  f1-score   support\n",
            "\n",
            "           0       0.51      0.85      0.64     13336\n",
            "           1       0.57      0.20      0.29     13336\n",
            "\n",
            "    accuracy                           0.52     26672\n",
            "   macro avg       0.54      0.52      0.47     26672\n",
            "weighted avg       0.54      0.52      0.47     26672\n",
            "\n",
            "Accuracy: 0.5241451709658068\n",
            "Precision: 0.569396551724138\n",
            "Recall: 0.1981103779244151\n",
            "F1 Score: 0.29394748553627054\n",
            "AUC: 0.5\n",
            "\n",
            "Validation Set Metrics:\n",
            "              precision    recall  f1-score   support\n",
            "\n",
            "           0       0.52      0.86      0.65      2858\n",
            "           1       0.59      0.20      0.30      2858\n",
            "\n",
            "    accuracy                           0.53      5716\n",
            "   macro avg       0.56      0.53      0.47      5716\n",
            "weighted avg       0.56      0.53      0.47      5716\n",
            "\n",
            "Accuracy: 0.5313156053184045\n",
            "Precision: 0.5914198161389173\n",
            "Recall: 0.20258922323303008\n",
            "F1 Score: 0.3017982799061767\n",
            "AUC: 0.5\n",
            "\n",
            "Test Set Metrics:\n",
            "              precision    recall  f1-score   support\n",
            "\n",
            "           0       0.52      0.86      0.65      2858\n",
            "           1       0.59      0.21      0.31      2858\n",
            "\n",
            "    accuracy                           0.53      5716\n",
            "   macro avg       0.56      0.53      0.48      5716\n",
            "weighted avg       0.56      0.53      0.48      5716\n",
            "\n",
            "Accuracy: 0.5332400279916025\n",
            "Precision: 0.5946215139442231\n",
            "Recall: 0.20888733379986005\n",
            "F1 Score: 0.3091662351113413\n",
            "AUC: 0.5\n"
          ]
        }
      ]
    },
    {
      "cell_type": "code",
      "source": [
        "from sklearn.svm import SVC\n",
        "from sklearn.model_selection import GridSearchCV\n",
        "from sklearn.metrics import classification_report, accuracy_score, precision_score, recall_score, f1_score, roc_auc_score\n",
        "\n",
        "# Define the parameter grid: try different kernels and, for the RBF kernel, various values of C and gamma\n",
        "param_grid = {\n",
        "    'kernel': ['linear', 'rbf', 'poly'],  # different kernel types\n",
        "    'C': [0.1, 1, 10],  # regularization parameter\n",
        "    'gamma': [0.001, 0.01, 0.1, 1]  # kernel coefficient for 'rbf', 'poly'\n",
        "}\n",
        "\n",
        "# Initialize the SVM model\n",
        "modelSVM = SVC(probability=True, max_iter=1000)\n",
        "\n",
        "# Setup the grid search with cross-validation\n",
        "grid_search = GridSearchCV(modelSVM, param_grid, cv=3, scoring='accuracy', verbose=2)\n",
        "\n",
        "# Fit the grid search to the data\n",
        "grid_search.fit(X_train_text_features, y_train)\n",
        "\n",
        "# Best estimator found by grid search\n",
        "best_svm = grid_search.best_estimator_\n",
        "\n",
        "# Predictions with the best estimator\n",
        "y_train_pred = best_svm.predict(X_train_text_features)\n",
        "y_train_scores = best_svm.predict_proba(X_train_text_features)[:, 1]\n",
        "y_val_pred = best_svm.predict(X_val_text_features)\n",
        "y_val_scores = best_svm.predict_proba(X_val_text_features)[:, 1]\n",
        "y_test_pred = best_svm.predict(X_test_text_features)\n",
        "y_test_scores = best_svm.predict_proba(X_test_text_features)[:, 1]\n",
        "\n",
        "# Print the best parameters and the metrics\n",
        "print(\"Best Parameters:\", grid_search.best_params_)\n",
        "print(\"Training Set Metrics:\")\n",
        "print(classification_report(y_train, y_train_pred))\n",
        "train_accuracy = accuracy_score(y_train, y_train_pred)\n",
        "train_precision = precision_score(y_train, y_train_pred)\n",
        "train_recall = recall_score(y_train, y_train_pred)\n",
        "train_f1 = f1_score(y_train, y_train_pred)\n",
        "train_auc = roc_auc_score(y_train, y_train_scores)\n",
        "print(f\"Accuracy: {train_accuracy}, Precision: {train_precision}, Recall: {train_recall}, F1 Score: {train_f1}, AUC: {train_auc}\")\n",
        "\n",
        "print(\"\\nValidation Set Metrics:\")\n",
        "print(classification_report(y_val, y_val_pred))\n",
        "val_accuracy = accuracy_score(y_val, y_val_pred)\n",
        "val_precision = precision_score(y_val, y_val_pred)\n",
        "val_recall = recall_score(y_val, y_val_pred)\n",
        "val_f1 = f1_score(y_val, y_val_pred)\n",
        "val_auc = roc_auc_score(y_val, y_val_scores)\n",
        "print(f\"Accuracy: {val_accuracy}, Precision: {val_precision}, Recall: {val_recall}, F1 Score: {val_f1}, AUC: {val_auc}\")\n",
        "\n",
        "print(\"\\nTest Set Metrics:\")\n",
        "print(classification_report(y_test, y_test_pred))\n",
        "test_accuracy = accuracy_score(y_test, y_test_pred)\n",
        "test_precision = precision_score(y_test, y_test_pred)\n",
        "test_recall = recall_score(y_test, y_test_pred)\n",
        "test_f1 = f1_score(y_test, y_test_pred)\n",
        "test_auc = roc_auc_score(y_test, y_test_scores)\n",
        "print(f\"Accuracy: {test_accuracy}, Precision: {test_precision}, Recall: {test_recall}, F1 Score: {test_f1}, AUC: {test_auc}\")\n"
      ],
      "metadata": {
        "colab": {
          "base_uri": "https://localhost:8080/"
        },
        "id": "ZyOLh8zZvTV9",
        "outputId": "be4a0e6d-d594-454c-8b7f-b17ae26a593a"
      },
      "execution_count": null,
      "outputs": [
        {
          "output_type": "stream",
          "name": "stdout",
          "text": [
            "Fitting 3 folds for each of 36 candidates, totalling 108 fits\n"
          ]
        },
        {
          "output_type": "stream",
          "name": "stderr",
          "text": [
            "/usr/local/lib/python3.10/dist-packages/sklearn/svm/_base.py:299: ConvergenceWarning: Solver terminated early (max_iter=1000).  Consider pre-processing your data with StandardScaler or MinMaxScaler.\n",
            "  warnings.warn(\n"
          ]
        },
        {
          "output_type": "stream",
          "name": "stdout",
          "text": [
            "[CV] END ..................C=0.1, gamma=0.001, kernel=linear; total time=   1.7s\n"
          ]
        },
        {
          "output_type": "stream",
          "name": "stderr",
          "text": [
            "/usr/local/lib/python3.10/dist-packages/sklearn/svm/_base.py:299: ConvergenceWarning: Solver terminated early (max_iter=1000).  Consider pre-processing your data with StandardScaler or MinMaxScaler.\n",
            "  warnings.warn(\n"
          ]
        },
        {
          "output_type": "stream",
          "name": "stdout",
          "text": [
            "[CV] END ..................C=0.1, gamma=0.001, kernel=linear; total time=   1.8s\n"
          ]
        },
        {
          "output_type": "stream",
          "name": "stderr",
          "text": [
            "/usr/local/lib/python3.10/dist-packages/sklearn/svm/_base.py:299: ConvergenceWarning: Solver terminated early (max_iter=1000).  Consider pre-processing your data with StandardScaler or MinMaxScaler.\n",
            "  warnings.warn(\n"
          ]
        },
        {
          "output_type": "stream",
          "name": "stdout",
          "text": [
            "[CV] END ..................C=0.1, gamma=0.001, kernel=linear; total time=   1.8s\n"
          ]
        },
        {
          "output_type": "stream",
          "name": "stderr",
          "text": [
            "/usr/local/lib/python3.10/dist-packages/sklearn/svm/_base.py:299: ConvergenceWarning: Solver terminated early (max_iter=1000).  Consider pre-processing your data with StandardScaler or MinMaxScaler.\n",
            "  warnings.warn(\n"
          ]
        },
        {
          "output_type": "stream",
          "name": "stdout",
          "text": [
            "[CV] END .....................C=0.1, gamma=0.001, kernel=rbf; total time=  12.1s\n"
          ]
        },
        {
          "output_type": "stream",
          "name": "stderr",
          "text": [
            "/usr/local/lib/python3.10/dist-packages/sklearn/svm/_base.py:299: ConvergenceWarning: Solver terminated early (max_iter=1000).  Consider pre-processing your data with StandardScaler or MinMaxScaler.\n",
            "  warnings.warn(\n"
          ]
        },
        {
          "output_type": "stream",
          "name": "stdout",
          "text": [
            "[CV] END .....................C=0.1, gamma=0.001, kernel=rbf; total time=  11.4s\n"
          ]
        },
        {
          "output_type": "stream",
          "name": "stderr",
          "text": [
            "/usr/local/lib/python3.10/dist-packages/sklearn/svm/_base.py:299: ConvergenceWarning: Solver terminated early (max_iter=1000).  Consider pre-processing your data with StandardScaler or MinMaxScaler.\n",
            "  warnings.warn(\n"
          ]
        },
        {
          "output_type": "stream",
          "name": "stdout",
          "text": [
            "[CV] END .....................C=0.1, gamma=0.001, kernel=rbf; total time=  11.7s\n"
          ]
        },
        {
          "output_type": "stream",
          "name": "stderr",
          "text": [
            "/usr/local/lib/python3.10/dist-packages/sklearn/svm/_base.py:299: ConvergenceWarning: Solver terminated early (max_iter=1000).  Consider pre-processing your data with StandardScaler or MinMaxScaler.\n",
            "  warnings.warn(\n"
          ]
        },
        {
          "output_type": "stream",
          "name": "stdout",
          "text": [
            "[CV] END ....................C=0.1, gamma=0.001, kernel=poly; total time=   2.0s\n"
          ]
        },
        {
          "output_type": "stream",
          "name": "stderr",
          "text": [
            "/usr/local/lib/python3.10/dist-packages/sklearn/svm/_base.py:299: ConvergenceWarning: Solver terminated early (max_iter=1000).  Consider pre-processing your data with StandardScaler or MinMaxScaler.\n",
            "  warnings.warn(\n"
          ]
        },
        {
          "output_type": "stream",
          "name": "stdout",
          "text": [
            "[CV] END ....................C=0.1, gamma=0.001, kernel=poly; total time=   2.1s\n"
          ]
        },
        {
          "output_type": "stream",
          "name": "stderr",
          "text": [
            "/usr/local/lib/python3.10/dist-packages/sklearn/svm/_base.py:299: ConvergenceWarning: Solver terminated early (max_iter=1000).  Consider pre-processing your data with StandardScaler or MinMaxScaler.\n",
            "  warnings.warn(\n"
          ]
        },
        {
          "output_type": "stream",
          "name": "stdout",
          "text": [
            "[CV] END ....................C=0.1, gamma=0.001, kernel=poly; total time=   2.1s\n"
          ]
        },
        {
          "output_type": "stream",
          "name": "stderr",
          "text": [
            "/usr/local/lib/python3.10/dist-packages/sklearn/svm/_base.py:299: ConvergenceWarning: Solver terminated early (max_iter=1000).  Consider pre-processing your data with StandardScaler or MinMaxScaler.\n",
            "  warnings.warn(\n"
          ]
        },
        {
          "output_type": "stream",
          "name": "stdout",
          "text": [
            "[CV] END ...................C=0.1, gamma=0.01, kernel=linear; total time=   1.7s\n"
          ]
        },
        {
          "output_type": "stream",
          "name": "stderr",
          "text": [
            "/usr/local/lib/python3.10/dist-packages/sklearn/svm/_base.py:299: ConvergenceWarning: Solver terminated early (max_iter=1000).  Consider pre-processing your data with StandardScaler or MinMaxScaler.\n",
            "  warnings.warn(\n"
          ]
        },
        {
          "output_type": "stream",
          "name": "stdout",
          "text": [
            "[CV] END ...................C=0.1, gamma=0.01, kernel=linear; total time=   1.8s\n"
          ]
        },
        {
          "output_type": "stream",
          "name": "stderr",
          "text": [
            "/usr/local/lib/python3.10/dist-packages/sklearn/svm/_base.py:299: ConvergenceWarning: Solver terminated early (max_iter=1000).  Consider pre-processing your data with StandardScaler or MinMaxScaler.\n",
            "  warnings.warn(\n"
          ]
        },
        {
          "output_type": "stream",
          "name": "stdout",
          "text": [
            "[CV] END ...................C=0.1, gamma=0.01, kernel=linear; total time=   1.8s\n"
          ]
        },
        {
          "output_type": "stream",
          "name": "stderr",
          "text": [
            "/usr/local/lib/python3.10/dist-packages/sklearn/svm/_base.py:299: ConvergenceWarning: Solver terminated early (max_iter=1000).  Consider pre-processing your data with StandardScaler or MinMaxScaler.\n",
            "  warnings.warn(\n"
          ]
        },
        {
          "output_type": "stream",
          "name": "stdout",
          "text": [
            "[CV] END ......................C=0.1, gamma=0.01, kernel=rbf; total time=  11.2s\n"
          ]
        },
        {
          "output_type": "stream",
          "name": "stderr",
          "text": [
            "/usr/local/lib/python3.10/dist-packages/sklearn/svm/_base.py:299: ConvergenceWarning: Solver terminated early (max_iter=1000).  Consider pre-processing your data with StandardScaler or MinMaxScaler.\n",
            "  warnings.warn(\n"
          ]
        },
        {
          "output_type": "stream",
          "name": "stdout",
          "text": [
            "[CV] END ......................C=0.1, gamma=0.01, kernel=rbf; total time=  11.1s\n"
          ]
        },
        {
          "output_type": "stream",
          "name": "stderr",
          "text": [
            "/usr/local/lib/python3.10/dist-packages/sklearn/svm/_base.py:299: ConvergenceWarning: Solver terminated early (max_iter=1000).  Consider pre-processing your data with StandardScaler or MinMaxScaler.\n",
            "  warnings.warn(\n"
          ]
        },
        {
          "output_type": "stream",
          "name": "stdout",
          "text": [
            "[CV] END ......................C=0.1, gamma=0.01, kernel=rbf; total time=  11.2s\n"
          ]
        },
        {
          "output_type": "stream",
          "name": "stderr",
          "text": [
            "/usr/local/lib/python3.10/dist-packages/sklearn/svm/_base.py:299: ConvergenceWarning: Solver terminated early (max_iter=1000).  Consider pre-processing your data with StandardScaler or MinMaxScaler.\n",
            "  warnings.warn(\n"
          ]
        },
        {
          "output_type": "stream",
          "name": "stdout",
          "text": [
            "[CV] END .....................C=0.1, gamma=0.01, kernel=poly; total time=   1.1s\n"
          ]
        },
        {
          "output_type": "stream",
          "name": "stderr",
          "text": [
            "/usr/local/lib/python3.10/dist-packages/sklearn/svm/_base.py:299: ConvergenceWarning: Solver terminated early (max_iter=1000).  Consider pre-processing your data with StandardScaler or MinMaxScaler.\n",
            "  warnings.warn(\n"
          ]
        },
        {
          "output_type": "stream",
          "name": "stdout",
          "text": [
            "[CV] END .....................C=0.1, gamma=0.01, kernel=poly; total time=   1.0s\n"
          ]
        },
        {
          "output_type": "stream",
          "name": "stderr",
          "text": [
            "/usr/local/lib/python3.10/dist-packages/sklearn/svm/_base.py:299: ConvergenceWarning: Solver terminated early (max_iter=1000).  Consider pre-processing your data with StandardScaler or MinMaxScaler.\n",
            "  warnings.warn(\n"
          ]
        },
        {
          "output_type": "stream",
          "name": "stdout",
          "text": [
            "[CV] END .....................C=0.1, gamma=0.01, kernel=poly; total time=   0.9s\n"
          ]
        },
        {
          "output_type": "stream",
          "name": "stderr",
          "text": [
            "/usr/local/lib/python3.10/dist-packages/sklearn/svm/_base.py:299: ConvergenceWarning: Solver terminated early (max_iter=1000).  Consider pre-processing your data with StandardScaler or MinMaxScaler.\n",
            "  warnings.warn(\n"
          ]
        },
        {
          "output_type": "stream",
          "name": "stdout",
          "text": [
            "[CV] END ....................C=0.1, gamma=0.1, kernel=linear; total time=   1.7s\n"
          ]
        },
        {
          "output_type": "stream",
          "name": "stderr",
          "text": [
            "/usr/local/lib/python3.10/dist-packages/sklearn/svm/_base.py:299: ConvergenceWarning: Solver terminated early (max_iter=1000).  Consider pre-processing your data with StandardScaler or MinMaxScaler.\n",
            "  warnings.warn(\n"
          ]
        },
        {
          "output_type": "stream",
          "name": "stdout",
          "text": [
            "[CV] END ....................C=0.1, gamma=0.1, kernel=linear; total time=   1.9s\n"
          ]
        },
        {
          "output_type": "stream",
          "name": "stderr",
          "text": [
            "/usr/local/lib/python3.10/dist-packages/sklearn/svm/_base.py:299: ConvergenceWarning: Solver terminated early (max_iter=1000).  Consider pre-processing your data with StandardScaler or MinMaxScaler.\n",
            "  warnings.warn(\n"
          ]
        },
        {
          "output_type": "stream",
          "name": "stdout",
          "text": [
            "[CV] END ....................C=0.1, gamma=0.1, kernel=linear; total time=   1.8s\n"
          ]
        },
        {
          "output_type": "stream",
          "name": "stderr",
          "text": [
            "/usr/local/lib/python3.10/dist-packages/sklearn/svm/_base.py:299: ConvergenceWarning: Solver terminated early (max_iter=1000).  Consider pre-processing your data with StandardScaler or MinMaxScaler.\n",
            "  warnings.warn(\n"
          ]
        },
        {
          "output_type": "stream",
          "name": "stdout",
          "text": [
            "[CV] END .......................C=0.1, gamma=0.1, kernel=rbf; total time=  10.2s\n"
          ]
        },
        {
          "output_type": "stream",
          "name": "stderr",
          "text": [
            "/usr/local/lib/python3.10/dist-packages/sklearn/svm/_base.py:299: ConvergenceWarning: Solver terminated early (max_iter=1000).  Consider pre-processing your data with StandardScaler or MinMaxScaler.\n",
            "  warnings.warn(\n"
          ]
        },
        {
          "output_type": "stream",
          "name": "stdout",
          "text": [
            "[CV] END .......................C=0.1, gamma=0.1, kernel=rbf; total time=  10.0s\n"
          ]
        },
        {
          "output_type": "stream",
          "name": "stderr",
          "text": [
            "/usr/local/lib/python3.10/dist-packages/sklearn/svm/_base.py:299: ConvergenceWarning: Solver terminated early (max_iter=1000).  Consider pre-processing your data with StandardScaler or MinMaxScaler.\n",
            "  warnings.warn(\n"
          ]
        },
        {
          "output_type": "stream",
          "name": "stdout",
          "text": [
            "[CV] END .......................C=0.1, gamma=0.1, kernel=rbf; total time=  10.0s\n"
          ]
        },
        {
          "output_type": "stream",
          "name": "stderr",
          "text": [
            "/usr/local/lib/python3.10/dist-packages/sklearn/svm/_base.py:299: ConvergenceWarning: Solver terminated early (max_iter=1000).  Consider pre-processing your data with StandardScaler or MinMaxScaler.\n",
            "  warnings.warn(\n"
          ]
        },
        {
          "output_type": "stream",
          "name": "stdout",
          "text": [
            "[CV] END ......................C=0.1, gamma=0.1, kernel=poly; total time=   1.1s\n"
          ]
        },
        {
          "output_type": "stream",
          "name": "stderr",
          "text": [
            "/usr/local/lib/python3.10/dist-packages/sklearn/svm/_base.py:299: ConvergenceWarning: Solver terminated early (max_iter=1000).  Consider pre-processing your data with StandardScaler or MinMaxScaler.\n",
            "  warnings.warn(\n"
          ]
        },
        {
          "output_type": "stream",
          "name": "stdout",
          "text": [
            "[CV] END ......................C=0.1, gamma=0.1, kernel=poly; total time=   1.0s\n"
          ]
        },
        {
          "output_type": "stream",
          "name": "stderr",
          "text": [
            "/usr/local/lib/python3.10/dist-packages/sklearn/svm/_base.py:299: ConvergenceWarning: Solver terminated early (max_iter=1000).  Consider pre-processing your data with StandardScaler or MinMaxScaler.\n",
            "  warnings.warn(\n"
          ]
        },
        {
          "output_type": "stream",
          "name": "stdout",
          "text": [
            "[CV] END ......................C=0.1, gamma=0.1, kernel=poly; total time=   0.9s\n"
          ]
        },
        {
          "output_type": "stream",
          "name": "stderr",
          "text": [
            "/usr/local/lib/python3.10/dist-packages/sklearn/svm/_base.py:299: ConvergenceWarning: Solver terminated early (max_iter=1000).  Consider pre-processing your data with StandardScaler or MinMaxScaler.\n",
            "  warnings.warn(\n"
          ]
        },
        {
          "output_type": "stream",
          "name": "stdout",
          "text": [
            "[CV] END ......................C=0.1, gamma=1, kernel=linear; total time=   1.7s\n"
          ]
        },
        {
          "output_type": "stream",
          "name": "stderr",
          "text": [
            "/usr/local/lib/python3.10/dist-packages/sklearn/svm/_base.py:299: ConvergenceWarning: Solver terminated early (max_iter=1000).  Consider pre-processing your data with StandardScaler or MinMaxScaler.\n",
            "  warnings.warn(\n"
          ]
        },
        {
          "output_type": "stream",
          "name": "stdout",
          "text": [
            "[CV] END ......................C=0.1, gamma=1, kernel=linear; total time=   1.9s\n"
          ]
        },
        {
          "output_type": "stream",
          "name": "stderr",
          "text": [
            "/usr/local/lib/python3.10/dist-packages/sklearn/svm/_base.py:299: ConvergenceWarning: Solver terminated early (max_iter=1000).  Consider pre-processing your data with StandardScaler or MinMaxScaler.\n",
            "  warnings.warn(\n"
          ]
        },
        {
          "output_type": "stream",
          "name": "stdout",
          "text": [
            "[CV] END ......................C=0.1, gamma=1, kernel=linear; total time=   1.8s\n"
          ]
        },
        {
          "output_type": "stream",
          "name": "stderr",
          "text": [
            "/usr/local/lib/python3.10/dist-packages/sklearn/svm/_base.py:299: ConvergenceWarning: Solver terminated early (max_iter=1000).  Consider pre-processing your data with StandardScaler or MinMaxScaler.\n",
            "  warnings.warn(\n"
          ]
        },
        {
          "output_type": "stream",
          "name": "stdout",
          "text": [
            "[CV] END .........................C=0.1, gamma=1, kernel=rbf; total time=   9.8s\n"
          ]
        },
        {
          "output_type": "stream",
          "name": "stderr",
          "text": [
            "/usr/local/lib/python3.10/dist-packages/sklearn/svm/_base.py:299: ConvergenceWarning: Solver terminated early (max_iter=1000).  Consider pre-processing your data with StandardScaler or MinMaxScaler.\n",
            "  warnings.warn(\n"
          ]
        },
        {
          "output_type": "stream",
          "name": "stdout",
          "text": [
            "[CV] END .........................C=0.1, gamma=1, kernel=rbf; total time=   9.8s\n"
          ]
        },
        {
          "output_type": "stream",
          "name": "stderr",
          "text": [
            "/usr/local/lib/python3.10/dist-packages/sklearn/svm/_base.py:299: ConvergenceWarning: Solver terminated early (max_iter=1000).  Consider pre-processing your data with StandardScaler or MinMaxScaler.\n",
            "  warnings.warn(\n"
          ]
        },
        {
          "output_type": "stream",
          "name": "stdout",
          "text": [
            "[CV] END .........................C=0.1, gamma=1, kernel=rbf; total time=   9.9s\n"
          ]
        },
        {
          "output_type": "stream",
          "name": "stderr",
          "text": [
            "/usr/local/lib/python3.10/dist-packages/sklearn/svm/_base.py:299: ConvergenceWarning: Solver terminated early (max_iter=1000).  Consider pre-processing your data with StandardScaler or MinMaxScaler.\n",
            "  warnings.warn(\n"
          ]
        },
        {
          "output_type": "stream",
          "name": "stdout",
          "text": [
            "[CV] END ........................C=0.1, gamma=1, kernel=poly; total time=   1.1s\n"
          ]
        },
        {
          "output_type": "stream",
          "name": "stderr",
          "text": [
            "/usr/local/lib/python3.10/dist-packages/sklearn/svm/_base.py:299: ConvergenceWarning: Solver terminated early (max_iter=1000).  Consider pre-processing your data with StandardScaler or MinMaxScaler.\n",
            "  warnings.warn(\n"
          ]
        },
        {
          "output_type": "stream",
          "name": "stdout",
          "text": [
            "[CV] END ........................C=0.1, gamma=1, kernel=poly; total time=   1.0s\n"
          ]
        },
        {
          "output_type": "stream",
          "name": "stderr",
          "text": [
            "/usr/local/lib/python3.10/dist-packages/sklearn/svm/_base.py:299: ConvergenceWarning: Solver terminated early (max_iter=1000).  Consider pre-processing your data with StandardScaler or MinMaxScaler.\n",
            "  warnings.warn(\n"
          ]
        },
        {
          "output_type": "stream",
          "name": "stdout",
          "text": [
            "[CV] END ........................C=0.1, gamma=1, kernel=poly; total time=   0.9s\n"
          ]
        },
        {
          "output_type": "stream",
          "name": "stderr",
          "text": [
            "/usr/local/lib/python3.10/dist-packages/sklearn/svm/_base.py:299: ConvergenceWarning: Solver terminated early (max_iter=1000).  Consider pre-processing your data with StandardScaler or MinMaxScaler.\n",
            "  warnings.warn(\n"
          ]
        },
        {
          "output_type": "stream",
          "name": "stdout",
          "text": [
            "[CV] END ....................C=1, gamma=0.001, kernel=linear; total time=   1.2s\n"
          ]
        },
        {
          "output_type": "stream",
          "name": "stderr",
          "text": [
            "/usr/local/lib/python3.10/dist-packages/sklearn/svm/_base.py:299: ConvergenceWarning: Solver terminated early (max_iter=1000).  Consider pre-processing your data with StandardScaler or MinMaxScaler.\n",
            "  warnings.warn(\n"
          ]
        },
        {
          "output_type": "stream",
          "name": "stdout",
          "text": [
            "[CV] END ....................C=1, gamma=0.001, kernel=linear; total time=   1.1s\n"
          ]
        },
        {
          "output_type": "stream",
          "name": "stderr",
          "text": [
            "/usr/local/lib/python3.10/dist-packages/sklearn/svm/_base.py:299: ConvergenceWarning: Solver terminated early (max_iter=1000).  Consider pre-processing your data with StandardScaler or MinMaxScaler.\n",
            "  warnings.warn(\n"
          ]
        },
        {
          "output_type": "stream",
          "name": "stdout",
          "text": [
            "[CV] END ....................C=1, gamma=0.001, kernel=linear; total time=   1.2s\n"
          ]
        },
        {
          "output_type": "stream",
          "name": "stderr",
          "text": [
            "/usr/local/lib/python3.10/dist-packages/sklearn/svm/_base.py:299: ConvergenceWarning: Solver terminated early (max_iter=1000).  Consider pre-processing your data with StandardScaler or MinMaxScaler.\n",
            "  warnings.warn(\n"
          ]
        },
        {
          "output_type": "stream",
          "name": "stdout",
          "text": [
            "[CV] END .......................C=1, gamma=0.001, kernel=rbf; total time=  11.5s\n"
          ]
        },
        {
          "output_type": "stream",
          "name": "stderr",
          "text": [
            "/usr/local/lib/python3.10/dist-packages/sklearn/svm/_base.py:299: ConvergenceWarning: Solver terminated early (max_iter=1000).  Consider pre-processing your data with StandardScaler or MinMaxScaler.\n",
            "  warnings.warn(\n"
          ]
        },
        {
          "output_type": "stream",
          "name": "stdout",
          "text": [
            "[CV] END .......................C=1, gamma=0.001, kernel=rbf; total time=  11.9s\n"
          ]
        },
        {
          "output_type": "stream",
          "name": "stderr",
          "text": [
            "/usr/local/lib/python3.10/dist-packages/sklearn/svm/_base.py:299: ConvergenceWarning: Solver terminated early (max_iter=1000).  Consider pre-processing your data with StandardScaler or MinMaxScaler.\n",
            "  warnings.warn(\n"
          ]
        },
        {
          "output_type": "stream",
          "name": "stdout",
          "text": [
            "[CV] END .......................C=1, gamma=0.001, kernel=rbf; total time=  11.3s\n"
          ]
        },
        {
          "output_type": "stream",
          "name": "stderr",
          "text": [
            "/usr/local/lib/python3.10/dist-packages/sklearn/svm/_base.py:299: ConvergenceWarning: Solver terminated early (max_iter=1000).  Consider pre-processing your data with StandardScaler or MinMaxScaler.\n",
            "  warnings.warn(\n"
          ]
        },
        {
          "output_type": "stream",
          "name": "stdout",
          "text": [
            "[CV] END ......................C=1, gamma=0.001, kernel=poly; total time=   1.6s\n"
          ]
        },
        {
          "output_type": "stream",
          "name": "stderr",
          "text": [
            "/usr/local/lib/python3.10/dist-packages/sklearn/svm/_base.py:299: ConvergenceWarning: Solver terminated early (max_iter=1000).  Consider pre-processing your data with StandardScaler or MinMaxScaler.\n",
            "  warnings.warn(\n"
          ]
        },
        {
          "output_type": "stream",
          "name": "stdout",
          "text": [
            "[CV] END ......................C=1, gamma=0.001, kernel=poly; total time=   1.6s\n"
          ]
        },
        {
          "output_type": "stream",
          "name": "stderr",
          "text": [
            "/usr/local/lib/python3.10/dist-packages/sklearn/svm/_base.py:299: ConvergenceWarning: Solver terminated early (max_iter=1000).  Consider pre-processing your data with StandardScaler or MinMaxScaler.\n",
            "  warnings.warn(\n"
          ]
        },
        {
          "output_type": "stream",
          "name": "stdout",
          "text": [
            "[CV] END ......................C=1, gamma=0.001, kernel=poly; total time=   1.6s\n"
          ]
        },
        {
          "output_type": "stream",
          "name": "stderr",
          "text": [
            "/usr/local/lib/python3.10/dist-packages/sklearn/svm/_base.py:299: ConvergenceWarning: Solver terminated early (max_iter=1000).  Consider pre-processing your data with StandardScaler or MinMaxScaler.\n",
            "  warnings.warn(\n"
          ]
        },
        {
          "output_type": "stream",
          "name": "stdout",
          "text": [
            "[CV] END .....................C=1, gamma=0.01, kernel=linear; total time=   1.1s\n"
          ]
        },
        {
          "output_type": "stream",
          "name": "stderr",
          "text": [
            "/usr/local/lib/python3.10/dist-packages/sklearn/svm/_base.py:299: ConvergenceWarning: Solver terminated early (max_iter=1000).  Consider pre-processing your data with StandardScaler or MinMaxScaler.\n",
            "  warnings.warn(\n"
          ]
        },
        {
          "output_type": "stream",
          "name": "stdout",
          "text": [
            "[CV] END .....................C=1, gamma=0.01, kernel=linear; total time=   1.1s\n"
          ]
        },
        {
          "output_type": "stream",
          "name": "stderr",
          "text": [
            "/usr/local/lib/python3.10/dist-packages/sklearn/svm/_base.py:299: ConvergenceWarning: Solver terminated early (max_iter=1000).  Consider pre-processing your data with StandardScaler or MinMaxScaler.\n",
            "  warnings.warn(\n"
          ]
        },
        {
          "output_type": "stream",
          "name": "stdout",
          "text": [
            "[CV] END .....................C=1, gamma=0.01, kernel=linear; total time=   1.2s\n"
          ]
        },
        {
          "output_type": "stream",
          "name": "stderr",
          "text": [
            "/usr/local/lib/python3.10/dist-packages/sklearn/svm/_base.py:299: ConvergenceWarning: Solver terminated early (max_iter=1000).  Consider pre-processing your data with StandardScaler or MinMaxScaler.\n",
            "  warnings.warn(\n"
          ]
        },
        {
          "output_type": "stream",
          "name": "stdout",
          "text": [
            "[CV] END ........................C=1, gamma=0.01, kernel=rbf; total time=  11.3s\n"
          ]
        },
        {
          "output_type": "stream",
          "name": "stderr",
          "text": [
            "/usr/local/lib/python3.10/dist-packages/sklearn/svm/_base.py:299: ConvergenceWarning: Solver terminated early (max_iter=1000).  Consider pre-processing your data with StandardScaler or MinMaxScaler.\n",
            "  warnings.warn(\n"
          ]
        },
        {
          "output_type": "stream",
          "name": "stdout",
          "text": [
            "[CV] END ........................C=1, gamma=0.01, kernel=rbf; total time=  11.0s\n"
          ]
        },
        {
          "output_type": "stream",
          "name": "stderr",
          "text": [
            "/usr/local/lib/python3.10/dist-packages/sklearn/svm/_base.py:299: ConvergenceWarning: Solver terminated early (max_iter=1000).  Consider pre-processing your data with StandardScaler or MinMaxScaler.\n",
            "  warnings.warn(\n"
          ]
        },
        {
          "output_type": "stream",
          "name": "stdout",
          "text": [
            "[CV] END ........................C=1, gamma=0.01, kernel=rbf; total time=  10.7s\n"
          ]
        },
        {
          "output_type": "stream",
          "name": "stderr",
          "text": [
            "/usr/local/lib/python3.10/dist-packages/sklearn/svm/_base.py:299: ConvergenceWarning: Solver terminated early (max_iter=1000).  Consider pre-processing your data with StandardScaler or MinMaxScaler.\n",
            "  warnings.warn(\n"
          ]
        },
        {
          "output_type": "stream",
          "name": "stdout",
          "text": [
            "[CV] END .......................C=1, gamma=0.01, kernel=poly; total time=   1.0s\n"
          ]
        },
        {
          "output_type": "stream",
          "name": "stderr",
          "text": [
            "/usr/local/lib/python3.10/dist-packages/sklearn/svm/_base.py:299: ConvergenceWarning: Solver terminated early (max_iter=1000).  Consider pre-processing your data with StandardScaler or MinMaxScaler.\n",
            "  warnings.warn(\n"
          ]
        },
        {
          "output_type": "stream",
          "name": "stdout",
          "text": [
            "[CV] END .......................C=1, gamma=0.01, kernel=poly; total time=   1.1s\n"
          ]
        },
        {
          "output_type": "stream",
          "name": "stderr",
          "text": [
            "/usr/local/lib/python3.10/dist-packages/sklearn/svm/_base.py:299: ConvergenceWarning: Solver terminated early (max_iter=1000).  Consider pre-processing your data with StandardScaler or MinMaxScaler.\n",
            "  warnings.warn(\n"
          ]
        },
        {
          "output_type": "stream",
          "name": "stdout",
          "text": [
            "[CV] END .......................C=1, gamma=0.01, kernel=poly; total time=   0.9s\n"
          ]
        },
        {
          "output_type": "stream",
          "name": "stderr",
          "text": [
            "/usr/local/lib/python3.10/dist-packages/sklearn/svm/_base.py:299: ConvergenceWarning: Solver terminated early (max_iter=1000).  Consider pre-processing your data with StandardScaler or MinMaxScaler.\n",
            "  warnings.warn(\n"
          ]
        },
        {
          "output_type": "stream",
          "name": "stdout",
          "text": [
            "[CV] END ......................C=1, gamma=0.1, kernel=linear; total time=   1.2s\n"
          ]
        },
        {
          "output_type": "stream",
          "name": "stderr",
          "text": [
            "/usr/local/lib/python3.10/dist-packages/sklearn/svm/_base.py:299: ConvergenceWarning: Solver terminated early (max_iter=1000).  Consider pre-processing your data with StandardScaler or MinMaxScaler.\n",
            "  warnings.warn(\n"
          ]
        },
        {
          "output_type": "stream",
          "name": "stdout",
          "text": [
            "[CV] END ......................C=1, gamma=0.1, kernel=linear; total time=   1.1s\n"
          ]
        },
        {
          "output_type": "stream",
          "name": "stderr",
          "text": [
            "/usr/local/lib/python3.10/dist-packages/sklearn/svm/_base.py:299: ConvergenceWarning: Solver terminated early (max_iter=1000).  Consider pre-processing your data with StandardScaler or MinMaxScaler.\n",
            "  warnings.warn(\n"
          ]
        },
        {
          "output_type": "stream",
          "name": "stdout",
          "text": [
            "[CV] END ......................C=1, gamma=0.1, kernel=linear; total time=   1.2s\n"
          ]
        },
        {
          "output_type": "stream",
          "name": "stderr",
          "text": [
            "/usr/local/lib/python3.10/dist-packages/sklearn/svm/_base.py:299: ConvergenceWarning: Solver terminated early (max_iter=1000).  Consider pre-processing your data with StandardScaler or MinMaxScaler.\n",
            "  warnings.warn(\n"
          ]
        },
        {
          "output_type": "stream",
          "name": "stdout",
          "text": [
            "[CV] END .........................C=1, gamma=0.1, kernel=rbf; total time=  10.3s\n"
          ]
        },
        {
          "output_type": "stream",
          "name": "stderr",
          "text": [
            "/usr/local/lib/python3.10/dist-packages/sklearn/svm/_base.py:299: ConvergenceWarning: Solver terminated early (max_iter=1000).  Consider pre-processing your data with StandardScaler or MinMaxScaler.\n",
            "  warnings.warn(\n"
          ]
        },
        {
          "output_type": "stream",
          "name": "stdout",
          "text": [
            "[CV] END .........................C=1, gamma=0.1, kernel=rbf; total time=  10.1s\n"
          ]
        },
        {
          "output_type": "stream",
          "name": "stderr",
          "text": [
            "/usr/local/lib/python3.10/dist-packages/sklearn/svm/_base.py:299: ConvergenceWarning: Solver terminated early (max_iter=1000).  Consider pre-processing your data with StandardScaler or MinMaxScaler.\n",
            "  warnings.warn(\n"
          ]
        },
        {
          "output_type": "stream",
          "name": "stdout",
          "text": [
            "[CV] END .........................C=1, gamma=0.1, kernel=rbf; total time=  10.3s\n"
          ]
        },
        {
          "output_type": "stream",
          "name": "stderr",
          "text": [
            "/usr/local/lib/python3.10/dist-packages/sklearn/svm/_base.py:299: ConvergenceWarning: Solver terminated early (max_iter=1000).  Consider pre-processing your data with StandardScaler or MinMaxScaler.\n",
            "  warnings.warn(\n"
          ]
        },
        {
          "output_type": "stream",
          "name": "stdout",
          "text": [
            "[CV] END ........................C=1, gamma=0.1, kernel=poly; total time=   1.1s\n"
          ]
        },
        {
          "output_type": "stream",
          "name": "stderr",
          "text": [
            "/usr/local/lib/python3.10/dist-packages/sklearn/svm/_base.py:299: ConvergenceWarning: Solver terminated early (max_iter=1000).  Consider pre-processing your data with StandardScaler or MinMaxScaler.\n",
            "  warnings.warn(\n"
          ]
        },
        {
          "output_type": "stream",
          "name": "stdout",
          "text": [
            "[CV] END ........................C=1, gamma=0.1, kernel=poly; total time=   1.2s\n"
          ]
        },
        {
          "output_type": "stream",
          "name": "stderr",
          "text": [
            "/usr/local/lib/python3.10/dist-packages/sklearn/svm/_base.py:299: ConvergenceWarning: Solver terminated early (max_iter=1000).  Consider pre-processing your data with StandardScaler or MinMaxScaler.\n",
            "  warnings.warn(\n"
          ]
        },
        {
          "output_type": "stream",
          "name": "stdout",
          "text": [
            "[CV] END ........................C=1, gamma=0.1, kernel=poly; total time=   1.0s\n"
          ]
        },
        {
          "output_type": "stream",
          "name": "stderr",
          "text": [
            "/usr/local/lib/python3.10/dist-packages/sklearn/svm/_base.py:299: ConvergenceWarning: Solver terminated early (max_iter=1000).  Consider pre-processing your data with StandardScaler or MinMaxScaler.\n",
            "  warnings.warn(\n"
          ]
        },
        {
          "output_type": "stream",
          "name": "stdout",
          "text": [
            "[CV] END ........................C=1, gamma=1, kernel=linear; total time=   1.1s\n"
          ]
        },
        {
          "output_type": "stream",
          "name": "stderr",
          "text": [
            "/usr/local/lib/python3.10/dist-packages/sklearn/svm/_base.py:299: ConvergenceWarning: Solver terminated early (max_iter=1000).  Consider pre-processing your data with StandardScaler or MinMaxScaler.\n",
            "  warnings.warn(\n"
          ]
        },
        {
          "output_type": "stream",
          "name": "stdout",
          "text": [
            "[CV] END ........................C=1, gamma=1, kernel=linear; total time=   1.1s\n"
          ]
        },
        {
          "output_type": "stream",
          "name": "stderr",
          "text": [
            "/usr/local/lib/python3.10/dist-packages/sklearn/svm/_base.py:299: ConvergenceWarning: Solver terminated early (max_iter=1000).  Consider pre-processing your data with StandardScaler or MinMaxScaler.\n",
            "  warnings.warn(\n"
          ]
        },
        {
          "output_type": "stream",
          "name": "stdout",
          "text": [
            "[CV] END ........................C=1, gamma=1, kernel=linear; total time=   1.2s\n"
          ]
        },
        {
          "output_type": "stream",
          "name": "stderr",
          "text": [
            "/usr/local/lib/python3.10/dist-packages/sklearn/svm/_base.py:299: ConvergenceWarning: Solver terminated early (max_iter=1000).  Consider pre-processing your data with StandardScaler or MinMaxScaler.\n",
            "  warnings.warn(\n"
          ]
        },
        {
          "output_type": "stream",
          "name": "stdout",
          "text": [
            "[CV] END ...........................C=1, gamma=1, kernel=rbf; total time=   9.8s\n"
          ]
        },
        {
          "output_type": "stream",
          "name": "stderr",
          "text": [
            "/usr/local/lib/python3.10/dist-packages/sklearn/svm/_base.py:299: ConvergenceWarning: Solver terminated early (max_iter=1000).  Consider pre-processing your data with StandardScaler or MinMaxScaler.\n",
            "  warnings.warn(\n"
          ]
        },
        {
          "output_type": "stream",
          "name": "stdout",
          "text": [
            "[CV] END ...........................C=1, gamma=1, kernel=rbf; total time=   9.8s\n"
          ]
        },
        {
          "output_type": "stream",
          "name": "stderr",
          "text": [
            "/usr/local/lib/python3.10/dist-packages/sklearn/svm/_base.py:299: ConvergenceWarning: Solver terminated early (max_iter=1000).  Consider pre-processing your data with StandardScaler or MinMaxScaler.\n",
            "  warnings.warn(\n"
          ]
        },
        {
          "output_type": "stream",
          "name": "stdout",
          "text": [
            "[CV] END ...........................C=1, gamma=1, kernel=rbf; total time=   9.8s\n"
          ]
        },
        {
          "output_type": "stream",
          "name": "stderr",
          "text": [
            "/usr/local/lib/python3.10/dist-packages/sklearn/svm/_base.py:299: ConvergenceWarning: Solver terminated early (max_iter=1000).  Consider pre-processing your data with StandardScaler or MinMaxScaler.\n",
            "  warnings.warn(\n"
          ]
        },
        {
          "output_type": "stream",
          "name": "stdout",
          "text": [
            "[CV] END ..........................C=1, gamma=1, kernel=poly; total time=   1.1s\n"
          ]
        },
        {
          "output_type": "stream",
          "name": "stderr",
          "text": [
            "/usr/local/lib/python3.10/dist-packages/sklearn/svm/_base.py:299: ConvergenceWarning: Solver terminated early (max_iter=1000).  Consider pre-processing your data with StandardScaler or MinMaxScaler.\n",
            "  warnings.warn(\n"
          ]
        },
        {
          "output_type": "stream",
          "name": "stdout",
          "text": [
            "[CV] END ..........................C=1, gamma=1, kernel=poly; total time=   1.0s\n"
          ]
        },
        {
          "output_type": "stream",
          "name": "stderr",
          "text": [
            "/usr/local/lib/python3.10/dist-packages/sklearn/svm/_base.py:299: ConvergenceWarning: Solver terminated early (max_iter=1000).  Consider pre-processing your data with StandardScaler or MinMaxScaler.\n",
            "  warnings.warn(\n"
          ]
        },
        {
          "output_type": "stream",
          "name": "stdout",
          "text": [
            "[CV] END ..........................C=1, gamma=1, kernel=poly; total time=   0.7s\n"
          ]
        },
        {
          "output_type": "stream",
          "name": "stderr",
          "text": [
            "/usr/local/lib/python3.10/dist-packages/sklearn/svm/_base.py:299: ConvergenceWarning: Solver terminated early (max_iter=1000).  Consider pre-processing your data with StandardScaler or MinMaxScaler.\n",
            "  warnings.warn(\n"
          ]
        },
        {
          "output_type": "stream",
          "name": "stdout",
          "text": [
            "[CV] END ...................C=10, gamma=0.001, kernel=linear; total time=   0.7s\n"
          ]
        },
        {
          "output_type": "stream",
          "name": "stderr",
          "text": [
            "/usr/local/lib/python3.10/dist-packages/sklearn/svm/_base.py:299: ConvergenceWarning: Solver terminated early (max_iter=1000).  Consider pre-processing your data with StandardScaler or MinMaxScaler.\n",
            "  warnings.warn(\n"
          ]
        },
        {
          "output_type": "stream",
          "name": "stdout",
          "text": [
            "[CV] END ...................C=10, gamma=0.001, kernel=linear; total time=   0.7s\n"
          ]
        },
        {
          "output_type": "stream",
          "name": "stderr",
          "text": [
            "/usr/local/lib/python3.10/dist-packages/sklearn/svm/_base.py:299: ConvergenceWarning: Solver terminated early (max_iter=1000).  Consider pre-processing your data with StandardScaler or MinMaxScaler.\n",
            "  warnings.warn(\n"
          ]
        },
        {
          "output_type": "stream",
          "name": "stdout",
          "text": [
            "[CV] END ...................C=10, gamma=0.001, kernel=linear; total time=   0.7s\n"
          ]
        },
        {
          "output_type": "stream",
          "name": "stderr",
          "text": [
            "/usr/local/lib/python3.10/dist-packages/sklearn/svm/_base.py:299: ConvergenceWarning: Solver terminated early (max_iter=1000).  Consider pre-processing your data with StandardScaler or MinMaxScaler.\n",
            "  warnings.warn(\n"
          ]
        },
        {
          "output_type": "stream",
          "name": "stdout",
          "text": [
            "[CV] END ......................C=10, gamma=0.001, kernel=rbf; total time=  11.4s\n"
          ]
        },
        {
          "output_type": "stream",
          "name": "stderr",
          "text": [
            "/usr/local/lib/python3.10/dist-packages/sklearn/svm/_base.py:299: ConvergenceWarning: Solver terminated early (max_iter=1000).  Consider pre-processing your data with StandardScaler or MinMaxScaler.\n",
            "  warnings.warn(\n"
          ]
        },
        {
          "output_type": "stream",
          "name": "stdout",
          "text": [
            "[CV] END ......................C=10, gamma=0.001, kernel=rbf; total time=   9.8s\n"
          ]
        },
        {
          "output_type": "stream",
          "name": "stderr",
          "text": [
            "/usr/local/lib/python3.10/dist-packages/sklearn/svm/_base.py:299: ConvergenceWarning: Solver terminated early (max_iter=1000).  Consider pre-processing your data with StandardScaler or MinMaxScaler.\n",
            "  warnings.warn(\n"
          ]
        },
        {
          "output_type": "stream",
          "name": "stdout",
          "text": [
            "[CV] END ......................C=10, gamma=0.001, kernel=rbf; total time=  10.1s\n"
          ]
        },
        {
          "output_type": "stream",
          "name": "stderr",
          "text": [
            "/usr/local/lib/python3.10/dist-packages/sklearn/svm/_base.py:299: ConvergenceWarning: Solver terminated early (max_iter=1000).  Consider pre-processing your data with StandardScaler or MinMaxScaler.\n",
            "  warnings.warn(\n"
          ]
        },
        {
          "output_type": "stream",
          "name": "stdout",
          "text": [
            "[CV] END .....................C=10, gamma=0.001, kernel=poly; total time=   1.3s\n"
          ]
        },
        {
          "output_type": "stream",
          "name": "stderr",
          "text": [
            "/usr/local/lib/python3.10/dist-packages/sklearn/svm/_base.py:299: ConvergenceWarning: Solver terminated early (max_iter=1000).  Consider pre-processing your data with StandardScaler or MinMaxScaler.\n",
            "  warnings.warn(\n"
          ]
        },
        {
          "output_type": "stream",
          "name": "stdout",
          "text": [
            "[CV] END .....................C=10, gamma=0.001, kernel=poly; total time=   1.2s\n"
          ]
        },
        {
          "output_type": "stream",
          "name": "stderr",
          "text": [
            "/usr/local/lib/python3.10/dist-packages/sklearn/svm/_base.py:299: ConvergenceWarning: Solver terminated early (max_iter=1000).  Consider pre-processing your data with StandardScaler or MinMaxScaler.\n",
            "  warnings.warn(\n"
          ]
        },
        {
          "output_type": "stream",
          "name": "stdout",
          "text": [
            "[CV] END .....................C=10, gamma=0.001, kernel=poly; total time=   1.3s\n"
          ]
        },
        {
          "output_type": "stream",
          "name": "stderr",
          "text": [
            "/usr/local/lib/python3.10/dist-packages/sklearn/svm/_base.py:299: ConvergenceWarning: Solver terminated early (max_iter=1000).  Consider pre-processing your data with StandardScaler or MinMaxScaler.\n",
            "  warnings.warn(\n"
          ]
        },
        {
          "output_type": "stream",
          "name": "stdout",
          "text": [
            "[CV] END ....................C=10, gamma=0.01, kernel=linear; total time=   0.7s\n"
          ]
        },
        {
          "output_type": "stream",
          "name": "stderr",
          "text": [
            "/usr/local/lib/python3.10/dist-packages/sklearn/svm/_base.py:299: ConvergenceWarning: Solver terminated early (max_iter=1000).  Consider pre-processing your data with StandardScaler or MinMaxScaler.\n",
            "  warnings.warn(\n"
          ]
        },
        {
          "output_type": "stream",
          "name": "stdout",
          "text": [
            "[CV] END ....................C=10, gamma=0.01, kernel=linear; total time=   0.6s\n"
          ]
        },
        {
          "output_type": "stream",
          "name": "stderr",
          "text": [
            "/usr/local/lib/python3.10/dist-packages/sklearn/svm/_base.py:299: ConvergenceWarning: Solver terminated early (max_iter=1000).  Consider pre-processing your data with StandardScaler or MinMaxScaler.\n",
            "  warnings.warn(\n"
          ]
        },
        {
          "output_type": "stream",
          "name": "stdout",
          "text": [
            "[CV] END ....................C=10, gamma=0.01, kernel=linear; total time=   0.7s\n"
          ]
        },
        {
          "output_type": "stream",
          "name": "stderr",
          "text": [
            "/usr/local/lib/python3.10/dist-packages/sklearn/svm/_base.py:299: ConvergenceWarning: Solver terminated early (max_iter=1000).  Consider pre-processing your data with StandardScaler or MinMaxScaler.\n",
            "  warnings.warn(\n"
          ]
        },
        {
          "output_type": "stream",
          "name": "stdout",
          "text": [
            "[CV] END .......................C=10, gamma=0.01, kernel=rbf; total time=   8.2s\n"
          ]
        },
        {
          "output_type": "stream",
          "name": "stderr",
          "text": [
            "/usr/local/lib/python3.10/dist-packages/sklearn/svm/_base.py:299: ConvergenceWarning: Solver terminated early (max_iter=1000).  Consider pre-processing your data with StandardScaler or MinMaxScaler.\n",
            "  warnings.warn(\n"
          ]
        },
        {
          "output_type": "stream",
          "name": "stdout",
          "text": [
            "[CV] END .......................C=10, gamma=0.01, kernel=rbf; total time=   8.1s\n"
          ]
        },
        {
          "output_type": "stream",
          "name": "stderr",
          "text": [
            "/usr/local/lib/python3.10/dist-packages/sklearn/svm/_base.py:299: ConvergenceWarning: Solver terminated early (max_iter=1000).  Consider pre-processing your data with StandardScaler or MinMaxScaler.\n",
            "  warnings.warn(\n"
          ]
        },
        {
          "output_type": "stream",
          "name": "stdout",
          "text": [
            "[CV] END .......................C=10, gamma=0.01, kernel=rbf; total time=   8.8s\n"
          ]
        },
        {
          "output_type": "stream",
          "name": "stderr",
          "text": [
            "/usr/local/lib/python3.10/dist-packages/sklearn/svm/_base.py:299: ConvergenceWarning: Solver terminated early (max_iter=1000).  Consider pre-processing your data with StandardScaler or MinMaxScaler.\n",
            "  warnings.warn(\n"
          ]
        },
        {
          "output_type": "stream",
          "name": "stdout",
          "text": [
            "[CV] END ......................C=10, gamma=0.01, kernel=poly; total time=   1.2s\n"
          ]
        },
        {
          "output_type": "stream",
          "name": "stderr",
          "text": [
            "/usr/local/lib/python3.10/dist-packages/sklearn/svm/_base.py:299: ConvergenceWarning: Solver terminated early (max_iter=1000).  Consider pre-processing your data with StandardScaler or MinMaxScaler.\n",
            "  warnings.warn(\n"
          ]
        },
        {
          "output_type": "stream",
          "name": "stdout",
          "text": [
            "[CV] END ......................C=10, gamma=0.01, kernel=poly; total time=   1.1s\n"
          ]
        },
        {
          "output_type": "stream",
          "name": "stderr",
          "text": [
            "/usr/local/lib/python3.10/dist-packages/sklearn/svm/_base.py:299: ConvergenceWarning: Solver terminated early (max_iter=1000).  Consider pre-processing your data with StandardScaler or MinMaxScaler.\n",
            "  warnings.warn(\n"
          ]
        },
        {
          "output_type": "stream",
          "name": "stdout",
          "text": [
            "[CV] END ......................C=10, gamma=0.01, kernel=poly; total time=   1.0s\n"
          ]
        },
        {
          "output_type": "stream",
          "name": "stderr",
          "text": [
            "/usr/local/lib/python3.10/dist-packages/sklearn/svm/_base.py:299: ConvergenceWarning: Solver terminated early (max_iter=1000).  Consider pre-processing your data with StandardScaler or MinMaxScaler.\n",
            "  warnings.warn(\n"
          ]
        },
        {
          "output_type": "stream",
          "name": "stdout",
          "text": [
            "[CV] END .....................C=10, gamma=0.1, kernel=linear; total time=   0.8s\n"
          ]
        },
        {
          "output_type": "stream",
          "name": "stderr",
          "text": [
            "/usr/local/lib/python3.10/dist-packages/sklearn/svm/_base.py:299: ConvergenceWarning: Solver terminated early (max_iter=1000).  Consider pre-processing your data with StandardScaler or MinMaxScaler.\n",
            "  warnings.warn(\n"
          ]
        },
        {
          "output_type": "stream",
          "name": "stdout",
          "text": [
            "[CV] END .....................C=10, gamma=0.1, kernel=linear; total time=   0.7s\n"
          ]
        },
        {
          "output_type": "stream",
          "name": "stderr",
          "text": [
            "/usr/local/lib/python3.10/dist-packages/sklearn/svm/_base.py:299: ConvergenceWarning: Solver terminated early (max_iter=1000).  Consider pre-processing your data with StandardScaler or MinMaxScaler.\n",
            "  warnings.warn(\n"
          ]
        },
        {
          "output_type": "stream",
          "name": "stdout",
          "text": [
            "[CV] END .....................C=10, gamma=0.1, kernel=linear; total time=   0.7s\n"
          ]
        },
        {
          "output_type": "stream",
          "name": "stderr",
          "text": [
            "/usr/local/lib/python3.10/dist-packages/sklearn/svm/_base.py:299: ConvergenceWarning: Solver terminated early (max_iter=1000).  Consider pre-processing your data with StandardScaler or MinMaxScaler.\n",
            "  warnings.warn(\n"
          ]
        },
        {
          "output_type": "stream",
          "name": "stdout",
          "text": [
            "[CV] END ........................C=10, gamma=0.1, kernel=rbf; total time=   7.9s\n"
          ]
        },
        {
          "output_type": "stream",
          "name": "stderr",
          "text": [
            "/usr/local/lib/python3.10/dist-packages/sklearn/svm/_base.py:299: ConvergenceWarning: Solver terminated early (max_iter=1000).  Consider pre-processing your data with StandardScaler or MinMaxScaler.\n",
            "  warnings.warn(\n"
          ]
        },
        {
          "output_type": "stream",
          "name": "stdout",
          "text": [
            "[CV] END ........................C=10, gamma=0.1, kernel=rbf; total time=   8.8s\n"
          ]
        },
        {
          "output_type": "stream",
          "name": "stderr",
          "text": [
            "/usr/local/lib/python3.10/dist-packages/sklearn/svm/_base.py:299: ConvergenceWarning: Solver terminated early (max_iter=1000).  Consider pre-processing your data with StandardScaler or MinMaxScaler.\n",
            "  warnings.warn(\n"
          ]
        },
        {
          "output_type": "stream",
          "name": "stdout",
          "text": [
            "[CV] END ........................C=10, gamma=0.1, kernel=rbf; total time=   8.4s\n"
          ]
        },
        {
          "output_type": "stream",
          "name": "stderr",
          "text": [
            "/usr/local/lib/python3.10/dist-packages/sklearn/svm/_base.py:299: ConvergenceWarning: Solver terminated early (max_iter=1000).  Consider pre-processing your data with StandardScaler or MinMaxScaler.\n",
            "  warnings.warn(\n"
          ]
        },
        {
          "output_type": "stream",
          "name": "stdout",
          "text": [
            "[CV] END .......................C=10, gamma=0.1, kernel=poly; total time=   1.1s\n"
          ]
        },
        {
          "output_type": "stream",
          "name": "stderr",
          "text": [
            "/usr/local/lib/python3.10/dist-packages/sklearn/svm/_base.py:299: ConvergenceWarning: Solver terminated early (max_iter=1000).  Consider pre-processing your data with StandardScaler or MinMaxScaler.\n",
            "  warnings.warn(\n"
          ]
        },
        {
          "output_type": "stream",
          "name": "stdout",
          "text": [
            "[CV] END .......................C=10, gamma=0.1, kernel=poly; total time=   1.0s\n"
          ]
        },
        {
          "output_type": "stream",
          "name": "stderr",
          "text": [
            "/usr/local/lib/python3.10/dist-packages/sklearn/svm/_base.py:299: ConvergenceWarning: Solver terminated early (max_iter=1000).  Consider pre-processing your data with StandardScaler or MinMaxScaler.\n",
            "  warnings.warn(\n"
          ]
        },
        {
          "output_type": "stream",
          "name": "stdout",
          "text": [
            "[CV] END .......................C=10, gamma=0.1, kernel=poly; total time=   0.9s\n"
          ]
        },
        {
          "output_type": "stream",
          "name": "stderr",
          "text": [
            "/usr/local/lib/python3.10/dist-packages/sklearn/svm/_base.py:299: ConvergenceWarning: Solver terminated early (max_iter=1000).  Consider pre-processing your data with StandardScaler or MinMaxScaler.\n",
            "  warnings.warn(\n"
          ]
        },
        {
          "output_type": "stream",
          "name": "stdout",
          "text": [
            "[CV] END .......................C=10, gamma=1, kernel=linear; total time=   0.8s\n"
          ]
        },
        {
          "output_type": "stream",
          "name": "stderr",
          "text": [
            "/usr/local/lib/python3.10/dist-packages/sklearn/svm/_base.py:299: ConvergenceWarning: Solver terminated early (max_iter=1000).  Consider pre-processing your data with StandardScaler or MinMaxScaler.\n",
            "  warnings.warn(\n"
          ]
        },
        {
          "output_type": "stream",
          "name": "stdout",
          "text": [
            "[CV] END .......................C=10, gamma=1, kernel=linear; total time=   0.6s\n"
          ]
        },
        {
          "output_type": "stream",
          "name": "stderr",
          "text": [
            "/usr/local/lib/python3.10/dist-packages/sklearn/svm/_base.py:299: ConvergenceWarning: Solver terminated early (max_iter=1000).  Consider pre-processing your data with StandardScaler or MinMaxScaler.\n",
            "  warnings.warn(\n"
          ]
        },
        {
          "output_type": "stream",
          "name": "stdout",
          "text": [
            "[CV] END .......................C=10, gamma=1, kernel=linear; total time=   0.7s\n"
          ]
        },
        {
          "output_type": "stream",
          "name": "stderr",
          "text": [
            "/usr/local/lib/python3.10/dist-packages/sklearn/svm/_base.py:299: ConvergenceWarning: Solver terminated early (max_iter=1000).  Consider pre-processing your data with StandardScaler or MinMaxScaler.\n",
            "  warnings.warn(\n"
          ]
        },
        {
          "output_type": "stream",
          "name": "stdout",
          "text": [
            "[CV] END ..........................C=10, gamma=1, kernel=rbf; total time=   9.4s\n"
          ]
        },
        {
          "output_type": "stream",
          "name": "stderr",
          "text": [
            "/usr/local/lib/python3.10/dist-packages/sklearn/svm/_base.py:299: ConvergenceWarning: Solver terminated early (max_iter=1000).  Consider pre-processing your data with StandardScaler or MinMaxScaler.\n",
            "  warnings.warn(\n"
          ]
        },
        {
          "output_type": "stream",
          "name": "stdout",
          "text": [
            "[CV] END ..........................C=10, gamma=1, kernel=rbf; total time=   9.4s\n"
          ]
        },
        {
          "output_type": "stream",
          "name": "stderr",
          "text": [
            "/usr/local/lib/python3.10/dist-packages/sklearn/svm/_base.py:299: ConvergenceWarning: Solver terminated early (max_iter=1000).  Consider pre-processing your data with StandardScaler or MinMaxScaler.\n",
            "  warnings.warn(\n"
          ]
        },
        {
          "output_type": "stream",
          "name": "stdout",
          "text": [
            "[CV] END ..........................C=10, gamma=1, kernel=rbf; total time=   9.4s\n"
          ]
        },
        {
          "output_type": "stream",
          "name": "stderr",
          "text": [
            "/usr/local/lib/python3.10/dist-packages/sklearn/svm/_base.py:299: ConvergenceWarning: Solver terminated early (max_iter=1000).  Consider pre-processing your data with StandardScaler or MinMaxScaler.\n",
            "  warnings.warn(\n"
          ]
        },
        {
          "output_type": "stream",
          "name": "stdout",
          "text": [
            "[CV] END .........................C=10, gamma=1, kernel=poly; total time=   1.0s\n"
          ]
        },
        {
          "output_type": "stream",
          "name": "stderr",
          "text": [
            "/usr/local/lib/python3.10/dist-packages/sklearn/svm/_base.py:299: ConvergenceWarning: Solver terminated early (max_iter=1000).  Consider pre-processing your data with StandardScaler or MinMaxScaler.\n",
            "  warnings.warn(\n"
          ]
        },
        {
          "output_type": "stream",
          "name": "stdout",
          "text": [
            "[CV] END .........................C=10, gamma=1, kernel=poly; total time=   1.1s\n"
          ]
        },
        {
          "output_type": "stream",
          "name": "stderr",
          "text": [
            "/usr/local/lib/python3.10/dist-packages/sklearn/svm/_base.py:299: ConvergenceWarning: Solver terminated early (max_iter=1000).  Consider pre-processing your data with StandardScaler or MinMaxScaler.\n",
            "  warnings.warn(\n"
          ]
        },
        {
          "output_type": "stream",
          "name": "stdout",
          "text": [
            "[CV] END .........................C=10, gamma=1, kernel=poly; total time=   0.9s\n"
          ]
        },
        {
          "output_type": "stream",
          "name": "stderr",
          "text": [
            "/usr/local/lib/python3.10/dist-packages/sklearn/svm/_base.py:299: ConvergenceWarning: Solver terminated early (max_iter=1000).  Consider pre-processing your data with StandardScaler or MinMaxScaler.\n",
            "  warnings.warn(\n"
          ]
        },
        {
          "output_type": "stream",
          "name": "stdout",
          "text": [
            "Best Parameters: {'C': 10, 'gamma': 0.001, 'kernel': 'linear'}\n",
            "Training Set Metrics:\n",
            "              precision    recall  f1-score   support\n",
            "\n",
            "           0       0.52      0.84      0.64     13336\n",
            "           1       0.57      0.21      0.31     13336\n",
            "\n",
            "    accuracy                           0.53     26672\n",
            "   macro avg       0.54      0.53      0.47     26672\n",
            "weighted avg       0.54      0.53      0.47     26672\n",
            "\n",
            "Accuracy: 0.5253449310137972, Precision: 0.5674112485041882, Recall: 0.21333233353329334, F1 Score: 0.31008174386920984, AUC: 0.4324226617633882\n",
            "\n",
            "Validation Set Metrics:\n",
            "              precision    recall  f1-score   support\n",
            "\n",
            "           0       0.52      0.85      0.65      2858\n",
            "           1       0.59      0.22      0.32      2858\n",
            "\n",
            "    accuracy                           0.53      5716\n",
            "   macro avg       0.56      0.53      0.48      5716\n",
            "weighted avg       0.56      0.53      0.48      5716\n",
            "\n",
            "Accuracy: 0.5334149755073478, Precision: 0.5903500473036897, Recall: 0.21833449965010496, F1 Score: 0.31877394636015327, AUC: 0.4256185967862546\n",
            "\n",
            "Test Set Metrics:\n",
            "              precision    recall  f1-score   support\n",
            "\n",
            "           0       0.52      0.85      0.65      2858\n",
            "           1       0.59      0.22      0.32      2858\n",
            "\n",
            "    accuracy                           0.54      5716\n",
            "   macro avg       0.56      0.54      0.48      5716\n",
            "weighted avg       0.56      0.54      0.48      5716\n",
            "\n",
            "Accuracy: 0.5353393981805459, Precision: 0.594392523364486, Recall: 0.2225332400279916, F1 Score: 0.32382892057026474, AUC: 0.4149664477843491\n"
          ]
        }
      ]
    },
    {
      "cell_type": "markdown",
      "source": [
        "###  Add Spolier tag"
      ],
      "metadata": {
        "id": "QvJkO3NGq1Ed"
      }
    },
    {
      "cell_type": "code",
      "source": [
        "from sklearn.svm import SVC\n",
        "from sklearn.metrics import classification_report, accuracy_score, precision_score, recall_score, f1_score, roc_auc_score\n",
        "\n",
        "# 初始化SVM模型\n",
        "modelSVM = SVC(kernel='linear', probability=True, max_iter=1000)\n",
        "\n",
        "# 使用训练集训练模型\n",
        "modelSVM.fit(X_train_text_spoiler, y_train)  # 使用包含spoiler_tag的特征集\n",
        "\n",
        "# 训练集上的预测\n",
        "y_train_pred = modelSVM.predict(X_train_text_spoiler)\n",
        "y_train_scores = modelSVM.predict_proba(X_train_text_spoiler)[:, 1]\n",
        "\n",
        "# 使用验证集预测\n",
        "y_val_pred = modelSVM.predict(X_val_text_spoiler)\n",
        "y_val_scores = modelSVM.predict_proba(X_val_text_spoiler)[:, 1]\n",
        "\n",
        "# 使用测试集预测\n",
        "y_test_pred = modelSVM.predict(X_test_text_spoiler)\n",
        "y_test_scores = modelSVM.predict_proba(X_test_text_spoiler)[:, 1]\n",
        "\n",
        "# 打印训练集、验证集和测试集的分类报告和性能指标\n",
        "print(\"Training Set Metrics:\")\n",
        "print(classification_report(y_train, y_train_pred))\n",
        "train_accuracy = accuracy_score(y_train, y_train_pred)\n",
        "train_precision = precision_score(y_train, y_train_pred)\n",
        "train_recall = recall_score(y_train, y_train_pred)\n",
        "train_f1 = f1_score(y_train, y_train_pred)\n",
        "train_auc = roc_auc_score(y_train, y_train_scores)\n",
        "print(f\"Accuracy: {train_accuracy}\")\n",
        "print(f\"Precision: {train_precision}\")\n",
        "print(f\"Recall: {train_recall}\")\n",
        "print(f\"F1 Score: {train_f1}\")\n",
        "print(f\"AUC: {train_auc}\")\n",
        "\n",
        "print(\"\\nValidation Set Metrics:\")\n",
        "print(classification_report(y_val, y_val_pred))\n",
        "val_accuracy = accuracy_score(y_val, y_val_pred)\n",
        "val_precision = precision_score(y_val, y_val_pred)\n",
        "val_recall = recall_score(y_val, y_val_pred)\n",
        "val_f1 = f1_score(y_val, y_val_pred)\n",
        "val_auc = roc_auc_score(y_val, y_val_scores)\n",
        "print(f\"Accuracy: {val_accuracy}\")\n",
        "print(f\"Precision: {val_precision}\")\n",
        "print(f\"Recall: {val_recall}\")\n",
        "print(f\"F1 Score: {val_f1}\")\n",
        "print(f\"AUC: {val_auc}\")\n",
        "\n",
        "print(\"\\nTest Set Metrics:\")\n",
        "print(classification_report(y_test, y_test_pred))\n",
        "test_accuracy = accuracy_score(y_test, y_test_pred)\n",
        "test_precision = precision_score(y_test, y_test_pred)\n",
        "test_recall = recall_score(y_test, y_test_pred)\n",
        "test_f1 = f1_score(y_test, y_test_pred)\n",
        "test_auc = roc_auc_score(y_test, y_test_scores)\n",
        "print(f\"Accuracy: {test_accuracy}\")\n",
        "print(f\"Precision: {test_precision}\")\n",
        "print(f\"Recall: {test_recall}\")\n",
        "print(f\"F1 Score: {test_f1}\")\n",
        "print(f\"AUC: {test_auc}\")\n"
      ],
      "metadata": {
        "id": "9S9MNogw3Jle",
        "colab": {
          "base_uri": "https://localhost:8080/"
        },
        "outputId": "67fdde61-7232-4fcc-9ec0-102a419da409"
      },
      "execution_count": null,
      "outputs": [
        {
          "output_type": "stream",
          "name": "stderr",
          "text": [
            "/usr/local/lib/python3.10/dist-packages/sklearn/svm/_base.py:299: ConvergenceWarning: Solver terminated early (max_iter=1000).  Consider pre-processing your data with StandardScaler or MinMaxScaler.\n",
            "  warnings.warn(\n"
          ]
        },
        {
          "output_type": "stream",
          "name": "stdout",
          "text": [
            "Training Set Metrics:\n",
            "              precision    recall  f1-score   support\n",
            "\n",
            "           0       0.51      0.87      0.64     13336\n",
            "           1       0.57      0.17      0.26     13336\n",
            "\n",
            "    accuracy                           0.52     26672\n",
            "   macro avg       0.54      0.52      0.45     26672\n",
            "weighted avg       0.54      0.52      0.45     26672\n",
            "\n",
            "Accuracy: 0.5192711457708459\n",
            "Precision: 0.5656281920326864\n",
            "Recall: 0.16609178164367128\n",
            "F1 Score: 0.25678182239740316\n",
            "AUC: 0.43095329644329083\n",
            "\n",
            "Validation Set Metrics:\n",
            "              precision    recall  f1-score   support\n",
            "\n",
            "           0       0.52      0.88      0.65      2858\n",
            "           1       0.60      0.17      0.27      2858\n",
            "\n",
            "    accuracy                           0.53      5716\n",
            "   macro avg       0.56      0.53      0.46      5716\n",
            "weighted avg       0.56      0.53      0.46      5716\n",
            "\n",
            "Accuracy: 0.5283414975507348\n",
            "Precision: 0.5985401459854015\n",
            "Recall: 0.172148355493352\n",
            "F1 Score: 0.26739130434782615\n",
            "AUC: 0.42276630341898136\n",
            "\n",
            "Test Set Metrics:\n",
            "              precision    recall  f1-score   support\n",
            "\n",
            "           0       0.52      0.88      0.65      2858\n",
            "           1       0.59      0.18      0.27      2858\n",
            "\n",
            "    accuracy                           0.53      5716\n",
            "   macro avg       0.56      0.53      0.46      5716\n",
            "weighted avg       0.56      0.53      0.46      5716\n",
            "\n",
            "Accuracy: 0.5279916025192443\n",
            "Precision: 0.5947867298578199\n",
            "Recall: 0.17564730580825752\n",
            "F1 Score: 0.27120475418692597\n",
            "AUC: 0.41374322307926237\n"
          ]
        }
      ]
    },
    {
      "cell_type": "markdown",
      "source": [
        "### Add Sentiment Features"
      ],
      "metadata": {
        "id": "h_LVcVM_q6ix"
      }
    },
    {
      "cell_type": "code",
      "source": [
        "from sklearn.svm import SVC\n",
        "from sklearn.metrics import classification_report, accuracy_score, precision_score, recall_score, f1_score, roc_auc_score\n",
        "\n",
        "# 初始化SVM模型\n",
        "modelSVM = SVC(kernel='linear', probability=True, max_iter=1000)\n",
        "\n",
        "# 使用训练集训练模型\n",
        "modelSVM.fit(X_train_three, y_train)  # 使用包含文本特征、情绪和spoiler_tag的特征集\n",
        "\n",
        "# 训练集上的预测\n",
        "y_train_pred = modelSVM.predict(X_train_three)\n",
        "y_train_scores = modelSVM.predict_proba(X_train_three)[:, 1]\n",
        "\n",
        "# 使用验证集预测\n",
        "y_val_pred = modelSVM.predict(X_val_three)\n",
        "y_val_scores = modelSVM.predict_proba(X_val_three)[:, 1]\n",
        "\n",
        "# 使用测试集预测\n",
        "y_test_pred = modelSVM.predict(X_test_three)\n",
        "y_test_scores = modelSVM.predict_proba(X_test_three)[:, 1]\n",
        "\n",
        "# 打印训练集、验证集和测试集的分类报告和性能指标\n",
        "print(\"Training Set Metrics:\")\n",
        "print(classification_report(y_train, y_train_pred))\n",
        "train_accuracy = accuracy_score(y_train, y_train_pred)\n",
        "train_precision = precision_score(y_train, y_train_pred)\n",
        "train_recall = recall_score(y_train, y_train_pred)\n",
        "train_f1 = f1_score(y_train, y_train_pred)\n",
        "train_auc = roc_auc_score(y_train, y_train_scores)\n",
        "print(f\"Accuracy: {train_accuracy}\")\n",
        "print(f\"Precision: {train_precision}\")\n",
        "print(f\"Recall: {train_recall}\")\n",
        "print(f\"F1 Score: {train_f1}\")\n",
        "print(f\"AUC: {train_auc}\")\n",
        "\n",
        "print(\"\\nValidation Set Metrics:\")\n",
        "print(classification_report(y_val, y_val_pred))\n",
        "val_accuracy = accuracy_score(y_val, y_val_pred)\n",
        "val_precision = precision_score(y_val, y_val_pred)\n",
        "val_recall = recall_score(y_val, y_val_pred)\n",
        "val_f1 = f1_score(y_val, y_val_pred)\n",
        "val_auc = roc_auc_score(y_val, y_val_scores)\n",
        "print(f\"Accuracy: {val_accuracy}\")\n",
        "print(f\"Precision: {val_precision}\")\n",
        "print(f\"Recall: {val_recall}\")\n",
        "print(f\"F1 Score: {val_f1}\")\n",
        "print(f\"AUC: {val_auc}\")\n",
        "\n",
        "print(\"\\nTest Set Metrics:\")\n",
        "print(classification_report(y_test, y_test_pred))\n",
        "test_accuracy = accuracy_score(y_test, y_test_pred)\n",
        "test_precision = precision_score(y_test, y_test_pred)\n",
        "test_recall = recall_score(y_test, y_test_pred)\n",
        "test_f1 = f1_score(y_test, y_test_pred)\n",
        "test_auc = roc_auc_score(y_test, y_test_scores)\n",
        "print(f\"Accuracy: {test_accuracy}\")\n",
        "print(f\"Precision: {test_precision}\")\n",
        "print(f\"Recall: {test_recall}\")\n",
        "print(f\"F1 Score: {test_f1}\")\n",
        "print(f\"AUC: {test_auc}\")\n"
      ],
      "metadata": {
        "colab": {
          "base_uri": "https://localhost:8080/"
        },
        "id": "CvE1EPsvAHxO",
        "outputId": "b1e54890-9164-474d-e195-69bd1893a8a3"
      },
      "execution_count": null,
      "outputs": [
        {
          "output_type": "stream",
          "name": "stderr",
          "text": [
            "/usr/local/lib/python3.10/dist-packages/sklearn/svm/_base.py:299: ConvergenceWarning: Solver terminated early (max_iter=1000).  Consider pre-processing your data with StandardScaler or MinMaxScaler.\n",
            "  warnings.warn(\n"
          ]
        },
        {
          "output_type": "stream",
          "name": "stdout",
          "text": [
            "Training Set Metrics:\n",
            "              precision    recall  f1-score   support\n",
            "\n",
            "           0       0.51      0.51      0.51     13336\n",
            "           1       0.51      0.52      0.52     13336\n",
            "\n",
            "    accuracy                           0.51     26672\n",
            "   macro avg       0.51      0.51      0.51     26672\n",
            "weighted avg       0.51      0.51      0.51     26672\n",
            "\n",
            "Accuracy: 0.5138347330533893\n",
            "Precision: 0.5136656543959707\n",
            "Recall: 0.5200209958008398\n",
            "F1 Score: 0.5168237880538064\n",
            "AUC: 0.5000374925014996\n",
            "\n",
            "Validation Set Metrics:\n",
            "              precision    recall  f1-score   support\n",
            "\n",
            "           0       0.52      0.52      0.52      2858\n",
            "           1       0.52      0.53      0.53      2858\n",
            "\n",
            "    accuracy                           0.52      5716\n",
            "   macro avg       0.52      0.52      0.52      5716\n",
            "weighted avg       0.52      0.52      0.52      5716\n",
            "\n",
            "Accuracy: 0.5243177046885934\n",
            "Precision: 0.5241235682054842\n",
            "Recall: 0.5283414975507348\n",
            "F1 Score: 0.5262240808503224\n",
            "AUC: 0.5\n",
            "\n",
            "Test Set Metrics:\n",
            "              precision    recall  f1-score   support\n",
            "\n",
            "           0       0.53      0.53      0.53      2858\n",
            "           1       0.53      0.54      0.53      2858\n",
            "\n",
            "    accuracy                           0.53      5716\n",
            "   macro avg       0.53      0.53      0.53      5716\n",
            "weighted avg       0.53      0.53      0.53      5716\n",
            "\n",
            "Accuracy: 0.5318404478656403\n",
            "Precision: 0.5314443676572218\n",
            "Recall: 0.5381385584324703\n",
            "F1 Score: 0.5347705146036161\n",
            "AUC: 0.5\n"
          ]
        }
      ]
    },
    {
      "cell_type": "markdown",
      "source": [
        "## 4.3 Random Forest"
      ],
      "metadata": {
        "id": "icYW3nf6SwSi"
      }
    },
    {
      "cell_type": "markdown",
      "source": [
        "### Textual Features"
      ],
      "metadata": {
        "id": "WpXZ_Jc6TEhR"
      }
    },
    {
      "cell_type": "code",
      "source": [
        "from sklearn.ensemble import RandomForestClassifier\n",
        "from sklearn.metrics import classification_report, accuracy_score, precision_score, recall_score, f1_score, roc_auc_score\n",
        "\n",
        "# 初始化随机森林模型\n",
        "modelRF = RandomForestClassifier(n_estimators=100, random_state=42)\n",
        "\n",
        "# 使用训练集训练模型\n",
        "modelRF.fit(X_train_text_features, y_train)\n",
        "\n",
        "# 训练集上的预测\n",
        "y_train_pred = modelRF.predict(X_train_text_features)\n",
        "y_train_scores = modelRF.predict_proba(X_train_text_features)[:, 1]\n",
        "\n",
        "# 使用验证集预测\n",
        "y_val_pred = modelRF.predict(X_val_text_features)\n",
        "y_val_scores = modelRF.predict_proba(X_val_text_features)[:, 1]\n",
        "\n",
        "# 使用测试集预测\n",
        "y_test_pred = modelRF.predict(X_test_text_features)\n",
        "y_test_scores = modelRF.predict_proba(X_test_text_features)[:, 1]\n",
        "\n",
        "# 打印训练集、验证集和测试集的分类报告和性能指标\n",
        "print(\"Training Set Metrics:\")\n",
        "print(classification_report(y_train, y_train_pred))\n",
        "train_accuracy = accuracy_score(y_train, y_train_pred)\n",
        "train_precision = precision_score(y_train, y_train_pred)\n",
        "train_recall = recall_score(y_train, y_train_pred)\n",
        "train_f1 = f1_score(y_train, y_train_pred)\n",
        "train_auc = roc_auc_score(y_train, y_train_scores)\n",
        "print(f\"Accuracy: {train_accuracy}\")\n",
        "print(f\"Precision: {train_precision}\")\n",
        "print(f\"Recall: {train_recall}\")\n",
        "print(f\"F1 Score: {train_f1}\")\n",
        "print(f\"AUC: {train_auc}\")\n",
        "\n",
        "print(\"\\nValidation Set Metrics:\")\n",
        "print(classification_report(y_val, y_val_pred))\n",
        "val_accuracy = accuracy_score(y_val, y_val_pred)\n",
        "val_precision = precision_score(y_val, y_val_pred)\n",
        "val_recall = recall_score(y_val, y_val_pred)\n",
        "val_f1 = f1_score(y_val, y_val_pred)\n",
        "val_auc = roc_auc_score(y_val, y_val_scores)\n",
        "print(f\"Accuracy: {val_accuracy}\")\n",
        "print(f\"Precision: {val_precision}\")\n",
        "print(f\"Recall: {val_recall}\")\n",
        "print(f\"F1 Score: {val_f1}\")\n",
        "print(f\"AUC: {val_auc}\")\n",
        "\n",
        "print(\"\\nTest Set Metrics:\")\n",
        "print(classification_report(y_test, y_test_pred))\n",
        "test_accuracy = accuracy_score(y_test, y_test_pred)\n",
        "test_precision = precision_score(y_test, y_test_pred)\n",
        "test_recall = recall_score(y_test, y_test_pred)\n",
        "test_f1 = f1_score(y_test, y_test_pred)\n",
        "test_auc = roc_auc_score(y_test, y_test_scores)\n",
        "print(f\"Accuracy: {test_accuracy}\")\n",
        "print(f\"Precision: {test_precision}\")\n",
        "print(f\"Recall: {test_recall}\")\n",
        "print(f\"F1 Score: {test_f1}\")\n",
        "print(f\"AUC: {test_auc}\")\n"
      ],
      "metadata": {
        "colab": {
          "base_uri": "https://localhost:8080/"
        },
        "id": "d_2Et2XuAs5E",
        "outputId": "49f33020-2463-43f3-d165-3958f7d85809"
      },
      "execution_count": null,
      "outputs": [
        {
          "output_type": "stream",
          "name": "stdout",
          "text": [
            "Training Set Metrics:\n",
            "              precision    recall  f1-score   support\n",
            "\n",
            "           0       1.00      1.00      1.00     13336\n",
            "           1       1.00      1.00      1.00     13336\n",
            "\n",
            "    accuracy                           1.00     26672\n",
            "   macro avg       1.00      1.00      1.00     26672\n",
            "weighted avg       1.00      1.00      1.00     26672\n",
            "\n",
            "Accuracy: 0.9974130173965207\n",
            "Precision: 0.9982723653571697\n",
            "Recall: 0.9965506898620275\n",
            "F1 Score: 0.9974107846448271\n",
            "AUC: 0.9999763169741577\n",
            "\n",
            "Validation Set Metrics:\n",
            "              precision    recall  f1-score   support\n",
            "\n",
            "           0       0.52      0.52      0.52      2858\n",
            "           1       0.52      0.52      0.52      2858\n",
            "\n",
            "    accuracy                           0.52      5716\n",
            "   macro avg       0.52      0.52      0.52      5716\n",
            "weighted avg       0.52      0.52      0.52      5716\n",
            "\n",
            "Accuracy: 0.5206438068579426\n",
            "Precision: 0.5206293706293706\n",
            "Recall: 0.5209937018894332\n",
            "F1 Score: 0.5208114725428472\n",
            "AUC: 0.5351912620755411\n",
            "\n",
            "Test Set Metrics:\n",
            "              precision    recall  f1-score   support\n",
            "\n",
            "           0       0.54      0.55      0.54      2858\n",
            "           1       0.54      0.53      0.54      2858\n",
            "\n",
            "    accuracy                           0.54      5716\n",
            "   macro avg       0.54      0.54      0.54      5716\n",
            "weighted avg       0.54      0.54      0.54      5716\n",
            "\n",
            "Accuracy: 0.5395381385584325\n",
            "Precision: 0.5400709219858156\n",
            "Recall: 0.532890132960112\n",
            "F1 Score: 0.5364564987671715\n",
            "AUC: 0.5531973892786678\n"
          ]
        }
      ]
    },
    {
      "cell_type": "code",
      "source": [
        "from sklearn.ensemble import RandomForestClassifier\n",
        "from sklearn.metrics import classification_report, accuracy_score, precision_score, recall_score, f1_score, roc_auc_score\n",
        "\n",
        "# 初始化随机森林模型，限制最大深度和特征数量\n",
        "modelRF = RandomForestClassifier(n_estimators=100, max_depth=10, max_features='sqrt', random_state=42)\n",
        "\n",
        "# 使用训练集训练模型\n",
        "modelRF.fit(X_train_text_features, y_train)\n",
        "\n",
        "# 训练集上的预测\n",
        "y_train_pred = modelRF.predict(X_train_text_features)\n",
        "y_train_scores = modelRF.predict_proba(X_train_text_features)[:, 1]\n",
        "\n",
        "# 使用验证集预测\n",
        "y_val_pred = modelRF.predict(X_val_text_features)\n",
        "y_val_scores = modelRF.predict_proba(X_val_text_features)[:, 1]\n",
        "\n",
        "# 使用测试集预测\n",
        "y_test_pred = modelRF.predict(X_test_text_features)\n",
        "y_test_scores = modelRF.predict_proba(X_test_text_features)[:, 1]\n",
        "\n",
        "# 打印训练集、验证集和测试集的分类报告和性能指标\n",
        "print(\"Training Set Metrics:\")\n",
        "print(classification_report(y_train, y_train_pred))\n",
        "train_accuracy = accuracy_score(y_train, y_train_pred)\n",
        "train_precision = precision_score(y_train, y_train_pred)\n",
        "train_recall = recall_score(y_train, y_train_pred)\n",
        "train_f1 = f1_score(y_train, y_train_pred)\n",
        "train_auc = roc_auc_score(y_train, y_train_scores)\n",
        "print(f\"Accuracy: {train_accuracy}\")\n",
        "print(f\"Precision: {train_precision}\")\n",
        "print(f\"Recall: {train_recall}\")\n",
        "print(f\"F1 Score: {train_f1}\")\n",
        "print(f\"AUC: {train_auc}\")\n",
        "\n",
        "print(\"\\nValidation Set Metrics:\")\n",
        "print(classification_report(y_val, y_val_pred))\n",
        "val_accuracy = accuracy_score(y_val, y_val_pred)\n",
        "val_precision = precision_score(y_val, y_val_pred)\n",
        "val_recall = recall_score(y_val, y_val_pred)\n",
        "val_f1 = f1_score(y_val, y_val_pred)\n",
        "val_auc = roc_auc_score(y_val, y_val_scores)\n",
        "print(f\"Accuracy: {val_accuracy}\")\n",
        "print(f\"Precision: {val_precision}\")\n",
        "print(f\"Recall: {val_recall}\")\n",
        "print(f\"F1 Score: {val_f1}\")\n",
        "print(f\"AUC: {val_auc}\")\n",
        "\n",
        "print(\"\\nTest Set Metrics:\")\n",
        "print(classification_report(y_test, y_test_pred))\n",
        "test_accuracy = accuracy_score(y_test, y_test_pred)\n",
        "test_precision = precision_score(y_test, y_test_pred)\n",
        "test_recall = recall_score(y_test, y_test_pred)\n",
        "test_f1 = f1_score(y_test, y_test_pred)\n",
        "test_auc = roc_auc_score(y_test, y_test_scores)\n",
        "print(f\"Accuracy: {test_accuracy}\")\n",
        "print(f\"Precision: {test_precision}\")\n",
        "print(f\"Recall: {test_recall}\")\n",
        "print(f\"F1 Score: {test_f1}\")\n",
        "print(f\"AUC: {test_auc}\")\n"
      ],
      "metadata": {
        "colab": {
          "base_uri": "https://localhost:8080/"
        },
        "id": "qe_Jw9DTBYfU",
        "outputId": "8bc3deea-1d2f-4d68-ad10-b4e5176d2bd5"
      },
      "execution_count": null,
      "outputs": [
        {
          "output_type": "stream",
          "name": "stdout",
          "text": [
            "Training Set Metrics:\n",
            "              precision    recall  f1-score   support\n",
            "\n",
            "           0       0.67      0.67      0.67     13336\n",
            "           1       0.67      0.67      0.67     13336\n",
            "\n",
            "    accuracy                           0.67     26672\n",
            "   macro avg       0.67      0.67      0.67     26672\n",
            "weighted avg       0.67      0.67      0.67     26672\n",
            "\n",
            "Accuracy: 0.6700284943011398\n",
            "Precision: 0.6714555765595464\n",
            "Recall: 0.6658668266346731\n",
            "F1 Score: 0.6686495237378112\n",
            "AUC: 0.7344662066386962\n",
            "\n",
            "Validation Set Metrics:\n",
            "              precision    recall  f1-score   support\n",
            "\n",
            "           0       0.56      0.58      0.57      2858\n",
            "           1       0.57      0.55      0.56      2858\n",
            "\n",
            "    accuracy                           0.56      5716\n",
            "   macro avg       0.56      0.56      0.56      5716\n",
            "weighted avg       0.56      0.56      0.56      5716\n",
            "\n",
            "Accuracy: 0.5635059482155353\n",
            "Precision: 0.5652642934196332\n",
            "Recall: 0.5500349895031491\n",
            "F1 Score: 0.5575456641248449\n",
            "AUC: 0.5899975196384402\n",
            "\n",
            "Test Set Metrics:\n",
            "              precision    recall  f1-score   support\n",
            "\n",
            "           0       0.57      0.58      0.57      2858\n",
            "           1       0.57      0.56      0.57      2858\n",
            "\n",
            "    accuracy                           0.57      5716\n",
            "   macro avg       0.57      0.57      0.57      5716\n",
            "weighted avg       0.57      0.57      0.57      5716\n",
            "\n",
            "Accuracy: 0.5694541637508748\n",
            "Precision: 0.5707160669754185\n",
            "Recall: 0.5605318404478656\n",
            "F1 Score: 0.5655781112091791\n",
            "AUC: 0.5975861282902742\n"
          ]
        }
      ]
    },
    {
      "cell_type": "markdown",
      "source": [
        "###  Add Spolier tag"
      ],
      "metadata": {
        "id": "8wwF83Vpq1wZ"
      }
    },
    {
      "cell_type": "code",
      "source": [
        "from sklearn.ensemble import RandomForestClassifier\n",
        "from sklearn.metrics import classification_report, accuracy_score, precision_score, recall_score, f1_score, roc_auc_score\n",
        "\n",
        "# 初始化随机森林模型\n",
        "modelRF = RandomForestClassifier(n_estimators=100, max_depth=10, max_features='sqrt', random_state=42)\n",
        "\n",
        "# 使用训练集训练模型\n",
        "modelRF.fit(X_train_text_spoiler, y_train)\n",
        "\n",
        "# 训练集上的预测\n",
        "y_train_pred = modelRF.predict(X_train_text_spoiler)\n",
        "y_train_scores = modelRF.predict_proba(X_train_text_spoiler)[:, 1]\n",
        "\n",
        "# 使用验证集预测\n",
        "y_val_pred = modelRF.predict(X_val_text_spoiler)\n",
        "y_val_scores = modelRF.predict_proba(X_val_text_spoiler)[:, 1]\n",
        "\n",
        "# 使用测试集预测\n",
        "y_test_pred = modelRF.predict(X_test_text_spoiler)\n",
        "y_test_scores = modelRF.predict_proba(X_test_text_spoiler)[:, 1]\n",
        "\n",
        "# 打印训练集、验证集和测试集的分类报告和性能指标\n",
        "print(\"Training Set Metrics:\")\n",
        "print(classification_report(y_train, y_train_pred))\n",
        "train_accuracy = accuracy_score(y_train, y_train_pred)\n",
        "train_precision = precision_score(y_train, y_train_pred)\n",
        "train_recall = recall_score(y_train, y_train_pred)\n",
        "train_f1 = f1_score(y_train, y_train_pred)\n",
        "train_auc = roc_auc_score(y_train, y_train_scores)\n",
        "print(f\"Accuracy: {train_accuracy}\")\n",
        "print(f\"Precision: {train_precision}\")\n",
        "print(f\"Recall: {train_recall}\")\n",
        "print(f\"F1 Score: {train_f1}\")\n",
        "print(f\"AUC: {train_auc}\")\n",
        "\n",
        "print(\"\\nValidation Set Metrics:\")\n",
        "print(classification_report(y_val, y_val_pred))\n",
        "val_accuracy = accuracy_score(y_val, y_val_pred)\n",
        "val_precision = precision_score(y_val, y_val_pred)\n",
        "val_recall = recall_score(y_val, y_val_pred)\n",
        "val_f1 = f1_score(y_val, y_val_pred)\n",
        "val_auc = roc_auc_score(y_val, y_val_scores)\n",
        "print(f\"Accuracy: {val_accuracy}\")\n",
        "print(f\"Precision: {val_precision}\")\n",
        "print(f\"Recall: {val_recall}\")\n",
        "print(f\"F1 Score: {val_f1}\")\n",
        "print(f\"AUC: {val_auc}\")\n",
        "\n",
        "print(\"\\nTest Set Metrics:\")\n",
        "print(classification_report(y_test, y_test_pred))\n",
        "test_accuracy = accuracy_score(y_test, y_test_pred)\n",
        "test_precision = precision_score(y_test, y_test_pred)\n",
        "test_recall = recall_score(y_test, y_test_pred)\n",
        "test_f1 = f1_score(y_test, y_test_pred)\n",
        "test_auc = roc_auc_score(y_test, y_test_scores)\n",
        "print(f\"Accuracy: {test_accuracy}\")\n",
        "print(f\"Precision: {test_precision}\")\n",
        "print(f\"Recall: {test_recall}\")\n",
        "print(f\"F1 Score: {test_f1}\")\n",
        "print(f\"AUC: {test_auc}\")\n"
      ],
      "metadata": {
        "colab": {
          "base_uri": "https://localhost:8080/"
        },
        "id": "hWpOiEuNAts-",
        "outputId": "31b28134-670f-4a34-fa17-50e66959c98d"
      },
      "execution_count": null,
      "outputs": [
        {
          "output_type": "stream",
          "name": "stdout",
          "text": [
            "Training Set Metrics:\n",
            "              precision    recall  f1-score   support\n",
            "\n",
            "           0       0.67      0.65      0.66     13336\n",
            "           1       0.66      0.68      0.67     13336\n",
            "\n",
            "    accuracy                           0.66     26672\n",
            "   macro avg       0.66      0.66      0.66     26672\n",
            "weighted avg       0.66      0.66      0.66     26672\n",
            "\n",
            "Accuracy: 0.6628674265146971\n",
            "Precision: 0.6581937363437728\n",
            "Recall: 0.6776394721055788\n",
            "F1 Score: 0.6677750683514372\n",
            "AUC: 0.7313269715208128\n",
            "\n",
            "Validation Set Metrics:\n",
            "              precision    recall  f1-score   support\n",
            "\n",
            "           0       0.59      0.57      0.58      2858\n",
            "           1       0.58      0.60      0.59      2858\n",
            "\n",
            "    accuracy                           0.59      5716\n",
            "   macro avg       0.59      0.59      0.59      5716\n",
            "weighted avg       0.59      0.59      0.59      5716\n",
            "\n",
            "Accuracy: 0.5851994401679497\n",
            "Precision: 0.5834189791024323\n",
            "Recall: 0.5958712386284115\n",
            "F1 Score: 0.5895793664531763\n",
            "AUC: 0.6091729426588399\n",
            "\n",
            "Test Set Metrics:\n",
            "              precision    recall  f1-score   support\n",
            "\n",
            "           0       0.58      0.56      0.57      2858\n",
            "           1       0.57      0.59      0.58      2858\n",
            "\n",
            "    accuracy                           0.57      5716\n",
            "   macro avg       0.57      0.57      0.57      5716\n",
            "weighted avg       0.57      0.57      0.57      5716\n",
            "\n",
            "Accuracy: 0.5743526941917425\n",
            "Precision: 0.5722052327556915\n",
            "Recall: 0.5892232330300909\n",
            "F1 Score: 0.5805895535252543\n",
            "AUC: 0.6036395082175137\n"
          ]
        }
      ]
    },
    {
      "cell_type": "markdown",
      "source": [
        "### Add Sentiment Features"
      ],
      "metadata": {
        "id": "WMxJISFDq7QM"
      }
    },
    {
      "cell_type": "code",
      "source": [
        "from sklearn.ensemble import RandomForestClassifier\n",
        "from sklearn.metrics import classification_report, accuracy_score, precision_score, recall_score, f1_score, roc_auc_score\n",
        "\n",
        "# 初始化随机森林模型\n",
        "modelRF = RandomForestClassifier(n_estimators=100, max_depth=10, max_features='sqrt', random_state=42)\n",
        "\n",
        "# 使用训练集训练模型\n",
        "modelRF.fit(X_train_three, y_train)\n",
        "\n",
        "# 训练集上的预测\n",
        "y_train_pred = modelRF.predict(X_train_three)\n",
        "y_train_scores = modelRF.predict_proba(X_train_three)[:, 1]\n",
        "\n",
        "# 使用验证集预测\n",
        "y_val_pred = modelRF.predict(X_val_three)\n",
        "y_val_scores = modelRF.predict_proba(X_val_three)[:, 1]\n",
        "\n",
        "# 使用测试集预测\n",
        "y_test_pred = modelRF.predict(X_test_three)\n",
        "y_test_scores = modelRF.predict_proba(X_test_three)[:, 1]\n",
        "\n",
        "# 打印训练集、验证集和测试集的分类报告和性能指标\n",
        "print(\"Training Set Metrics:\")\n",
        "print(classification_report(y_train, y_train_pred))\n",
        "train_accuracy = accuracy_score(y_train, y_train_pred)\n",
        "train_precision = precision_score(y_train, y_train_pred)\n",
        "train_recall = recall_score(y_train, y_train_pred)\n",
        "train_f1 = f1_score(y_train, y_train_pred)\n",
        "train_auc = roc_auc_score(y_train, y_train_scores)\n",
        "print(f\"Accuracy: {train_accuracy}\")\n",
        "print(f\"Precision: {train_precision}\")\n",
        "print(f\"Recall: {train_recall}\")\n",
        "print(f\"F1 Score: {train_f1}\")\n",
        "print(f\"AUC: {train_auc}\")\n",
        "\n",
        "print(\"\\nValidation Set Metrics:\")\n",
        "print(classification_report(y_val, y_val_pred))\n",
        "val_accuracy = accuracy_score(y_val, y_val_pred)\n",
        "val_precision = precision_score(y_val, y_val_pred)\n",
        "val_recall = recall_score(y_val, y_val_pred)\n",
        "val_f1 = f1_score(y_val, y_val_pred)\n",
        "val_auc = roc_auc_score(y_val, y_val_scores)\n",
        "print(f\"Accuracy: {val_accuracy}\")\n",
        "print(f\"Precision: {val_precision}\")\n",
        "print(f\"Recall: {val_recall}\")\n",
        "print(f\"F1 Score: {val_f1}\")\n",
        "print(f\"AUC: {val_auc}\")\n",
        "\n",
        "print(\"\\nTest Set Metrics:\")\n",
        "print(classification_report(y_test, y_test_pred))\n",
        "test_accuracy = accuracy_score(y_test, y_test_pred)\n",
        "test_precision = precision_score(y_test, y_test_pred)\n",
        "test_recall = recall_score(y_test, y_test_pred)\n",
        "test_f1 = f1_score(y_test, y_test_pred)\n",
        "test_auc = roc_auc_score(y_test, y_test_scores)\n",
        "print(f\"Accuracy: {test_accuracy}\")\n",
        "print(f\"Precision: {test_precision}\")\n",
        "print(f\"Recall: {test_recall}\")\n",
        "print(f\"F1 Score: {test_f1}\")\n",
        "print(f\"AUC: {test_auc}\")\n"
      ],
      "metadata": {
        "colab": {
          "base_uri": "https://localhost:8080/"
        },
        "id": "bWQsO8BVAuOz",
        "outputId": "fbb5b1c9-7271-431e-f759-0fe965775780"
      },
      "execution_count": null,
      "outputs": [
        {
          "output_type": "stream",
          "name": "stdout",
          "text": [
            "Training Set Metrics:\n",
            "              precision    recall  f1-score   support\n",
            "\n",
            "           0       0.71      0.70      0.70     13336\n",
            "           1       0.70      0.71      0.71     13336\n",
            "\n",
            "    accuracy                           0.70     26672\n",
            "   macro avg       0.70      0.70      0.70     26672\n",
            "weighted avg       0.70      0.70      0.70     26672\n",
            "\n",
            "Accuracy: 0.7039967006598681\n",
            "Precision: 0.7011162859466252\n",
            "Recall: 0.7111577684463107\n",
            "F1 Score: 0.7061013289654915\n",
            "AUC: 0.7823474822132154\n",
            "\n",
            "Validation Set Metrics:\n",
            "              precision    recall  f1-score   support\n",
            "\n",
            "           0       0.61      0.62      0.61      2858\n",
            "           1       0.61      0.60      0.61      2858\n",
            "\n",
            "    accuracy                           0.61      5716\n",
            "   macro avg       0.61      0.61      0.61      5716\n",
            "weighted avg       0.61      0.61      0.61      5716\n",
            "\n",
            "Accuracy: 0.61074177746676\n",
            "Precision: 0.6120353982300885\n",
            "Recall: 0.6049685094471658\n",
            "F1 Score: 0.6084814358613408\n",
            "AUC: 0.6390791125153706\n",
            "\n",
            "Test Set Metrics:\n",
            "              precision    recall  f1-score   support\n",
            "\n",
            "           0       0.60      0.59      0.59      2858\n",
            "           1       0.60      0.60      0.60      2858\n",
            "\n",
            "    accuracy                           0.60      5716\n",
            "   macro avg       0.60      0.60      0.60      5716\n",
            "weighted avg       0.60      0.60      0.60      5716\n",
            "\n",
            "Accuracy: 0.5965710286913926\n",
            "Precision: 0.5957668285912561\n",
            "Recall: 0.6007697690692793\n",
            "F1 Score: 0.5982578397212543\n",
            "AUC: 0.626743047764467\n"
          ]
        }
      ]
    },
    {
      "cell_type": "markdown",
      "source": [
        "## 4.4 FCNN"
      ],
      "metadata": {
        "id": "sYQnWamPSwfY"
      }
    },
    {
      "cell_type": "markdown",
      "source": [
        "### Textual Features"
      ],
      "metadata": {
        "id": "DG_0qQg1TFhE"
      }
    },
    {
      "cell_type": "code",
      "source": [
        "from tensorflow.keras.models import Sequential\n",
        "from tensorflow.keras.layers import Dense, Dropout\n",
        "from sklearn.preprocessing import StandardScaler\n",
        "from tensorflow.keras.utils import to_categorical\n",
        "from sklearn.metrics import classification_report, accuracy_score, precision_score, recall_score, f1_score, roc_auc_score\n",
        "import numpy as np\n",
        "\n",
        "# 数据标准化\n",
        "scaler = StandardScaler()\n",
        "X_train_scaled = scaler.fit_transform(X_train_text_features)\n",
        "X_val_scaled = scaler.transform(X_val_text_features)\n",
        "X_test_scaled = scaler.transform(X_test_text_features)\n",
        "\n",
        "# 将目标变量编码为独热编码\n",
        "y_train_encoded = to_categorical(y_train)\n",
        "y_val_encoded = to_categorical(y_val)\n",
        "y_test_encoded = to_categorical(y_test)\n",
        "\n",
        "# 初始化神经网络模型\n",
        "model = Sequential([\n",
        "    Dense(128, activation='relu', input_dim=X_train_scaled.shape[1]),\n",
        "    Dropout(0.5),\n",
        "    Dense(64, activation='relu'),\n",
        "    Dropout(0.5),\n",
        "    Dense(2, activation='softmax')  # 输出层，因为有两个类别\n",
        "])\n",
        "\n",
        "# 编译模型\n",
        "model.compile(optimizer='adam', loss='categorical_crossentropy', metrics=['accuracy'])\n",
        "\n",
        "# 训练模型\n",
        "history = model.fit(X_train_scaled, y_train_encoded, epochs=50, batch_size=64,\n",
        "                    validation_data=(X_val_scaled, y_val_encoded))\n",
        "\n",
        "# 使用训练集、验证集和测试集进行预测\n",
        "y_train_pred_probs = model.predict(X_train_scaled)\n",
        "y_train_pred = np.argmax(y_train_pred_probs, axis=1)\n",
        "\n",
        "y_val_pred_probs = model.predict(X_val_scaled)\n",
        "y_val_pred = np.argmax(y_val_pred_probs, axis=1)\n",
        "\n",
        "y_test_pred_probs = model.predict(X_test_scaled)\n",
        "y_test_pred = np.argmax(y_test_pred_probs, axis=1)\n",
        "\n",
        "# 打印训练集的分类报告和性能指标\n",
        "print(\"Training Set Metrics:\")\n",
        "print(classification_report(y_train, y_train_pred))\n",
        "train_accuracy = accuracy_score(y_train, y_train_pred)\n",
        "train_precision = precision_score(y_train, y_train_pred, average='weighted')\n",
        "train_recall = recall_score(y_train, y_train_pred, average='weighted')\n",
        "train_f1 = f1_score(y_train, y_train_pred, average='weighted')\n",
        "train_auc = roc_auc_score(y_train_encoded[:,1], y_train_pred_probs[:,1])\n",
        "print(f\"Accuracy: {train_accuracy}\")\n",
        "print(f\"Precision: {train_precision}\")\n",
        "print(f\"Recall: {train_recall}\")\n",
        "print(f\"F1 Score: {train_f1}\")\n",
        "print(f\"AUC: {train_auc}\")\n",
        "\n",
        "# 打印验证集和测试集的性能指标\n",
        "print(\"\\nValidation Set Metrics:\")\n",
        "print(classification_report(y_val, y_val_pred))\n",
        "val_accuracy = accuracy_score(y_val, y_val_pred)\n",
        "val_precision = precision_score(y_val, y_val_pred, average='weighted')\n",
        "val_recall = recall_score(y_val, y_val_pred, average='weighted')\n",
        "val_f1 = f1_score(y_val, y_val_pred, average='weighted')\n",
        "val_auc = roc_auc_score(y_val_encoded[:,1], y_val_pred_probs[:,1])\n",
        "print(f\"Accuracy: {val_accuracy}\")\n",
        "print(f\"Precision: {val_precision}\")\n",
        "print(f\"Recall: {val_recall}\")\n",
        "print(f\"F1 Score: {val_f1}\")\n",
        "print(f\"AUC: {val_auc}\")\n",
        "\n",
        "print(\"\\nTest Set Metrics:\")\n",
        "print(classification_report(y_test, y_test_pred))\n",
        "test_accuracy = accuracy_score(y_test, y_test_pred)\n",
        "test_precision = precision_score(y_test, y_test_pred, average='weighted')\n",
        "test_recall = recall_score(y_test, y_test_pred, average='weighted')\n",
        "test_f1 = f1_score(y_test, y_test_pred, average='weighted')\n",
        "test_auc = roc_auc_score(y_test_encoded[:,1], y_test_pred_probs[:,1])\n",
        "print(f\"Accuracy: {test_accuracy}\")\n",
        "print(f\"Precision: {test_precision}\")\n",
        "print(f\"Recall: {test_recall}\")\n",
        "print(f\"F1 Score: {test_f1}\")\n",
        "print(f\"AUC: {test_auc}\")\n"
      ],
      "metadata": {
        "colab": {
          "base_uri": "https://localhost:8080/"
        },
        "id": "xm_beazrKdkw",
        "outputId": "581aaf69-948c-40f7-8b43-b734c19e6811"
      },
      "execution_count": null,
      "outputs": [
        {
          "output_type": "stream",
          "name": "stdout",
          "text": [
            "Epoch 1/50\n",
            "417/417 [==============================] - 3s 4ms/step - loss: 0.6924 - accuracy: 0.5444 - val_loss: 0.6828 - val_accuracy: 0.5593\n",
            "Epoch 2/50\n",
            "417/417 [==============================] - 1s 3ms/step - loss: 0.6859 - accuracy: 0.5552 - val_loss: 0.6813 - val_accuracy: 0.5682\n",
            "Epoch 3/50\n",
            "417/417 [==============================] - 1s 3ms/step - loss: 0.6845 - accuracy: 0.5569 - val_loss: 0.6826 - val_accuracy: 0.5591\n",
            "Epoch 4/50\n",
            "417/417 [==============================] - 1s 3ms/step - loss: 0.6842 - accuracy: 0.5585 - val_loss: 0.6805 - val_accuracy: 0.5576\n",
            "Epoch 5/50\n",
            "417/417 [==============================] - 1s 3ms/step - loss: 0.6834 - accuracy: 0.5596 - val_loss: 0.6814 - val_accuracy: 0.5679\n",
            "Epoch 6/50\n",
            "417/417 [==============================] - 1s 3ms/step - loss: 0.6829 - accuracy: 0.5604 - val_loss: 0.6810 - val_accuracy: 0.5658\n",
            "Epoch 7/50\n",
            "417/417 [==============================] - 1s 3ms/step - loss: 0.6833 - accuracy: 0.5615 - val_loss: 0.6817 - val_accuracy: 0.5588\n",
            "Epoch 8/50\n",
            "417/417 [==============================] - 1s 3ms/step - loss: 0.6832 - accuracy: 0.5593 - val_loss: 0.6801 - val_accuracy: 0.5644\n",
            "Epoch 9/50\n",
            "417/417 [==============================] - 1s 3ms/step - loss: 0.6830 - accuracy: 0.5583 - val_loss: 0.6806 - val_accuracy: 0.5642\n",
            "Epoch 10/50\n",
            "417/417 [==============================] - 1s 3ms/step - loss: 0.6826 - accuracy: 0.5626 - val_loss: 0.6814 - val_accuracy: 0.5642\n",
            "Epoch 11/50\n",
            "417/417 [==============================] - 1s 3ms/step - loss: 0.6826 - accuracy: 0.5598 - val_loss: 0.6803 - val_accuracy: 0.5679\n",
            "Epoch 12/50\n",
            "417/417 [==============================] - 1s 3ms/step - loss: 0.6823 - accuracy: 0.5601 - val_loss: 0.6801 - val_accuracy: 0.5695\n",
            "Epoch 13/50\n",
            "417/417 [==============================] - 1s 3ms/step - loss: 0.6825 - accuracy: 0.5619 - val_loss: 0.6804 - val_accuracy: 0.5717\n",
            "Epoch 14/50\n",
            "417/417 [==============================] - 1s 3ms/step - loss: 0.6821 - accuracy: 0.5610 - val_loss: 0.6799 - val_accuracy: 0.5709\n",
            "Epoch 15/50\n",
            "417/417 [==============================] - 1s 3ms/step - loss: 0.6826 - accuracy: 0.5633 - val_loss: 0.6809 - val_accuracy: 0.5668\n",
            "Epoch 16/50\n",
            "417/417 [==============================] - 1s 3ms/step - loss: 0.6829 - accuracy: 0.5599 - val_loss: 0.6799 - val_accuracy: 0.5642\n",
            "Epoch 17/50\n",
            "417/417 [==============================] - 1s 3ms/step - loss: 0.6825 - accuracy: 0.5613 - val_loss: 0.6822 - val_accuracy: 0.5661\n",
            "Epoch 18/50\n",
            "417/417 [==============================] - 1s 3ms/step - loss: 0.6820 - accuracy: 0.5637 - val_loss: 0.6805 - val_accuracy: 0.5684\n",
            "Epoch 19/50\n",
            "417/417 [==============================] - 1s 3ms/step - loss: 0.6823 - accuracy: 0.5626 - val_loss: 0.6797 - val_accuracy: 0.5707\n",
            "Epoch 20/50\n",
            "417/417 [==============================] - 1s 3ms/step - loss: 0.6816 - accuracy: 0.5627 - val_loss: 0.6817 - val_accuracy: 0.5703\n",
            "Epoch 21/50\n",
            "417/417 [==============================] - 1s 3ms/step - loss: 0.6820 - accuracy: 0.5638 - val_loss: 0.6799 - val_accuracy: 0.5658\n",
            "Epoch 22/50\n",
            "417/417 [==============================] - 1s 3ms/step - loss: 0.6820 - accuracy: 0.5629 - val_loss: 0.6803 - val_accuracy: 0.5721\n",
            "Epoch 23/50\n",
            "417/417 [==============================] - 1s 3ms/step - loss: 0.6821 - accuracy: 0.5643 - val_loss: 0.6794 - val_accuracy: 0.5684\n",
            "Epoch 24/50\n",
            "417/417 [==============================] - 1s 3ms/step - loss: 0.6822 - accuracy: 0.5636 - val_loss: 0.6792 - val_accuracy: 0.5696\n",
            "Epoch 25/50\n",
            "417/417 [==============================] - 1s 3ms/step - loss: 0.6824 - accuracy: 0.5634 - val_loss: 0.6801 - val_accuracy: 0.5710\n",
            "Epoch 26/50\n",
            "417/417 [==============================] - 1s 3ms/step - loss: 0.6820 - accuracy: 0.5604 - val_loss: 0.6793 - val_accuracy: 0.5667\n",
            "Epoch 27/50\n",
            "417/417 [==============================] - 1s 3ms/step - loss: 0.6821 - accuracy: 0.5639 - val_loss: 0.6815 - val_accuracy: 0.5647\n",
            "Epoch 28/50\n",
            "417/417 [==============================] - 1s 3ms/step - loss: 0.6823 - accuracy: 0.5631 - val_loss: 0.6797 - val_accuracy: 0.5663\n",
            "Epoch 29/50\n",
            "417/417 [==============================] - 1s 3ms/step - loss: 0.6818 - accuracy: 0.5659 - val_loss: 0.6801 - val_accuracy: 0.5670\n",
            "Epoch 30/50\n",
            "417/417 [==============================] - 1s 3ms/step - loss: 0.6816 - accuracy: 0.5642 - val_loss: 0.6798 - val_accuracy: 0.5702\n",
            "Epoch 31/50\n",
            "417/417 [==============================] - 1s 3ms/step - loss: 0.6817 - accuracy: 0.5636 - val_loss: 0.6797 - val_accuracy: 0.5649\n",
            "Epoch 32/50\n",
            "417/417 [==============================] - 1s 3ms/step - loss: 0.6821 - accuracy: 0.5644 - val_loss: 0.6804 - val_accuracy: 0.5618\n",
            "Epoch 33/50\n",
            "417/417 [==============================] - 1s 3ms/step - loss: 0.6815 - accuracy: 0.5627 - val_loss: 0.6805 - val_accuracy: 0.5703\n",
            "Epoch 34/50\n",
            "417/417 [==============================] - 1s 3ms/step - loss: 0.6823 - accuracy: 0.5626 - val_loss: 0.6798 - val_accuracy: 0.5724\n",
            "Epoch 35/50\n",
            "417/417 [==============================] - 1s 3ms/step - loss: 0.6820 - accuracy: 0.5630 - val_loss: 0.6807 - val_accuracy: 0.5702\n",
            "Epoch 36/50\n",
            "417/417 [==============================] - 1s 3ms/step - loss: 0.6817 - accuracy: 0.5618 - val_loss: 0.6805 - val_accuracy: 0.5693\n",
            "Epoch 37/50\n",
            "417/417 [==============================] - 1s 3ms/step - loss: 0.6814 - accuracy: 0.5623 - val_loss: 0.6804 - val_accuracy: 0.5682\n",
            "Epoch 38/50\n",
            "417/417 [==============================] - 1s 3ms/step - loss: 0.6824 - accuracy: 0.5625 - val_loss: 0.6799 - val_accuracy: 0.5709\n",
            "Epoch 39/50\n",
            "417/417 [==============================] - 1s 3ms/step - loss: 0.6820 - accuracy: 0.5631 - val_loss: 0.6800 - val_accuracy: 0.5649\n",
            "Epoch 40/50\n",
            "417/417 [==============================] - 1s 3ms/step - loss: 0.6822 - accuracy: 0.5636 - val_loss: 0.6806 - val_accuracy: 0.5684\n",
            "Epoch 41/50\n",
            "417/417 [==============================] - 1s 3ms/step - loss: 0.6816 - accuracy: 0.5603 - val_loss: 0.6810 - val_accuracy: 0.5719\n",
            "Epoch 42/50\n",
            "417/417 [==============================] - 1s 3ms/step - loss: 0.6815 - accuracy: 0.5624 - val_loss: 0.6798 - val_accuracy: 0.5675\n",
            "Epoch 43/50\n",
            "417/417 [==============================] - 1s 3ms/step - loss: 0.6821 - accuracy: 0.5637 - val_loss: 0.6797 - val_accuracy: 0.5675\n",
            "Epoch 44/50\n",
            "417/417 [==============================] - 1s 3ms/step - loss: 0.6818 - accuracy: 0.5664 - val_loss: 0.6801 - val_accuracy: 0.5684\n",
            "Epoch 45/50\n",
            "417/417 [==============================] - 1s 3ms/step - loss: 0.6814 - accuracy: 0.5616 - val_loss: 0.6799 - val_accuracy: 0.5703\n",
            "Epoch 46/50\n",
            "417/417 [==============================] - 1s 3ms/step - loss: 0.6807 - accuracy: 0.5628 - val_loss: 0.6794 - val_accuracy: 0.5688\n",
            "Epoch 47/50\n",
            "417/417 [==============================] - 1s 3ms/step - loss: 0.6821 - accuracy: 0.5608 - val_loss: 0.6800 - val_accuracy: 0.5663\n",
            "Epoch 48/50\n",
            "417/417 [==============================] - 1s 3ms/step - loss: 0.6814 - accuracy: 0.5622 - val_loss: 0.6805 - val_accuracy: 0.5686\n",
            "Epoch 49/50\n",
            "417/417 [==============================] - 1s 3ms/step - loss: 0.6817 - accuracy: 0.5612 - val_loss: 0.6805 - val_accuracy: 0.5695\n",
            "Epoch 50/50\n",
            "417/417 [==============================] - 1s 3ms/step - loss: 0.6817 - accuracy: 0.5654 - val_loss: 0.6807 - val_accuracy: 0.5696\n",
            "834/834 [==============================] - 1s 1ms/step\n",
            "179/179 [==============================] - 0s 1ms/step\n",
            "179/179 [==============================] - 0s 1ms/step\n",
            "Training Set Metrics:\n",
            "              precision    recall  f1-score   support\n",
            "\n",
            "           0       0.56      0.59      0.58     13336\n",
            "           1       0.57      0.54      0.55     13336\n",
            "\n",
            "    accuracy                           0.57     26672\n",
            "   macro avg       0.57      0.57      0.57     26672\n",
            "weighted avg       0.57      0.57      0.57     26672\n",
            "\n",
            "Accuracy: 0.5653869226154769\n",
            "Precision: 0.5655675709663868\n",
            "Recall: 0.5653869226154769\n",
            "F1 Score: 0.565087360461639\n",
            "AUC: 0.5941355182772683\n",
            "\n",
            "Validation Set Metrics:\n",
            "              precision    recall  f1-score   support\n",
            "\n",
            "           0       0.57      0.60      0.58      2858\n",
            "           1       0.57      0.54      0.55      2858\n",
            "\n",
            "    accuracy                           0.57      5716\n",
            "   macro avg       0.57      0.57      0.57      5716\n",
            "weighted avg       0.57      0.57      0.57      5716\n",
            "\n",
            "Accuracy: 0.56962911126662\n",
            "Precision: 0.5699382100288438\n",
            "Recall: 0.56962911126662\n",
            "F1 Score: 0.5691530687245309\n",
            "AUC: 0.5969388592099767\n",
            "\n",
            "Test Set Metrics:\n",
            "              precision    recall  f1-score   support\n",
            "\n",
            "           0       0.57      0.60      0.59      2858\n",
            "           1       0.58      0.55      0.56      2858\n",
            "\n",
            "    accuracy                           0.57      5716\n",
            "   macro avg       0.58      0.57      0.57      5716\n",
            "weighted avg       0.58      0.57      0.57      5716\n",
            "\n",
            "Accuracy: 0.5748775367389783\n",
            "Precision: 0.575095574310254\n",
            "Recall: 0.5748775367389783\n",
            "F1 Score: 0.5745687302558674\n",
            "AUC: 0.6031914883197742\n"
          ]
        }
      ]
    },
    {
      "cell_type": "markdown",
      "source": [
        "###  Add Spolier tag"
      ],
      "metadata": {
        "id": "CPaq2mkSq2Jl"
      }
    },
    {
      "cell_type": "code",
      "source": [
        "from tensorflow.keras.models import Sequential\n",
        "from tensorflow.keras.layers import Dense, Dropout\n",
        "from sklearn.preprocessing import StandardScaler\n",
        "from tensorflow.keras.utils import to_categorical\n",
        "from sklearn.metrics import classification_report, accuracy_score, precision_score, recall_score, f1_score, roc_auc_score\n",
        "import numpy as np\n",
        "\n",
        "# 数据标准化\n",
        "scaler = StandardScaler()\n",
        "X_train_scaled = scaler.fit_transform(X_train_text_spoiler)\n",
        "X_val_scaled = scaler.transform(X_val_text_spoiler)\n",
        "X_test_scaled = scaler.transform(X_test_text_spoiler)\n",
        "\n",
        "# 将目标变量编码为独热编码\n",
        "y_train_encoded = to_categorical(y_train)\n",
        "y_val_encoded = to_categorical(y_val)\n",
        "y_test_encoded = to_categorical(y_test)\n",
        "\n",
        "# 初始化神经网络模型\n",
        "model = Sequential([\n",
        "    Dense(128, activation='relu', input_dim=X_train_scaled.shape[1]),\n",
        "    Dropout(0.5),\n",
        "    Dense(64, activation='relu'),\n",
        "    Dropout(0.5),\n",
        "    Dense(2, activation='softmax')  # 输出层，因为有两个类别\n",
        "])\n",
        "\n",
        "# 编译模型\n",
        "model.compile(optimizer='adam', loss='categorical_crossentropy', metrics=['accuracy'])\n",
        "\n",
        "# 训练模型\n",
        "history = model.fit(X_train_scaled, y_train_encoded, epochs=50, batch_size=64,\n",
        "                    validation_data=(X_val_scaled, y_val_encoded))\n",
        "\n",
        "# 使用训练集、验证集和测试集进行预测\n",
        "y_train_pred_probs = model.predict(X_train_scaled)\n",
        "y_train_pred = np.argmax(y_train_pred_probs, axis=1)\n",
        "\n",
        "y_val_pred_probs = model.predict(X_val_scaled)\n",
        "y_val_pred = np.argmax(y_val_pred_probs, axis=1)\n",
        "\n",
        "y_test_pred_probs = model.predict(X_test_scaled)\n",
        "y_test_pred = np.argmax(y_test_pred_probs, axis=1)\n",
        "\n",
        "# 打印训练集的分类报告和性能指标\n",
        "print(\"Training Set Metrics:\")\n",
        "print(classification_report(y_train, y_train_pred))\n",
        "train_accuracy = accuracy_score(y_train, y_train_pred)\n",
        "train_precision = precision_score(y_train, y_train_pred, average='weighted')\n",
        "train_recall = recall_score(y_train, y_train_pred, average='weighted')\n",
        "train_f1 = f1_score(y_train, y_train_pred, average='weighted')\n",
        "train_auc = roc_auc_score(y_train_encoded[:,1], y_train_pred_probs[:,1])\n",
        "print(f\"Accuracy: {train_accuracy}\")\n",
        "print(f\"Precision: {train_precision}\")\n",
        "print(f\"Recall: {train_recall}\")\n",
        "print(f\"F1 Score: {train_f1}\")\n",
        "print(f\"AUC: {train_auc}\")\n",
        "\n",
        "# 打印验证集和测试集的性能指标\n",
        "print(\"\\nValidation Set Metrics:\")\n",
        "print(classification_report(y_val, y_val_pred))\n",
        "val_accuracy = accuracy_score(y_val, y_val_pred)\n",
        "val_precision = precision_score(y_val, y_val_pred, average='weighted')\n",
        "val_recall = recall_score(y_val, y_val_pred, average='weighted')\n",
        "val_f1 = f1_score(y_val, y_val_pred, average='weighted')\n",
        "val_auc = roc_auc_score(y_val_encoded[:,1], y_val_pred_probs[:,1])\n",
        "print(f\"Accuracy: {val_accuracy}\")\n",
        "print(f\"Precision: {val_precision}\")\n",
        "print(f\"Recall: {val_recall}\")\n",
        "print(f\"F1 Score: {val_f1}\")\n",
        "print(f\"AUC: {val_auc}\")\n",
        "\n",
        "print(\"\\nTest Set Metrics:\")\n",
        "print(classification_report(y_test, y_test_pred))\n",
        "test_accuracy = accuracy_score(y_test, y_test_pred)\n",
        "test_precision = precision_score(y_test, y_test_pred, average='weighted')\n",
        "test_recall = recall_score(y_test, y_test_pred, average='weighted')\n",
        "test_f1 = f1_score(y_test, y_test_pred, average='weighted')\n",
        "test_auc = roc_auc_score(y_test_encoded[:,1], y_test_pred_probs[:,1])\n",
        "print(f\"Accuracy: {test_accuracy}\")\n",
        "print(f\"Precision: {test_precision}\")\n",
        "print(f\"Recall: {test_recall}\")\n",
        "print(f\"F1 Score: {test_f1}\")\n",
        "print(f\"AUC: {test_auc}\")\n"
      ],
      "metadata": {
        "colab": {
          "base_uri": "https://localhost:8080/"
        },
        "id": "SWRNC9yoJvDs",
        "outputId": "341691a0-daa7-4b24-d44a-459c29de68c5"
      },
      "execution_count": null,
      "outputs": [
        {
          "output_type": "stream",
          "name": "stdout",
          "text": [
            "Epoch 1/50\n",
            "417/417 [==============================] - 3s 4ms/step - loss: 0.6906 - accuracy: 0.5497 - val_loss: 0.6768 - val_accuracy: 0.5751\n",
            "Epoch 2/50\n",
            "417/417 [==============================] - 1s 3ms/step - loss: 0.6830 - accuracy: 0.5649 - val_loss: 0.6772 - val_accuracy: 0.5751\n",
            "Epoch 3/50\n",
            "417/417 [==============================] - 1s 3ms/step - loss: 0.6810 - accuracy: 0.5653 - val_loss: 0.6758 - val_accuracy: 0.5782\n",
            "Epoch 4/50\n",
            "417/417 [==============================] - 1s 3ms/step - loss: 0.6804 - accuracy: 0.5677 - val_loss: 0.6774 - val_accuracy: 0.5751\n",
            "Epoch 5/50\n",
            "417/417 [==============================] - 2s 4ms/step - loss: 0.6793 - accuracy: 0.5699 - val_loss: 0.6752 - val_accuracy: 0.5751\n",
            "Epoch 6/50\n",
            "417/417 [==============================] - 1s 3ms/step - loss: 0.6795 - accuracy: 0.5694 - val_loss: 0.6752 - val_accuracy: 0.5812\n",
            "Epoch 7/50\n",
            "417/417 [==============================] - 1s 3ms/step - loss: 0.6793 - accuracy: 0.5674 - val_loss: 0.6768 - val_accuracy: 0.5801\n",
            "Epoch 8/50\n",
            "417/417 [==============================] - 1s 3ms/step - loss: 0.6791 - accuracy: 0.5724 - val_loss: 0.6748 - val_accuracy: 0.5745\n",
            "Epoch 9/50\n",
            "417/417 [==============================] - 1s 3ms/step - loss: 0.6793 - accuracy: 0.5715 - val_loss: 0.6759 - val_accuracy: 0.5779\n",
            "Epoch 10/50\n",
            "417/417 [==============================] - 1s 3ms/step - loss: 0.6794 - accuracy: 0.5686 - val_loss: 0.6770 - val_accuracy: 0.5763\n",
            "Epoch 11/50\n",
            "417/417 [==============================] - 1s 3ms/step - loss: 0.6794 - accuracy: 0.5704 - val_loss: 0.6742 - val_accuracy: 0.5807\n",
            "Epoch 12/50\n",
            "417/417 [==============================] - 1s 3ms/step - loss: 0.6794 - accuracy: 0.5710 - val_loss: 0.6746 - val_accuracy: 0.5772\n",
            "Epoch 13/50\n",
            "417/417 [==============================] - 1s 3ms/step - loss: 0.6788 - accuracy: 0.5701 - val_loss: 0.6749 - val_accuracy: 0.5801\n",
            "Epoch 14/50\n",
            "417/417 [==============================] - 1s 3ms/step - loss: 0.6789 - accuracy: 0.5694 - val_loss: 0.6771 - val_accuracy: 0.5737\n",
            "Epoch 15/50\n",
            "417/417 [==============================] - 1s 3ms/step - loss: 0.6796 - accuracy: 0.5699 - val_loss: 0.6749 - val_accuracy: 0.5784\n",
            "Epoch 16/50\n",
            "417/417 [==============================] - 1s 3ms/step - loss: 0.6791 - accuracy: 0.5728 - val_loss: 0.6759 - val_accuracy: 0.5782\n",
            "Epoch 17/50\n",
            "417/417 [==============================] - 1s 3ms/step - loss: 0.6790 - accuracy: 0.5710 - val_loss: 0.6777 - val_accuracy: 0.5766\n",
            "Epoch 18/50\n",
            "417/417 [==============================] - 1s 3ms/step - loss: 0.6785 - accuracy: 0.5732 - val_loss: 0.6767 - val_accuracy: 0.5752\n",
            "Epoch 19/50\n",
            "417/417 [==============================] - 1s 3ms/step - loss: 0.6791 - accuracy: 0.5703 - val_loss: 0.6758 - val_accuracy: 0.5800\n",
            "Epoch 20/50\n",
            "417/417 [==============================] - 1s 3ms/step - loss: 0.6787 - accuracy: 0.5701 - val_loss: 0.6779 - val_accuracy: 0.5805\n",
            "Epoch 21/50\n",
            "417/417 [==============================] - 1s 3ms/step - loss: 0.6783 - accuracy: 0.5707 - val_loss: 0.6747 - val_accuracy: 0.5824\n",
            "Epoch 22/50\n",
            "417/417 [==============================] - 1s 3ms/step - loss: 0.6790 - accuracy: 0.5703 - val_loss: 0.6766 - val_accuracy: 0.5829\n",
            "Epoch 23/50\n",
            "417/417 [==============================] - 1s 3ms/step - loss: 0.6783 - accuracy: 0.5733 - val_loss: 0.6765 - val_accuracy: 0.5772\n",
            "Epoch 24/50\n",
            "417/417 [==============================] - 1s 3ms/step - loss: 0.6780 - accuracy: 0.5716 - val_loss: 0.6758 - val_accuracy: 0.5794\n",
            "Epoch 25/50\n",
            "417/417 [==============================] - 1s 3ms/step - loss: 0.6789 - accuracy: 0.5695 - val_loss: 0.6754 - val_accuracy: 0.5803\n",
            "Epoch 26/50\n",
            "417/417 [==============================] - 1s 3ms/step - loss: 0.6783 - accuracy: 0.5751 - val_loss: 0.6763 - val_accuracy: 0.5810\n",
            "Epoch 27/50\n",
            "417/417 [==============================] - 1s 3ms/step - loss: 0.6783 - accuracy: 0.5743 - val_loss: 0.6748 - val_accuracy: 0.5770\n",
            "Epoch 28/50\n",
            "417/417 [==============================] - 1s 3ms/step - loss: 0.6780 - accuracy: 0.5702 - val_loss: 0.6746 - val_accuracy: 0.5829\n",
            "Epoch 29/50\n",
            "417/417 [==============================] - 1s 3ms/step - loss: 0.6793 - accuracy: 0.5724 - val_loss: 0.6750 - val_accuracy: 0.5815\n",
            "Epoch 30/50\n",
            "417/417 [==============================] - 1s 3ms/step - loss: 0.6778 - accuracy: 0.5723 - val_loss: 0.6741 - val_accuracy: 0.5822\n",
            "Epoch 31/50\n",
            "417/417 [==============================] - 1s 3ms/step - loss: 0.6787 - accuracy: 0.5713 - val_loss: 0.6748 - val_accuracy: 0.5836\n",
            "Epoch 32/50\n",
            "417/417 [==============================] - 1s 3ms/step - loss: 0.6784 - accuracy: 0.5710 - val_loss: 0.6742 - val_accuracy: 0.5807\n",
            "Epoch 33/50\n",
            "417/417 [==============================] - 1s 3ms/step - loss: 0.6788 - accuracy: 0.5703 - val_loss: 0.6747 - val_accuracy: 0.5803\n",
            "Epoch 34/50\n",
            "417/417 [==============================] - 1s 3ms/step - loss: 0.6782 - accuracy: 0.5745 - val_loss: 0.6754 - val_accuracy: 0.5787\n",
            "Epoch 35/50\n",
            "417/417 [==============================] - 1s 3ms/step - loss: 0.6780 - accuracy: 0.5740 - val_loss: 0.6739 - val_accuracy: 0.5807\n",
            "Epoch 36/50\n",
            "417/417 [==============================] - 1s 3ms/step - loss: 0.6785 - accuracy: 0.5735 - val_loss: 0.6741 - val_accuracy: 0.5805\n",
            "Epoch 37/50\n",
            "417/417 [==============================] - 1s 3ms/step - loss: 0.6782 - accuracy: 0.5718 - val_loss: 0.6752 - val_accuracy: 0.5852\n",
            "Epoch 38/50\n",
            "417/417 [==============================] - 1s 3ms/step - loss: 0.6789 - accuracy: 0.5713 - val_loss: 0.6736 - val_accuracy: 0.5875\n",
            "Epoch 39/50\n",
            "417/417 [==============================] - 1s 3ms/step - loss: 0.6786 - accuracy: 0.5717 - val_loss: 0.6757 - val_accuracy: 0.5828\n",
            "Epoch 40/50\n",
            "417/417 [==============================] - 1s 3ms/step - loss: 0.6781 - accuracy: 0.5745 - val_loss: 0.6747 - val_accuracy: 0.5815\n",
            "Epoch 41/50\n",
            "417/417 [==============================] - 1s 3ms/step - loss: 0.6782 - accuracy: 0.5731 - val_loss: 0.6748 - val_accuracy: 0.5803\n",
            "Epoch 42/50\n",
            "417/417 [==============================] - 1s 3ms/step - loss: 0.6779 - accuracy: 0.5750 - val_loss: 0.6748 - val_accuracy: 0.5808\n",
            "Epoch 43/50\n",
            "417/417 [==============================] - 1s 3ms/step - loss: 0.6789 - accuracy: 0.5700 - val_loss: 0.6745 - val_accuracy: 0.5791\n",
            "Epoch 44/50\n",
            "417/417 [==============================] - 1s 3ms/step - loss: 0.6781 - accuracy: 0.5735 - val_loss: 0.6748 - val_accuracy: 0.5798\n",
            "Epoch 45/50\n",
            "417/417 [==============================] - 1s 3ms/step - loss: 0.6783 - accuracy: 0.5722 - val_loss: 0.6750 - val_accuracy: 0.5779\n",
            "Epoch 46/50\n",
            "417/417 [==============================] - 1s 3ms/step - loss: 0.6773 - accuracy: 0.5719 - val_loss: 0.6736 - val_accuracy: 0.5828\n",
            "Epoch 47/50\n",
            "417/417 [==============================] - 1s 3ms/step - loss: 0.6773 - accuracy: 0.5726 - val_loss: 0.6752 - val_accuracy: 0.5852\n",
            "Epoch 48/50\n",
            "417/417 [==============================] - 1s 3ms/step - loss: 0.6776 - accuracy: 0.5742 - val_loss: 0.6750 - val_accuracy: 0.5875\n",
            "Epoch 49/50\n",
            "417/417 [==============================] - 1s 3ms/step - loss: 0.6782 - accuracy: 0.5735 - val_loss: 0.6752 - val_accuracy: 0.5812\n",
            "Epoch 50/50\n",
            "417/417 [==============================] - 1s 3ms/step - loss: 0.6774 - accuracy: 0.5738 - val_loss: 0.6749 - val_accuracy: 0.5793\n",
            "834/834 [==============================] - 1s 1ms/step\n",
            "179/179 [==============================] - 0s 1ms/step\n",
            "179/179 [==============================] - 0s 1ms/step\n",
            "Training Set Metrics:\n",
            "              precision    recall  f1-score   support\n",
            "\n",
            "           0       0.57      0.59      0.58     13336\n",
            "           1       0.58      0.56      0.57     13336\n",
            "\n",
            "    accuracy                           0.58     26672\n",
            "   macro avg       0.58      0.58      0.58     26672\n",
            "weighted avg       0.58      0.58      0.58     26672\n",
            "\n",
            "Accuracy: 0.5752849430113978\n",
            "Precision: 0.5753210532962109\n",
            "Recall: 0.5752849430113978\n",
            "F1 Score: 0.5752340328761152\n",
            "AUC: 0.6077139691662747\n",
            "\n",
            "Validation Set Metrics:\n",
            "              precision    recall  f1-score   support\n",
            "\n",
            "           0       0.58      0.59      0.59      2858\n",
            "           1       0.58      0.56      0.57      2858\n",
            "\n",
            "    accuracy                           0.58      5716\n",
            "   macro avg       0.58      0.58      0.58      5716\n",
            "weighted avg       0.58      0.58      0.58      5716\n",
            "\n",
            "Accuracy: 0.5792512246326103\n",
            "Precision: 0.5793247306109419\n",
            "Recall: 0.5792512246326103\n",
            "F1 Score: 0.5791537307094881\n",
            "AUC: 0.6127528781253657\n",
            "\n",
            "Test Set Metrics:\n",
            "              precision    recall  f1-score   support\n",
            "\n",
            "           0       0.58      0.59      0.58      2858\n",
            "           1       0.58      0.58      0.58      2858\n",
            "\n",
            "    accuracy                           0.58      5716\n",
            "   macro avg       0.58      0.58      0.58      5716\n",
            "weighted avg       0.58      0.58      0.58      5716\n",
            "\n",
            "Accuracy: 0.5815255423372988\n",
            "Precision: 0.5815295348886182\n",
            "Recall: 0.5815255423372988\n",
            "F1 Score: 0.5815204190368735\n",
            "AUC: 0.6099048696867497\n"
          ]
        }
      ]
    },
    {
      "cell_type": "markdown",
      "source": [
        "### Add Sentiment Features"
      ],
      "metadata": {
        "id": "Mb3JyGtdq72q"
      }
    },
    {
      "cell_type": "code",
      "source": [
        "from tensorflow.keras.models import Sequential\n",
        "from tensorflow.keras.layers import Dense, Dropout\n",
        "from sklearn.preprocessing import StandardScaler\n",
        "from tensorflow.keras.utils import to_categorical\n",
        "from sklearn.metrics import classification_report, accuracy_score, precision_score, recall_score, f1_score, roc_auc_score\n",
        "import numpy as np\n",
        "\n",
        "# 数据标准化\n",
        "scaler = StandardScaler()\n",
        "X_train_scaled = scaler.fit_transform(X_train_three)\n",
        "X_val_scaled = scaler.transform(X_val_three)\n",
        "X_test_scaled = scaler.transform(X_test_three)\n",
        "\n",
        "# 将目标变量编码为独热编码\n",
        "y_train_encoded = to_categorical(y_train)\n",
        "y_val_encoded = to_categorical(y_val)\n",
        "y_test_encoded = to_categorical(y_test)\n",
        "\n",
        "# 初始化神经网络模型\n",
        "model = Sequential([\n",
        "    Dense(128, activation='relu', input_dim=X_train_scaled.shape[1]),\n",
        "    Dropout(0.5),\n",
        "    Dense(64, activation='relu'),\n",
        "    Dropout(0.5),\n",
        "    Dense(2, activation='softmax')  # 输出层，因为有两个类别\n",
        "])\n",
        "\n",
        "# 编译模型\n",
        "model.compile(optimizer='adam', loss='categorical_crossentropy', metrics=['accuracy'])\n",
        "\n",
        "# 训练模型\n",
        "history = model.fit(X_train_scaled, y_train_encoded, epochs=50, batch_size=64,\n",
        "                    validation_data=(X_val_scaled, y_val_encoded))\n",
        "\n",
        "# 使用训练集、验证集和测试集进行预测\n",
        "y_train_pred_probs = model.predict(X_train_scaled)\n",
        "y_train_pred = np.argmax(y_train_pred_probs, axis=1)\n",
        "\n",
        "y_val_pred_probs = model.predict(X_val_scaled)\n",
        "y_val_pred = np.argmax(y_val_pred_probs, axis=1)\n",
        "\n",
        "y_test_pred_probs = model.predict(X_test_scaled)\n",
        "y_test_pred = np.argmax(y_test_pred_probs, axis=1)\n",
        "\n",
        "# 打印训练集的分类报告和性能指标\n",
        "print(\"Training Set Metrics:\")\n",
        "print(classification_report(y_train, y_train_pred))\n",
        "train_accuracy = accuracy_score(y_train, y_train_pred)\n",
        "train_precision = precision_score(y_train, y_train_pred, average='weighted')\n",
        "train_recall = recall_score(y_train, y_train_pred, average='weighted')\n",
        "train_f1 = f1_score(y_train, y_train_pred, average='weighted')\n",
        "train_auc = roc_auc_score(y_train_encoded[:,1], y_train_pred_probs[:,1])\n",
        "print(f\"Accuracy: {train_accuracy}\")\n",
        "print(f\"Precision: {train_precision}\")\n",
        "print(f\"Recall: {train_recall}\")\n",
        "print(f\"F1 Score: {train_f1}\")\n",
        "print(f\"AUC: {train_auc}\")\n",
        "\n",
        "# 打印验证集和测试集的性能指标\n",
        "print(\"\\nValidation Set Metrics:\")\n",
        "print(classification_report(y_val, y_val_pred))\n",
        "val_accuracy = accuracy_score(y_val, y_val_pred)\n",
        "val_precision = precision_score(y_val, y_val_pred, average='weighted')\n",
        "val_recall = recall_score(y_val, y_val_pred, average='weighted')\n",
        "val_f1 = f1_score(y_val, y_val_pred, average='weighted')\n",
        "val_auc = roc_auc_score(y_val_encoded[:,1], y_val_pred_probs[:,1])\n",
        "print(f\"Accuracy: {val_accuracy}\")\n",
        "print(f\"Precision: {val_precision}\")\n",
        "print(f\"Recall: {val_recall}\")\n",
        "print(f\"F1 Score: {val_f1}\")\n",
        "print(f\"AUC: {val_auc}\")\n",
        "\n",
        "print(\"\\nTest Set Metrics:\")\n",
        "print(classification_report(y_test, y_test_pred))\n",
        "test_accuracy = accuracy_score(y_test, y_test_pred)\n",
        "test_precision = precision_score(y_test, y_test_pred, average='weighted')\n",
        "test_recall = recall_score(y_test, y_test_pred, average='weighted')\n",
        "test_f1 = f1_score(y_test, y_test_pred, average='weighted')\n",
        "test_auc = roc_auc_score(y_test_encoded[:,1], y_test_pred_probs[:,1])\n",
        "print(f\"Accuracy: {test_accuracy}\")\n",
        "print(f\"Precision: {test_precision}\")\n",
        "print(f\"Recall: {test_recall}\")\n",
        "print(f\"F1 Score: {test_f1}\")\n",
        "print(f\"AUC: {test_auc}\")\n"
      ],
      "metadata": {
        "colab": {
          "base_uri": "https://localhost:8080/"
        },
        "id": "TwJWgGQ_LR-t",
        "outputId": "319066e8-a82b-4d5b-ff3d-d6ac50aa6cae"
      },
      "execution_count": null,
      "outputs": [
        {
          "output_type": "stream",
          "name": "stdout",
          "text": [
            "Epoch 1/50\n",
            "417/417 [==============================] - 3s 4ms/step - loss: 0.6890 - accuracy: 0.5630 - val_loss: 0.6692 - val_accuracy: 0.6060\n",
            "Epoch 2/50\n",
            "417/417 [==============================] - 1s 3ms/step - loss: 0.6746 - accuracy: 0.5867 - val_loss: 0.6676 - val_accuracy: 0.6106\n",
            "Epoch 3/50\n",
            "417/417 [==============================] - 1s 3ms/step - loss: 0.6742 - accuracy: 0.5862 - val_loss: 0.6655 - val_accuracy: 0.6057\n",
            "Epoch 4/50\n",
            "417/417 [==============================] - 1s 3ms/step - loss: 0.6726 - accuracy: 0.5873 - val_loss: 0.6674 - val_accuracy: 0.6092\n",
            "Epoch 5/50\n",
            "417/417 [==============================] - 1s 3ms/step - loss: 0.6723 - accuracy: 0.5880 - val_loss: 0.6674 - val_accuracy: 0.6092\n",
            "Epoch 6/50\n",
            "417/417 [==============================] - 1s 3ms/step - loss: 0.6713 - accuracy: 0.5901 - val_loss: 0.6645 - val_accuracy: 0.6090\n",
            "Epoch 7/50\n",
            "417/417 [==============================] - 1s 3ms/step - loss: 0.6708 - accuracy: 0.5929 - val_loss: 0.6658 - val_accuracy: 0.6102\n",
            "Epoch 8/50\n",
            "417/417 [==============================] - 1s 3ms/step - loss: 0.6709 - accuracy: 0.5899 - val_loss: 0.6660 - val_accuracy: 0.6081\n",
            "Epoch 9/50\n",
            "417/417 [==============================] - 1s 3ms/step - loss: 0.6701 - accuracy: 0.5899 - val_loss: 0.6641 - val_accuracy: 0.6104\n",
            "Epoch 10/50\n",
            "417/417 [==============================] - 1s 3ms/step - loss: 0.6708 - accuracy: 0.5909 - val_loss: 0.6647 - val_accuracy: 0.6093\n",
            "Epoch 11/50\n",
            "417/417 [==============================] - 1s 3ms/step - loss: 0.6704 - accuracy: 0.5900 - val_loss: 0.6637 - val_accuracy: 0.6072\n",
            "Epoch 12/50\n",
            "417/417 [==============================] - 1s 3ms/step - loss: 0.6704 - accuracy: 0.5903 - val_loss: 0.6652 - val_accuracy: 0.6060\n",
            "Epoch 13/50\n",
            "417/417 [==============================] - 1s 3ms/step - loss: 0.6691 - accuracy: 0.5931 - val_loss: 0.6650 - val_accuracy: 0.6104\n",
            "Epoch 14/50\n",
            "417/417 [==============================] - 1s 3ms/step - loss: 0.6694 - accuracy: 0.5929 - val_loss: 0.6658 - val_accuracy: 0.6116\n",
            "Epoch 15/50\n",
            "417/417 [==============================] - 1s 3ms/step - loss: 0.6691 - accuracy: 0.5896 - val_loss: 0.6639 - val_accuracy: 0.6116\n",
            "Epoch 16/50\n",
            "417/417 [==============================] - 1s 3ms/step - loss: 0.6692 - accuracy: 0.5943 - val_loss: 0.6648 - val_accuracy: 0.6130\n",
            "Epoch 17/50\n",
            "417/417 [==============================] - 1s 3ms/step - loss: 0.6699 - accuracy: 0.5938 - val_loss: 0.6625 - val_accuracy: 0.6120\n",
            "Epoch 18/50\n",
            "417/417 [==============================] - 1s 3ms/step - loss: 0.6683 - accuracy: 0.5931 - val_loss: 0.6639 - val_accuracy: 0.6114\n",
            "Epoch 19/50\n",
            "417/417 [==============================] - 1s 3ms/step - loss: 0.6694 - accuracy: 0.5922 - val_loss: 0.6628 - val_accuracy: 0.6169\n",
            "Epoch 20/50\n",
            "417/417 [==============================] - 1s 3ms/step - loss: 0.6690 - accuracy: 0.5916 - val_loss: 0.6634 - val_accuracy: 0.6125\n",
            "Epoch 21/50\n",
            "417/417 [==============================] - 1s 3ms/step - loss: 0.6697 - accuracy: 0.5930 - val_loss: 0.6638 - val_accuracy: 0.6141\n",
            "Epoch 22/50\n",
            "417/417 [==============================] - 1s 3ms/step - loss: 0.6697 - accuracy: 0.5925 - val_loss: 0.6616 - val_accuracy: 0.6148\n",
            "Epoch 23/50\n",
            "417/417 [==============================] - 1s 3ms/step - loss: 0.6691 - accuracy: 0.5938 - val_loss: 0.6628 - val_accuracy: 0.6135\n",
            "Epoch 24/50\n",
            "417/417 [==============================] - 1s 3ms/step - loss: 0.6692 - accuracy: 0.5951 - val_loss: 0.6615 - val_accuracy: 0.6167\n",
            "Epoch 25/50\n",
            "417/417 [==============================] - 1s 3ms/step - loss: 0.6694 - accuracy: 0.5920 - val_loss: 0.6635 - val_accuracy: 0.6144\n",
            "Epoch 26/50\n",
            "417/417 [==============================] - 1s 3ms/step - loss: 0.6689 - accuracy: 0.5926 - val_loss: 0.6641 - val_accuracy: 0.6151\n",
            "Epoch 27/50\n",
            "417/417 [==============================] - 1s 3ms/step - loss: 0.6685 - accuracy: 0.5934 - val_loss: 0.6616 - val_accuracy: 0.6135\n",
            "Epoch 28/50\n",
            "417/417 [==============================] - 1s 3ms/step - loss: 0.6691 - accuracy: 0.5943 - val_loss: 0.6630 - val_accuracy: 0.6153\n",
            "Epoch 29/50\n",
            "417/417 [==============================] - 1s 3ms/step - loss: 0.6692 - accuracy: 0.5918 - val_loss: 0.6635 - val_accuracy: 0.6142\n",
            "Epoch 30/50\n",
            "417/417 [==============================] - 1s 3ms/step - loss: 0.6693 - accuracy: 0.5926 - val_loss: 0.6622 - val_accuracy: 0.6155\n",
            "Epoch 31/50\n",
            "417/417 [==============================] - 1s 3ms/step - loss: 0.6689 - accuracy: 0.5964 - val_loss: 0.6632 - val_accuracy: 0.6137\n",
            "Epoch 32/50\n",
            "417/417 [==============================] - 1s 3ms/step - loss: 0.6686 - accuracy: 0.5942 - val_loss: 0.6654 - val_accuracy: 0.6160\n",
            "Epoch 33/50\n",
            "417/417 [==============================] - 1s 3ms/step - loss: 0.6677 - accuracy: 0.5966 - val_loss: 0.6633 - val_accuracy: 0.6132\n",
            "Epoch 34/50\n",
            "417/417 [==============================] - 1s 3ms/step - loss: 0.6685 - accuracy: 0.5935 - val_loss: 0.6643 - val_accuracy: 0.6169\n",
            "Epoch 35/50\n",
            "417/417 [==============================] - 1s 3ms/step - loss: 0.6676 - accuracy: 0.5947 - val_loss: 0.6621 - val_accuracy: 0.6163\n",
            "Epoch 36/50\n",
            "417/417 [==============================] - 1s 3ms/step - loss: 0.6695 - accuracy: 0.5959 - val_loss: 0.6634 - val_accuracy: 0.6118\n",
            "Epoch 37/50\n",
            "417/417 [==============================] - 1s 3ms/step - loss: 0.6677 - accuracy: 0.5956 - val_loss: 0.6615 - val_accuracy: 0.6176\n",
            "Epoch 38/50\n",
            "417/417 [==============================] - 1s 3ms/step - loss: 0.6676 - accuracy: 0.5947 - val_loss: 0.6633 - val_accuracy: 0.6156\n",
            "Epoch 39/50\n",
            "417/417 [==============================] - 1s 3ms/step - loss: 0.6676 - accuracy: 0.5957 - val_loss: 0.6628 - val_accuracy: 0.6106\n",
            "Epoch 40/50\n",
            "417/417 [==============================] - 1s 3ms/step - loss: 0.6672 - accuracy: 0.5957 - val_loss: 0.6640 - val_accuracy: 0.6153\n",
            "Epoch 41/50\n",
            "417/417 [==============================] - 1s 3ms/step - loss: 0.6682 - accuracy: 0.5938 - val_loss: 0.6625 - val_accuracy: 0.6160\n",
            "Epoch 42/50\n",
            "417/417 [==============================] - 1s 3ms/step - loss: 0.6674 - accuracy: 0.5957 - val_loss: 0.6628 - val_accuracy: 0.6081\n",
            "Epoch 43/50\n",
            "417/417 [==============================] - 1s 3ms/step - loss: 0.6669 - accuracy: 0.5946 - val_loss: 0.6640 - val_accuracy: 0.6148\n",
            "Epoch 44/50\n",
            "417/417 [==============================] - 1s 3ms/step - loss: 0.6683 - accuracy: 0.5973 - val_loss: 0.6636 - val_accuracy: 0.6144\n",
            "Epoch 45/50\n",
            "417/417 [==============================] - 1s 3ms/step - loss: 0.6683 - accuracy: 0.5931 - val_loss: 0.6637 - val_accuracy: 0.6190\n",
            "Epoch 46/50\n",
            "417/417 [==============================] - 1s 3ms/step - loss: 0.6680 - accuracy: 0.5943 - val_loss: 0.6617 - val_accuracy: 0.6158\n",
            "Epoch 47/50\n",
            "417/417 [==============================] - 1s 3ms/step - loss: 0.6684 - accuracy: 0.5940 - val_loss: 0.6624 - val_accuracy: 0.6158\n",
            "Epoch 48/50\n",
            "417/417 [==============================] - 1s 3ms/step - loss: 0.6671 - accuracy: 0.5919 - val_loss: 0.6640 - val_accuracy: 0.6184\n",
            "Epoch 49/50\n",
            "417/417 [==============================] - 1s 3ms/step - loss: 0.6673 - accuracy: 0.5963 - val_loss: 0.6625 - val_accuracy: 0.6125\n",
            "Epoch 50/50\n",
            "417/417 [==============================] - 1s 3ms/step - loss: 0.6673 - accuracy: 0.5961 - val_loss: 0.6620 - val_accuracy: 0.6139\n",
            "834/834 [==============================] - 1s 1ms/step\n",
            "179/179 [==============================] - 0s 1ms/step\n",
            "179/179 [==============================] - 0s 1ms/step\n",
            "Training Set Metrics:\n",
            "              precision    recall  f1-score   support\n",
            "\n",
            "           0       0.59      0.62      0.61     13336\n",
            "           1       0.60      0.58      0.59     13336\n",
            "\n",
            "    accuracy                           0.60     26672\n",
            "   macro avg       0.60      0.60      0.60     26672\n",
            "weighted avg       0.60      0.60      0.60     26672\n",
            "\n",
            "Accuracy: 0.5980803839232154\n",
            "Precision: 0.5982285832483972\n",
            "Recall: 0.5980803839232154\n",
            "F1 Score: 0.5979287307872292\n",
            "AUC: 0.6382964109037821\n",
            "\n",
            "Validation Set Metrics:\n",
            "              precision    recall  f1-score   support\n",
            "\n",
            "           0       0.61      0.63      0.62      2858\n",
            "           1       0.62      0.60      0.61      2858\n",
            "\n",
            "    accuracy                           0.61      5716\n",
            "   macro avg       0.61      0.61      0.61      5716\n",
            "weighted avg       0.61      0.61      0.61      5716\n",
            "\n",
            "Accuracy: 0.613890832750175\n",
            "Precision: 0.6140506932018588\n",
            "Recall: 0.613890832750175\n",
            "F1 Score: 0.6137554867460961\n",
            "AUC: 0.6451455920816477\n",
            "\n",
            "Test Set Metrics:\n",
            "              precision    recall  f1-score   support\n",
            "\n",
            "           0       0.60      0.62      0.61      2858\n",
            "           1       0.61      0.59      0.60      2858\n",
            "\n",
            "    accuracy                           0.60      5716\n",
            "   macro avg       0.60      0.60      0.60      5716\n",
            "weighted avg       0.60      0.60      0.60      5716\n",
            "\n",
            "Accuracy: 0.6039188243526942\n",
            "Precision: 0.6040003116973243\n",
            "Recall: 0.6039188243526942\n",
            "F1 Score: 0.6038412237998747\n",
            "AUC: 0.636269546008136\n"
          ]
        }
      ]
    },
    {
      "cell_type": "markdown",
      "source": [
        "## 3.1 Textual Feature Set"
      ],
      "metadata": {
        "id": "bDeQoaxfSwpT"
      }
    },
    {
      "cell_type": "markdown",
      "source": [
        "### Textual Features"
      ],
      "metadata": {
        "id": "5nbTft2jTF5u"
      }
    },
    {
      "cell_type": "markdown",
      "source": [
        "###  Add Spolier tag"
      ],
      "metadata": {
        "id": "rbqcI-Rqq2pK"
      }
    },
    {
      "cell_type": "markdown",
      "source": [
        "### Add Sentiment Features"
      ],
      "metadata": {
        "id": "QU7avzc2q8nr"
      }
    },
    {
      "cell_type": "markdown",
      "source": [
        "## 3.1 Textual Feature Set"
      ],
      "metadata": {
        "id": "3YF1S7CASwv2"
      }
    },
    {
      "cell_type": "markdown",
      "source": [
        "### Textual Features"
      ],
      "metadata": {
        "id": "ixpQPO_ZTGeC"
      }
    },
    {
      "cell_type": "markdown",
      "source": [
        "###  Add Spolier tag"
      ],
      "metadata": {
        "id": "_DCa5jykq3M1"
      }
    },
    {
      "cell_type": "markdown",
      "source": [
        "### Add Sentiment Features"
      ],
      "metadata": {
        "id": "JEWZCRdjq9Lz"
      }
    }
  ]
}